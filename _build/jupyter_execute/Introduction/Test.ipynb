{
 "cells": [
  {
   "cell_type": "markdown",
   "metadata": {},
   "source": [
    "# Test"
   ]
  },
  {
   "cell_type": "code",
   "execution_count": 1,
   "metadata": {},
   "outputs": [],
   "source": [
    "from netgen.geom2d import unit_square\n",
    "from ngsolve import *\n",
    "from ngsolve.webgui import Draw"
   ]
  },
  {
   "cell_type": "code",
   "execution_count": 2,
   "metadata": {},
   "outputs": [],
   "source": [
    "mesh = Mesh(unit_square.GenerateMesh(maxh=1/3))"
   ]
  },
  {
   "cell_type": "code",
   "execution_count": 3,
   "metadata": {},
   "outputs": [
    {
     "data": {
      "application/vnd.jupyter.widget-view+json": {
       "model_id": "d3af91419f424f979bcfa863a950e221",
       "version_major": 2,
       "version_minor": 0
      },
      "text/plain": [
       "WebGuiWidget(value={'ngsolve_version': '6.2.2104-121-gee6902d12', 'mesh_dim': 2, 'order2d': 1, 'order3d': 1, '…"
      ]
     },
     "metadata": {},
     "output_type": "display_data"
    }
   ],
   "source": [
    "Draw(mesh);"
   ]
  },
  {
   "cell_type": "code",
   "execution_count": null,
   "metadata": {},
   "outputs": [],
   "source": []
  }
 ],
 "metadata": {
  "kernelspec": {
   "display_name": "Python 3",
   "language": "python",
   "name": "python3"
  },
  "language_info": {
   "codemirror_mode": {
    "name": "ipython",
    "version": 3
   },
   "file_extension": ".py",
   "mimetype": "text/x-python",
   "name": "python",
   "nbconvert_exporter": "python",
   "pygments_lexer": "ipython3",
   "version": "3.8.1"
  },
  "widgets": {
   "application/vnd.jupyter.widget-state+json": {
    "state": {
     "add6ec04371349c9ab2ca5cf71ecb73b": {
      "model_module": "@jupyter-widgets/base",
      "model_module_version": "1.2.0",
      "model_name": "LayoutModel",
      "state": {
       "_model_module": "@jupyter-widgets/base",
       "_model_module_version": "1.2.0",
       "_model_name": "LayoutModel",
       "_view_count": null,
       "_view_module": "@jupyter-widgets/base",
       "_view_module_version": "1.2.0",
       "_view_name": "LayoutView",
       "align_content": null,
       "align_items": null,
       "align_self": null,
       "border": null,
       "bottom": null,
       "display": null,
       "flex": null,
       "flex_flow": null,
       "grid_area": null,
       "grid_auto_columns": null,
       "grid_auto_flow": null,
       "grid_auto_rows": null,
       "grid_column": null,
       "grid_gap": null,
       "grid_row": null,
       "grid_template_areas": null,
       "grid_template_columns": null,
       "grid_template_rows": null,
       "height": null,
       "justify_content": null,
       "justify_items": null,
       "left": null,
       "margin": null,
       "max_height": null,
       "max_width": null,
       "min_height": null,
       "min_width": null,
       "object_fit": null,
       "object_position": null,
       "order": null,
       "overflow": null,
       "overflow_x": null,
       "overflow_y": null,
       "padding": null,
       "right": null,
       "top": null,
       "visibility": null,
       "width": null
      }
     },
     "d3af91419f424f979bcfa863a950e221": {
      "model_module": "webgui_jupyter_widgets",
      "model_module_version": "0.1.5",
      "model_name": "WebguiModel",
      "state": {
       "_dom_classes": [],
       "_model_module": "webgui_jupyter_widgets",
       "_model_module_version": "0.1.5",
       "_model_name": "WebguiModel",
       "_view_count": null,
       "_view_module": "webgui_jupyter_widgets",
       "_view_module_version": "0.1.5",
       "_view_name": "WebguiView",
       "layout": "IPY_MODEL_add6ec04371349c9ab2ca5cf71ecb73b",
       "value": {
        "Bezier_points": [
         "AAAAAKuqqj4AAAAAAAAAAAAAAACrqqo+AAAAAAAAAACrqqo+AAAAAAAAAAAAAAAA0oHSPiDcsz4AAAAAAAAAANKB0j4g3LM+AAAAAAAAAACrqio/AAAAAAAAAAAAAAAAq6oqPwAAAAAAAAAAAAAAAKuqKj8AAAAAAAAAAAAAAADpS0A/l8+APgAAAAAAAAAA0oHSPiDcsz4AAAAAAAAAANKB0j4g3LM+AAAAAAAAAADpS0A/l8+APgAAAAAAAAAA6UtAP5fPgD4AAAAAAAAAAOlLQD+Xz4A+AAAAAAAAAAAAAIA/q6qqPgAAAAAAAAAAGD82P3yRDj8AAAAAAAAAABg/Nj98kQ4/AAAAAAAAAAAAAIA/q6oqPwAAAAAAAAAA6UtAP5fPgD4AAAAAAAAAAOlLQD+Xz4A+AAAAAAAAAAAYPzY/fJEOPwAAAAAAAAAAAACAP6uqKj8AAAAAAAAAAAAAgD+rqio/AAAAAAAAAACrqio/AACAPwAAAAAAAAAAE5zYPlc7ND8AAAAAAAAAABOc2D5XOzQ/AAAAAAAAAACrqqo+AACAPwAAAAAAAAAAq6qqPgAAgD8AAAAAAAAAAKuqqj4AAIA/AAAAAAAAAAAAAAAAq6oqPwAAAAAAAAAAE5zYPlc7ND8AAAAAAAAAABOc2D5XOzQ/AAAAAAAAAAAAAAAAq6oqPwAAAAAAAAAAE5zYPlc7ND8AAAAAAAAAABOc2D5XOzQ/AAAAAAAAAADSgdI+INyzPgAAAAAAAAAAE5zYPlc7ND8AAAAAAAAAABOc2D5XOzQ/AAAAAAAAAAAYPzY/fJEOPwAAAAAAAAAAAAAAAKuqqj4AAAAAAAAAAAAAAACrqqo+AAAAAAAAAADSgdI+INyzPgAAAAAAAAAA0oHSPiDcsz4AAAAAAAAAANKB0j4g3LM+AAAAAAAAAAAAAAAAq6qqPgAAAAAAAAAAGD82P3yRDj8AAAAAAAAAABg/Nj98kQ4/AAAAAAAAAACrqio/AACAPwAAAAAAAAAAGD82P3yRDj8AAAAAAAAAABg/Nj98kQ4/AAAAAAAAAAATnNg+Vzs0PwAAAAAAAAAAGD82P3yRDj8AAAAAAAAAABg/Nj98kQ4/AAAAAAAAAADpS0A/l8+APgAAAAAAAAAA",
         "AAAAAAAAAAAAAAAAAAAAAKuqqj4AAAAAAAAAAAAAAAAAAAAAAAAAAAAAAAAAAAAAq6qqPgAAAAAAAAAAAAAAAKuqKj8AAAAAAAAAAAAAAACrqqo+AAAAAAAAAAAAAAAAAACAPwAAAAAAAAAAAAAAAOlLQD+Xz4A+AAAAAAAAAAAAAIA/AAAAAAAAAAAAAAAAq6oqPwAAAAAAAAAAAAAAAOlLQD+Xz4A+AAAAAAAAAACrqio/AAAAAAAAAAAAAAAAAACAPwAAAAAAAAAAAAAAAAAAgD+rqqo+AAAAAAAAAAAAAIA/AAAAAAAAAAAAAAAAAACAP6uqqj4AAAAAAAAAAAAAgD+rqio/AAAAAAAAAAAAAIA/q6qqPgAAAAAAAAAAAACAP6uqqj4AAAAAAAAAABg/Nj98kQ4/AAAAAAAAAAAAAIA/q6qqPgAAAAAAAAAAAACAPwAAgD8AAAAAAAAAAKuqKj8AAIA/AAAAAAAAAAAAAIA/AACAPwAAAAAAAAAAq6oqPwAAgD8AAAAAAAAAAKuqqj4AAIA/AAAAAAAAAACrqio/AACAPwAAAAAAAAAAAAAAAAAAgD8AAAAAAAAAAAAAAACrqio/AAAAAAAAAAAAAAAAAACAPwAAAAAAAAAAq6qqPgAAgD8AAAAAAAAAAAAAAACrqio/AAAAAAAAAACrqqo+AACAPwAAAAAAAAAAAAAAAKuqKj8AAAAAAAAAANKB0j4g3LM+AAAAAAAAAAAAAAAAq6oqPwAAAAAAAAAA0oHSPiDcsz4AAAAAAAAAABg/Nj98kQ4/AAAAAAAAAADSgdI+INyzPgAAAAAAAAAAq6qqPgAAAAAAAAAAAAAAANKB0j4g3LM+AAAAAAAAAACrqqo+AAAAAAAAAAAAAAAAAAAAAKuqKj8AAAAAAAAAAAAAAACrqqo+AAAAAAAAAAAAAAAAq6oqPwAAAAAAAAAAAACAP6uqKj8AAAAAAAAAAKuqKj8AAIA/AAAAAAAAAAAAAIA/q6oqPwAAAAAAAAAAq6oqPwAAgD8AAAAAAAAAABOc2D5XOzQ/AAAAAAAAAACrqio/AACAPwAAAAAAAAAA0oHSPiDcsz4AAAAAAAAAAOlLQD+Xz4A+AAAAAAAAAADSgdI+INyzPgAAAAAAAAAA"
        ],
        "Bezier_trig_points": [
         "AAAAAKuqqj4AAAAAAAAAANKB0j4g3LM+AAAAAAAAAACrqio/AAAAAAAAAAAAAAAA0oHSPiDcsz4AAAAAAAAAAOlLQD+Xz4A+AAAAAAAAAAAYPzY/fJEOPwAAAAAAAAAA6UtAP5fPgD4AAAAAAAAAAAAAgD+rqio/AAAAAAAAAAATnNg+Vzs0PwAAAAAAAAAAq6qqPgAAgD8AAAAAAAAAABOc2D5XOzQ/AAAAAAAAAAATnNg+Vzs0PwAAAAAAAAAAE5zYPlc7ND8AAAAAAAAAAAAAAACrqqo+AAAAAAAAAADSgdI+INyzPgAAAAAAAAAAGD82P3yRDj8AAAAAAAAAABg/Nj98kQ4/AAAAAAAAAAAYPzY/fJEOPwAAAAAAAAAA",
         "AAAAAAAAAAAAAAAAAAAAAKuqqj4AAAAAAAAAAAAAAAAAAIA/AAAAAAAAAAAAAAAAq6oqPwAAAAAAAAAAAAAAAAAAgD8AAAAAAAAAAAAAAAAAAIA/q6qqPgAAAAAAAAAAAACAP6uqqj4AAAAAAAAAAAAAgD8AAIA/AAAAAAAAAACrqio/AACAPwAAAAAAAAAAAAAAAAAAgD8AAAAAAAAAAKuqqj4AAIA/AAAAAAAAAAAAAAAAq6oqPwAAAAAAAAAA0oHSPiDcsz4AAAAAAAAAAKuqqj4AAAAAAAAAAAAAAAAAAAAAq6oqPwAAAAAAAAAAAACAP6uqKj8AAAAAAAAAAKuqKj8AAIA/AAAAAAAAAADSgdI+INyzPgAAAAAAAAAA",
         "q6qqPgAAAAAAAAAAAAAAAKuqKj8AAAAAAAAAAAAAAADpS0A/l8+APgAAAAAAAAAA6UtAP5fPgD4AAAAAAAAAAAAAgD+rqqo+AAAAAAAAAAAAAIA/q6oqPwAAAAAAAAAAGD82P3yRDj8AAAAAAAAAAKuqKj8AAIA/AAAAAAAAAACrqqo+AACAPwAAAAAAAAAAAAAAAKuqKj8AAAAAAAAAAAAAAACrqio/AAAAAAAAAADSgdI+INyzPgAAAAAAAAAAGD82P3yRDj8AAAAAAAAAANKB0j4g3LM+AAAAAAAAAAAAAAAAq6qqPgAAAAAAAAAAq6oqPwAAgD8AAAAAAAAAABOc2D5XOzQ/AAAAAAAAAADpS0A/l8+APgAAAAAAAAAA"
        ],
        "autoscale": true,
        "deformation": false,
        "draw_surf": null,
        "draw_vol": null,
        "edges": [
         "q6qqPgAAAAAAAAAAAAAAAKuqKj8AAAAAAAAAAAAAAAAAAIA/AAAAAAAAAAAAAAAAAACAP6uqqj4AAAAAAAAAAAAAgD+rqio/AAAAAAAAAAAAAIA/AACAPwAAAAAAAAAAq6oqPwAAgD8AAAAAAAAAAKuqqj4AAIA/AAAAAAAAAAAAAAAAAACAPwAAAAAAAAAAAAAAAKuqKj8AAAAAAAAAAAAAAACrqqo+AAAAAAAAAAAAAAAAAAAAAAAAAAAAAAAA",
         "AAAAAAAAAAAAAAAAAAAAAKuqqj4AAAAAAAAAAAAAAACrqio/AAAAAAAAAAAAAAAAAACAPwAAAAAAAAAAAAAAAAAAgD+rqqo+AAAAAAAAAAAAAIA/q6oqPwAAAAAAAAAAAACAPwAAgD8AAAAAAAAAAKuqKj8AAIA/AAAAAAAAAACrqqo+AACAPwAAAAAAAAAAAAAAAAAAgD8AAAAAAAAAAAAAAACrqio/AAAAAAAAAAAAAAAAq6qqPgAAAAAAAAAA"
        ],
        "funcdim": 0,
        "mesh_center": [
         0.5,
         0.5,
         1.1125369292536007e-308
        ],
        "mesh_dim": 2,
        "mesh_radius": 0.7071067811865476,
        "mesh_regions_2d": 1,
        "mesh_regions_3d": 0,
        "ngsolve_version": "6.2.2104-121-gee6902d12",
        "order2d": 1,
        "order3d": 1,
        "show_mesh": true,
        "show_wireframe": true
       }
      }
     }
    },
    "version_major": 2,
    "version_minor": 0
   }
  }
 },
 "nbformat": 4,
 "nbformat_minor": 4
}