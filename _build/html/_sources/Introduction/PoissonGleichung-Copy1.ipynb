{
 "cells": [
  {
   "cell_type": "markdown",
   "metadata": {},
   "source": [
    "# Poisson Gleichung\n",
    "\n",
    "$\\DeclareMathOperator{\\opdiv}{div}$ $\\DeclareMathOperator{\\setR}{R}$\n",
    "\n",
    "## Problemstellung, Differentialgleichung\n",
    "\n",
    "``````{margin}\n",
    "<br/><br/><br/><br/>\n",
    "```{note}\n",
    "- Poisson Gleichung\n",
    "- Dirichlet Randbedingung\n",
    "- Meshing\n",
    "```\n",
    "``````\n",
    "\n",
    "Die Methode der finiten Elemente ist eine Methode für die numerische Berechnung von Lösungen partieller Differentialgleichungen. Eine sehr wichtige Gleichung ist die **Poisson Gleichung**. Sie kann als Verallgemeinerung des eindimensionalen Randwertproblem\n",
    "\n",
    "$$\\begin{split}\n",
    "-u''(x) & = f(x)\\quad\\forall\\ x\\in (0,1)\\\\\n",
    "u(0) & = u(1) = 0\n",
    "\\end{split}$$(eq:eindimrwp)\n",
    "\n",
    "interpretiert werden. Die Poisson Gleichung ist gegeben durch\n",
    "\n",
    "$$\n",
    "-\\Delta u(x) = f(x) \\quad \\forall \\, x \\in \\Omega\n",
    "$$\n",
    "\n",
    "wobei $\\Omega\\subset \\mathbb{R}^n$ ein mehrdimensionales Gebiet im $\\mathbb{R}^n$ ist. \n",
    "\n",
    "Die Poisson Gleichung ist ein Modell für verschiedene physikalische Phenomene. So kann zum Beispiel:\n",
    "* $f$ kann eine Verteilung einer **Wärmequelle** und $u$ die **Temperatur**\n",
    "* $f$ kann auch eine Verteilung der **elektrischen Ladung** und $u$ entsprechend das **elektrostatische Potential**.\n",
    "\n",
    "Um eine eindeutige Lösung $u$ zu erhalten, müssen Randbedingungen definiert werden. Im Beispiel werden wir die **homogene Dirichlet Randbedingung** benutzen:\n",
    "\n",
    "$$\n",
    "u(x) = 0 \\quad \\forall \\, x \\in \\partial \\Omega.\n",
    "$$\n",
    "\n",
    "Das zur Gleichung {eq}`eq:eindimrwp` analoge Randwertproblem ist in dem Fall für die Poisson Gleichung gegeben durch\n",
    "\n",
    "$$\\begin{split}\n",
    "-\\Delta u(x) & = f(x) \\quad \\forall \\, x \\in \\Omega\\\\\n",
    "u(x) & = 0 \\quad \\forall \\, x \\in \\partial \\Omega\n",
    "\\end{split}$$ (eq:poissonPDE)\n",
    "\n",
    "Um eine numerische Lösung des Randwertproblems zum Beispiel im zweidimensionalen Raum berechnen zu können, müssen wir das Gebiet diskretisieren (**Meshing**). Wir betrachten das Problem auf dem Einheitsquadrat:"
   ]
  },
  {
   "cell_type": "code",
   "execution_count": 1,
   "metadata": {},
   "outputs": [],
   "source": [
    "from netgen.geom2d import unit_square\n",
    "from ngsolve import *\n",
    "from ngsolve.webgui import Draw"
   ]
  },
  {
   "cell_type": "code",
   "execution_count": 2,
   "metadata": {},
   "outputs": [
    {
     "data": {
      "application/vnd.jupyter.widget-view+json": {
       "model_id": "af873461c11145c1a9e756e9160be039",
       "version_major": 2,
       "version_minor": 0
      },
      "text/plain": [
       "WebGuiWidget(value={'ngsolve_version': '6.2.2104-81-gc767972b4', 'mesh_dim': 2, 'order2d': 1, 'order3d': 1, 'd…"
      ]
     },
     "metadata": {},
     "output_type": "display_data"
    },
    {
     "data": {
      "text/plain": [
       "BaseWebGuiScene"
      ]
     },
     "execution_count": 2,
     "metadata": {},
     "output_type": "execute_result"
    }
   ],
   "source": [
    "ngmesh = unit_square.GenerateMesh()\n",
    "for k in range(2):\n",
    "    ngmesh.Refine()\n",
    "mesh = Mesh(ngmesh)\n",
    "\n",
    "Draw(mesh)"
   ]
  },
  {
   "cell_type": "markdown",
   "metadata": {},
   "source": [
    "## Schwache Gleichung\n",
    "\n",
    "``````{margin}\n",
    "<br/><br/><br/><br/>\n",
    "```{note}\n",
    "- starke Gleichung\n",
    "- schwache Gleichung\n",
    "- Testfunktion\n",
    "- Funktionenraum\n",
    "```\n",
    "``````\n",
    "\n",
    "Für die numerische Berechnung benötigen wir die **schwache Gleichung** (oder auch variationelle Formulierung) der Poisson Gleichung. Die oben formulierte partielle Differentialgleichung des Randwertproblems wird **starke Gleichung** genannt. Die schwache Gleichung ist die Ausgangsformulierung für die Diskretisierungsmethode der finiten Elemente.\n",
    "\n",
    "Ein Weg auf die schwache Gleichung zu kommen ist folgender: Multipliziere die partielle Differentialgleichung mit einer sogenannten **Testfunktion**. Die Testfunktion ist eine beliebige Funktion aus einem geeigneten **Funktionenraum** $V$. Multiplikation der PDE mit $v\\in V$ liefert\n",
    "\n",
    "$$\n",
    "- \\Delta u(x) v(x) = f(x) v(x) \\qquad \\forall x \\in \\Omega\n",
    "$$\n",
    "\n",
    "Nun integrieren wir über das gesamte Gebiet $\\Omega$:\n",
    "\n",
    "$$\n",
    "- \\int_\\Omega \\Delta u(x) v(x) dx = \\int_\\Omega f(x) v(x) dx\n",
    "$$\n",
    "\n",
    "Mit Hilfe der partiellen Integration im Mehrdimensionalen (Satz von Gauss auf das Vektorfeld $\\nabla u\\, v$ angewandt):\n",
    "\n",
    "$$\n",
    "\\int_{\\partial \\Omega} n \\nabla u \\, v\\, dA = \\int_\\Omega \\opdiv (\\nabla u \\, v) dx\n",
    "= \\int_{\\Omega} \\Delta u v + \\nabla u \\nabla v dx\n",
    "$$\n",
    "\n",
    "können wir die linke Seite in der Form\n",
    "\n",
    "$$\n",
    "\\int_\\Omega \\nabla u \\nabla v - \\int_{\\partial \\Omega} \\frac{\\partial u}{\\partial n} v = \\int_\\Omega f v\n",
    "$$\n",
    "\n",
    "schreiben.\n",
    "\n",
    "Im Fall der Dirichlet Randbedingung können wir Testfunktionen $v$ benutzen, für welche $v(x) = 0$ auf dem Rand $\\partial\\Omega$ gilt.\n",
    "\n",
    "Wir erhalten damit das **schwache Problem**: Finde $u\\in V$ so, dass $u=0$ auf $\\partial\\Omega$ und\n",
    "\n",
    "$$\n",
    "\\int_\\Omega \\nabla u\\cdot \\nabla v dx = \\int_\\Omega f v dx\n",
    "$$ (eq:weakPoisson)\n",
    "\n",
    "für alle Testfunktionen $v$ mit $v=0$ auf $\\partial\\Omega$ erfüllt ist.\n",
    "\n",
    "Der Gewinn der schwachen Formulierung ist, dass wir das Problem mit der zweiten örtlichen Ableitung auf ein Problem mit erster Ableitung reduzieren können. Was natürlich die Frage aufwirft, wann eine **schwache Lösung** (Lösung der schwachen Gleichung) auch eine **starke Lösung** ist?\n",
    "\n",
    "## Der Sobolev Raum $H^1$, linear und bilinear Formen\n",
    "\n",
    "``````{margin}\n",
    "<br/><br/><br/><br/>\n",
    "```{note}\n",
    "- Sobolev Raum $H^1$\n",
    "- Funktionenraum $L_2$\n",
    "- Norm, Skalarprodukt\n",
    "- Hilbert Raum\n",
    "- Linearform, Bilinearform\n",
    "```\n",
    "``````\n",
    "\n",
    "Der für das Beispiel geeignete Funktionenraum für die Lösungen ist der **Sobolev Raum**\n",
    "\n",
    "$$H^1 := \\{u\\in L_2(\\Omega) | \\nabla u\\in L_2(\\Omega)^n \\}$$\n",
    "\n",
    "Das hochgestellte 1 bezieht sich auf die erste Ableitung, welche quadratisch integrierbar sein soll ($L_2$). Wir werden den Ableitungsbegriff für die Anwendung erweitern müssen, denn nicht alle Funktionen im $L_2$ sind nicht stetig differenzierbar. Die zum Vektorraum $H^1$ zugehörige Norm ist gegeben durch\n",
    "\n",
    "$$\\| u\\|_{H^1} = \\| u\\|_{L_2} + \\| \\nabla u\\|_{L_2}$$\n",
    "\n",
    "und für das Skalarprodukt gilt\n",
    "\n",
    "$$(u,v)_{H^1} = (u,v)_{L_2} + (\\nabla u,\\nabla v)_{L_2}.$$\n",
    "\n",
    "Der Funktionenraum $H^1$ ist ein vollständiger Raum mit Skalarprodukt. Einen solchen Raum nennt man Hilbert Raum.\n",
    "\n",
    "Es macht keinen Sinn Randwerte von $L_2$ Funktionen zu definieren. Für Funktionen aus dem Sobolev Raum $H^1$ existiert jedoch das Trace Theorem, welches besagt, dass Randwerte wohl definiert sind. Es gilt für $u\\in H^1(\\Omega)$\n",
    "\n",
    "$$u|_{\\partial \\Omega} \\in L_2(\\partial \\Omega).$$\n",
    "\n",
    "Damit macht es Sinn einen Unterraum $H_0^1$ mit homogenen Dirichlet Randbedingungen zu definieren\n",
    "\n",
    "$$H_0^1 = \\{u\\in H^1 | u|_{\\partial \\Omega} = 0\\}.$$\n",
    "\n",
    "Wir betrachten nun die Gleichung {eq}`eq:weakPoisson`. Die linke Seite stellt eine **Bilinearform** $A: H^1\\times H^1 \\to \\mathbb{R}$\n",
    "\n",
    "$$A(u,v) = \\int_\\Omega \\nabla u\\cdot\\nabla v$$\n",
    "\n",
    "dar und die rechte Seite eine **Linearform** $f:H^1 \\to \\mathbb{R}$\n",
    "\n",
    "$$f(v) := \\int_\\Omega f(x) v(x) dx.$$\n",
    "\n",
    "Wir können damit das schwache Problem auch wie folgt beschreiben\n",
    "\n",
    "$$\\text{finde}\\ u\\in H_0^1(\\Omega): \\quad A(u,v) = f(v)\\quad \\forall v\\in H_0^1(\\Omega).$$ (eq:weakProblemPoisson2)\n",
    "\n",
    "Dieser abstrakte Formalismus von Hilber Räumen, Bilinear- und Linearformen passt auf eine sehr grosse klasse von (elliptischen) partiellen Differentialgleichungen.\n",
    "\n",
    "## Finite Elemente Methode\n",
    "\n",
    "``````{margin}\n",
    "<br/><br/><br/><br/>\n",
    "```{note}\n",
    "- Finite Elemente Methode\n",
    "- Diskretisierungsfehler\n",
    "```\n",
    "``````\n",
    "\n",
    "Die schwache Formulierung ist die Ausgangsform für die Methode der finiten Elemente. Da wir nicht in einem unendlich dimensionalen **Hilbertraum** rechnen können, müssen wir einen endlich dimensionalen **Unterraum** benutzen. \n",
    "\n",
    "$$V_h \\subset H_0^1$$"
   ]
  },
  {
   "cell_type": "code",
   "execution_count": 3,
   "metadata": {},
   "outputs": [],
   "source": [
    "V = H1(mesh, order=1, dirichlet = '.*')\n",
    "u,v = V.TnT()"
   ]
  },
  {
   "cell_type": "markdown",
   "metadata": {},
   "source": [
    "Wir suchen nun Lösungen für schwache Problem {eq}`eq:weakProblemPoisson2` im endlich dimensionalen Vektorraum $V_h$:\n",
    "\n",
    "$$\\text{finde}\\ u_h\\in V_h: \\quad A(u_h,v_h) = f(v_h)\\quad \\forall v_h\\in V_h.$$ (eq:weakProblemPoisson3)\n",
    "\n",
    "Die finite Elemente Lösung approximiert die exakte Lösung $u$, wobei der Diskretisierungsfehler $\\|u-u_h\\|_{H^1}$ für $h\\to 0$ ebenfalls gegen Null streben soll.\n",
    "\n",
    "Um die Lösung $u_h$ berechnen zu können, müssen wir eine Basis $p_i, i=1,\\ldots, N$ für den Funktionenraum $V_h$ wählen, wobei $N = \\mathop{dim} V_h$."
   ]
  },
  {
   "cell_type": "code",
   "execution_count": 4,
   "metadata": {},
   "outputs": [
    {
     "name": "stdout",
     "output_type": "stream",
     "text": [
      "dim V = N =  25\n"
     ]
    }
   ],
   "source": [
    "print('dim V = N = ',V.ndof)"
   ]
  },
  {
   "cell_type": "markdown",
   "metadata": {},
   "source": [
    "$u_h$ können wir daher als\n",
    "\n",
    "$$u_h(x) = \\sum_{i=1}^N u_i p_i(x)$$\n",
    "\n",
    "schreiben. Die Koeffizienten $u_i$ schreiben wir als Koeffizientenvektor $u=(u_1, \\ldots, u_n) \\in \\mathbb{R}^N$."
   ]
  },
  {
   "cell_type": "code",
   "execution_count": 5,
   "metadata": {},
   "outputs": [],
   "source": [
    "gfu = GridFunction(V)"
   ]
  },
  {
   "cell_type": "markdown",
   "metadata": {},
   "source": [
    "Anstatt, dass wir mit allen Funktionen aus dem $V_h$ test, reicht es mit den Basisfunktionen $p_j(x)$ zu testen. Damit haben wir das finite Element Problem\n",
    "\n",
    "$$\\text{finde}\\ u\\in \\mathbb{R}^N: \\quad A(\\sum_{i=1}^N u_i p_i,p_j) = f(p_j)\\quad \\forall j = 1, \\ldots, N.$$ \n",
    "\n",
    "Da $A(\\cdot, \\cdot)$ eine Bilinearfunktion ist, können wir die Summe aus der Bilinearfunktion nehmen. Es folgt\n",
    "\n",
    "$$\\text{finde}\\ u\\in \\mathbb{R}^N: \\quad \\sum_{i=1}^N A(p_i,p_j) u_i = f(p_j)\\quad \\forall j = 1, \\ldots, N.$$ (eq:FEMProblemPoisson)\n",
    "\n",
    "Da die Basisfunktionen $p_i$ bekannt sind, können wir die Matrix $A\\in\\mathbb{R}^{N\\times N}$ welche die Bilinearfunktion beschreibt berechnen. Die Matrix Einträge sind gegeben durch\n",
    "\n",
    "$$A_{j,i} = A(p_i,p_j) = \\int_\\Omega \\nabla p_i\\cdot \\nabla p_j dx.$$"
   ]
  },
  {
   "cell_type": "code",
   "execution_count": 6,
   "metadata": {},
   "outputs": [],
   "source": [
    "a = BilinearForm(V)\n",
    "a += grad(u)*grad(v)*dx\n",
    "a.Assemble();"
   ]
  },
  {
   "cell_type": "markdown",
   "metadata": {},
   "source": [
    "Die Linearform $f$ kann durch den Vektor $f\\in\\mathbb{R}^N$ \n",
    "\n",
    "$$f_j = f(p_j) = \\int_\\Omega f(x)p_j(x)dx$$\n",
    "\n",
    "beschrieben werden."
   ]
  },
  {
   "cell_type": "code",
   "execution_count": 7,
   "metadata": {},
   "outputs": [],
   "source": [
    "funcf = CoefficientFunction(10)\n",
    "\n",
    "f = LinearForm(V)\n",
    "f += funcf*v*dx\n",
    "f.Assemble();"
   ]
  },
  {
   "cell_type": "markdown",
   "metadata": {},
   "source": [
    "Das Lösen des finite Elementproblems {eq}`eq:FEMProblemPoisson` resultiert somit im Lösen des linearen Gleichungssystems\n",
    "\n",
    "$$A u = f$$"
   ]
  },
  {
   "cell_type": "code",
   "execution_count": 8,
   "metadata": {},
   "outputs": [
    {
     "data": {
      "application/vnd.jupyter.widget-view+json": {
       "model_id": "7503648ed32f489f8de56cefbecfe4d2",
       "version_major": 2,
       "version_minor": 0
      },
      "text/plain": [
       "WebGuiWidget(value={'ngsolve_version': '6.2.2104-81-gc767972b4', 'mesh_dim': 2, 'order2d': 2, 'order3d': 2, 'd…"
      ]
     },
     "metadata": {},
     "output_type": "display_data"
    },
    {
     "data": {
      "text/plain": [
       "BaseWebGuiScene"
      ]
     },
     "execution_count": 8,
     "metadata": {},
     "output_type": "execute_result"
    }
   ],
   "source": [
    "gfu.vec.data = a.mat.Inverse(freedofs=V.FreeDofs()) * f.vec\n",
    "Draw(gfu)"
   ]
  },
  {
   "cell_type": "code",
   "execution_count": 9,
   "metadata": {},
   "outputs": [],
   "source": [
    "import matplotlib.pyplot as plt\n",
    "import scipy.sparse as sp"
   ]
  },
  {
   "cell_type": "code",
   "execution_count": 10,
   "metadata": {},
   "outputs": [],
   "source": [
    "rows,cols,vals = a.mat.COO()"
   ]
  },
  {
   "cell_type": "code",
   "execution_count": 11,
   "metadata": {},
   "outputs": [],
   "source": [
    "A = sp.csr_matrix((vals,(rows,cols)))"
   ]
  },
  {
   "cell_type": "code",
   "execution_count": 12,
   "metadata": {},
   "outputs": [
    {
     "data": {
      "image/png": "[encoded data removed]",
      "text/plain": [
       "<Figure size 432x288 with 1 Axes>"
      ]
     },
     "metadata": {
      "filenames": {
       "image/png": "/Users/stiw/Dropbox/ZHAW/Vorlesungen/HANA_Numerik/HANASkript/_build/jupyter_execute/Introduction/PoissonGleichung-Copy1_18_0.png"
      },
      "needs_background": "light"
     },
     "output_type": "display_data"
    }
   ],
   "source": [
    "plt.spy(A)\n",
    "plt.show()"
   ]
  },
  {
   "cell_type": "code",
   "execution_count": null,
   "metadata": {},
   "outputs": [],
   "source": []
  }
 ],
 "metadata": {
  "jupytext": {
   "formats": "md:myst",
   "text_representation": {
    "extension": ".md",
    "format_name": "myst",
    "format_version": 0.13,
    "jupytext_version": "1.10.3"
   }
  },
  "kernelspec": {
   "display_name": "Python 3",
   "language": "python",
   "name": "python3"
  },
  "language_info": {
   "codemirror_mode": {
    "name": "ipython",
    "version": 3
   },
   "file_extension": ".py",
   "mimetype": "text/x-python",
   "name": "python",
   "nbconvert_exporter": "python",
   "pygments_lexer": "ipython3",
   "version": "3.8.1"
  },
  "source_map": [
   13,
   64,
   70,
   77,
   195,
   198,
   208,
   210,
   218,
   220,
   234,
   238,
   246,
   252,
   258,
   263,
   268,
   272,
   276,
   281
  ],
  "widgets": {
   "application/vnd.jupyter.widget-state+json": {
    "state": {
     "13ebabb96d1d4819b1034d4d28f1135a": {
      "model_module": "@jupyter-widgets/base",
      "model_module_version": "1.2.0",
      "model_name": "LayoutModel",
      "state": {
       "_model_module": "@jupyter-widgets/base",
       "_model_module_version": "1.2.0",
       "_model_name": "LayoutModel",
       "_view_count": null,
       "_view_module": "@jupyter-widgets/base",
       "_view_module_version": "1.2.0",
       "_view_name": "LayoutView",
       "align_content": null,
       "align_items": null,
       "align_self": null,
       "border": null,
       "bottom": null,
       "display": null,
       "flex": null,
       "flex_flow": null,
       "grid_area": null,
       "grid_auto_columns": null,
       "grid_auto_flow": null,
       "grid_auto_rows": null,
       "grid_column": null,
       "grid_gap": null,
       "grid_row": null,
       "grid_template_areas": null,
       "grid_template_columns": null,
       "grid_template_rows": null,
       "height": null,
       "justify_content": null,
       "justify_items": null,
       "left": null,
       "margin": null,
       "max_height": null,
       "max_width": null,
       "min_height": null,
       "min_width": null,
       "object_fit": null,
       "object_position": null,
       "order": null,
       "overflow": null,
       "overflow_x": null,
       "overflow_y": null,
       "padding": null,
       "right": null,
       "top": null,
       "visibility": null,
       "width": null
      }
     },
     "7503648ed32f489f8de56cefbecfe4d2": {
      "model_module": "webgui_jupyter_widgets",
      "model_module_version": "0.1.3",
      "model_name": "WebguiModel",
      "state": {
       "_dom_classes": [],
       "_model_module": "webgui_jupyter_widgets",
       "_model_module_version": "0.1.3",
       "_model_name": "WebguiModel",
       "_view_count": null,
       "_view_module": "webgui_jupyter_widgets",
       "_view_module_version": "0.1.3",
       "_view_name": "WebguiView",
       "layout": "IPY_MODEL_d67e563bbcb1478b8523b51d2929b83d",
       "value": {
        "Bezier_points": [
         "AACAPgAAgD4AAAAAAADcPgAAgD4AAIA+AAAAAAAA3D4AAIA+AAAAAAAAAAAAAAAAAAAAAAAAgD4AAAAAAAAAAAAAAAAAAIA+AAAAAAAAAAAAAIA+AACAPgAAAAAAANw+AABAPwAAAAAAAAAAAAAAAAAAQD8AAAAAAAAAAAAAAAAAAIA/AACAPgAAAAAAAAAAAACAPwAAQD8AAAAAAAAAAAAAgD8AAEA/AAAAAAAAAAAAAEA/AABAPwAAAAAAANw+AAAAPwAAgD4AAAAAAAAMPwAAAD8AAIA+AAAAAAAADD8AAEA/AACAPgAAAAAAANw+AABAPwAAQD8AAAAAAADcPgAAQD8AAEA/AAAAAAAA3D4AAEA/AACAPwAAAAAAAAAAAACAPgAAgD8AAAAAAAAAAAAAgD4AAIA/AAAAAAAAAAAAAAAAAABAPwAAAAAAAAAAAACAPgAAAD8AAAAAAAAMPwAAgD4AAAA/AAAAAAAADD8AAAA/AABAPwAAAAAAAAw/AACAPgAAAAAAAAAAAAAAAAAAgD4AAAAAAAAAAAAAAAAAAAA/AACAPgAAAAAAAAw/AAAAPwAAgD4AAAAAAAAMPwAAAD8AAIA+AAAAAAAADD8AAIA+AACAPgAAAAAAANw+AACAPgAAgD4AAAAAAADcPgAAgD4AAIA+AAAAAAAA3D4AAAA/AACAPgAAAAAAAAw/AACAPgAAgD4AAAAAAADcPgAAgD4AAIA+AAAAAAAA3D4AAIA+AAAAPwAAAAAAAAw/AACAPgAAAD8AAAAAAAAMPwAAgD4AAAA/AAAAAAAADD8AAAAAAACAPgAAAAAAAAAAAAAAAAAAgD4AAAAAAAAAAAAAAAAAAIA+AAAAAAAAAAAAAIA+AAAAPwAAAAAAAAw/AACAPwAAgD4AAAAAAAAAAAAAgD8AAIA+AAAAAAAAAAAAAEA/AACAPgAAAAAAANw+AABAPwAAgD4AAAAAAADcPgAAQD8AAIA+AAAAAAAA3D4AAEA/AAAAAAAAAAAAAAAAAABAPwAAAAAAAAAAAAAAAAAAQD8AAAAAAAAAAAAAAAAAAEA/AACAPgAAAAAAANw+AABAPwAAQD8AAAAAAADcPgAAQD8AAEA/AAAAAAAA3D4AAEA/AAAAPwAAAAAAAAw/AABAPwAAAD8AAAAAAAAMPwAAQD8AAAA/AAAAAAAADD8AAIA/AABAPwAAAAAAAAAAAACAPwAAQD8AAAAAAAAAAAAAgD8AAEA/AAAAAAAAAAAAAEA/AAAAPwAAAAAAAAw/AABAPwAAgD4AAAAAAADcPgAAQD8AAIA+AAAAAAAA3D4AAEA/AAAAPwAAAAAAAAw/AABAPwAAAD8AAAAAAAAMPwAAQD8AAAA/AAAAAAAADD8AAAA/AACAPgAAAAAAAAw/AAAAPwAAgD4AAAAAAAAMPwAAAD8AAIA+AAAAAAAADD8AAEA/AAAAPwAAAAAAAAw/AABAPwAAgD8AAAAAAAAAAAAAQD8AAIA/AAAAAAAAAAAAAAA/AABAPwAAAAAAAAw/AAAAPwAAQD8AAAAAAAAMPwAAAD8AAEA/AAAAAAAADD8AAEA/AABAPwAAAAAAANw+AABAPwAAQD8AAAAAAADcPgAAQD8AAEA/AAAAAAAA3D4AAAA/AABAPwAAAAAAAAw/AAAAAAAAQD8AAAAAAAAAAAAAAAAAAEA/AAAAAAAAAAAAAIA+AABAPwAAAAAAANw+AACAPgAAQD8AAAAAAADcPgAAgD4AAEA/AAAAAAAA3D4AAIA+AACAPwAAAAAAAAAAAACAPgAAgD8AAAAAAAAAAAAAgD4AAIA/AAAAAAAAAAAAAIA+AABAPwAAAAAAANw+AAAAPwAAQD8AAAAAAAAMPwAAAD8AAEA/AAAAAAAADD8AAIA+AABAPwAAAAAAANw+AACAPgAAQD8AAAAAAADcPgAAgD4AAEA/AAAAAAAA3D4AAIA+AAAAPwAAAAAAAAw/AACAPgAAAD8AAAAAAAAMPwAAgD4AAAA/AAAAAAAADD8AAIA+AABAPwAAAAAAANw+",
         "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",
         "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"
        ],
        "Bezier_trig_points": [
         "AACAPgAAgD4AAAAAAADcPgAAAAAAAIA+AAAAAAAAAAAAAEA/AAAAAAAAAAAAAAAAAACAPwAAQD8AAAAAAAAAAAAAAD8AAIA+AAAAAAAADD8AAEA/AABAPwAAAAAAANw+AACAPgAAgD8AAAAAAAAAAAAAgD4AAAA/AAAAAAAADD8AAIA+AAAAAAAAAAAAAAAAAAAAPwAAgD4AAAAAAAAMPwAAgD4AAIA+AAAAAAAA3D4AAIA+AACAPgAAAAAAANw+AACAPgAAAD8AAAAAAAAMPwAAAAAAAIA+AAAAAAAAAAAAAIA/AACAPgAAAAAAAAAAAABAPwAAgD4AAAAAAADcPgAAQD8AAAAAAAAAAAAAAAAAAEA/AABAPwAAAAAAANw+AABAPwAAAD8AAAAAAAAMPwAAgD8AAEA/AAAAAAAAAAAAAEA/AACAPgAAAAAAANw+AABAPwAAAD8AAAAAAAAMPwAAAD8AAIA+AAAAAAAADD8AAEA/AACAPwAAAAAAAAAAAAAAPwAAQD8AAAAAAAAMPwAAQD8AAEA/AAAAAAAA3D4AAAAAAABAPwAAAAAAAAAAAACAPgAAQD8AAAAAAADcPgAAgD4AAIA/AAAAAAAAAAAAAAA/AABAPwAAAAAAAAw/AACAPgAAQD8AAAAAAADcPgAAgD4AAAA/AAAAAAAADD8=",
         "AAAAPgAAAD4AAAAAAABcPgAAAAAAAAA+AAAAAAAAAAAAAGA/AAAAAAAAAAAAAAAAAACAPwAAYD8AAAAAAAAAAAAAAD8AAAA+AAAAAAAAjD4AAGA/AABgPwAAAAAAAFw+AAAAPgAAgD8AAAAAAAAAAAAAwD4AAAA/AAAAAAAAID8AAMA+AAAAAAAAAAAAAAAAAAAAPwAAwD4AAAAAAAAgPwAAgD4AAAA+AAAAAAAAXD4AAMA+AADAPgAAAAAAABE/AAAAPgAAAD8AAAAAAACMPgAAAD4AAIA+AAAAAAAAXD4AAIA/AADAPgAAAAAAAAAAAAAgPwAAAD4AAAAAAABcPgAAYD8AAAA+AAAAAAAAAAAAACA/AAAgPwAAAAAAABE/AABgPwAAAD8AAAAAAACMPgAAYD8AAEA/AAAAAAAAXD4AAGA/AADAPgAAAAAAAFw+AAAgPwAAAD8AAAAAAAAgPwAAID8AAIA+AAAAAAAA+j4AACA/AACAPwAAAAAAAAAAAAAAPwAAID8AAAAAAAAgPwAAQD8AAGA/AAAAAAAAXD4AAAAAAAAgPwAAAAAAAAAAAADAPgAAYD8AAAAAAABcPgAAAD4AAGA/AAAAAAAAAAAAAAA/AABgPwAAAAAAAIw+AAAAPgAAID8AAAAAAABcPgAAwD4AACA/AAAAAAAADD8=",
         "AAAAAAAAAAAAAAAAAAAAAAAAAAAAAAAAAAAAAAAAAAAAAIA/AAAAAAAAAAAAAAAAAACAPwAAgD8AAAAAAAAAAAAAAD8AAAAAAAAAAAAAAAAAAIA/AACAPwAAAAAAAAAAAAAAAAAAgD8AAAAAAAAAAAAAAD8AAAA/AAAAAAAAND8AAAA/AAAAAAAAAAAAAAAAAAAAPwAAAD8AAAAAAAA0PwAAgD4AAAAAAAAAAAAAAAAAAAA/AAAAPwAAAAAAADQ/AAAAAAAAAD8AAAAAAAAAAAAAgD4AAIA+AAAAAAAA3D4AAIA/AAAAPwAAAAAAAAAAAAAAPwAAAAAAAAAAAAAAAAAAgD8AAIA+AAAAAAAAAAAAAAA/AAAAPwAAAAAAADQ/AACAPwAAAD8AAAAAAAAAAAAAQD8AAEA/AAAAAAAA3D4AAIA/AAAAPwAAAAAAAAAAAAAAPwAAAD8AAAAAAAA0PwAAQD8AAIA+AAAAAAAA3D4AAAA/AACAPwAAAAAAAAAAAAAAPwAAAD8AAAAAAAA0PwAAQD8AAIA/AAAAAAAAAAAAAAAAAAAAPwAAAAAAAAAAAAAAPwAAgD8AAAAAAAAAAAAAAAAAAEA/AAAAAAAAAAAAAAA/AACAPwAAAAAAAAAAAAAAAAAAAD8AAAAAAAAAAAAAAD8AAEA/AAAAAAAADD8=",
         "AACAPgAAAD4AAAAAAABcPgAAAD4AAIA+AAAAAAAAXD4AAGA/AAAAPgAAAAAAAAAAAABgPwAAQD8AAAAAAABcPgAAID8AAIA+AAAAAAAA+j4AAEA/AABgPwAAAAAAAFw+AAAAPgAAYD8AAAAAAAAAAAAAwD4AACA/AAAAAAAADD8AAMA+AAAAPgAAAAAAAIw+AADAPgAAgD4AAAAAAAD6PgAAwD4AAIA+AAAAAAAA+j4AAIA+AADAPgAAAAAAAPo+AAAAPgAAwD4AAAAAAACMPgAAAD4AAMA+AAAAAAAAjD4AAGA/AACAPgAAAAAAAFw+AABAPwAAAD4AAAAAAABcPgAAQD8AAAA+AAAAAAAAXD4AAEA/AAAgPwAAAAAAAPo+AABgPwAAID8AAAAAAACMPgAAYD8AACA/AAAAAAAAjD4AAEA/AADAPgAAAAAAAPo+AAAgPwAAwD4AAAAAAAAMPwAAID8AAMA+AAAAAAAADD8AACA/AABgPwAAAAAAAIw+AAAgPwAAQD8AAAAAAAD6PgAAID8AAEA/AAAAAAAA+j4AAAA+AABAPwAAAAAAAFw+AACAPgAAYD8AAAAAAABcPgAAgD4AAGA/AAAAAAAAXD4AAMA+AABAPwAAAAAAAPo+AACAPgAAID8AAAAAAAD6PgAAgD4AACA/AAAAAAAA+j4=",
         "AAAAPgAAAAAAAAAAAAAAAAAAAD4AAAA+AAAAAAAAXD4AAIA/AAAAPgAAAAAAAAAAAABgPwAAYD8AAAAAAABcPgAAID8AAAA+AAAAAAAAXD4AAGA/AACAPwAAAAAAAAAAAAAAAAAAYD8AAAAAAAAAAAAAAD8AACA/AAAAAAAAID8AAAA/AAAAPgAAAAAAAIw+AADAPgAAwD4AAAAAAAARPwAAwD4AAAA+AAAAAAAAjD4AAMA+AAAAPwAAAAAAACA/AAAAAAAAwD4AAAAAAAAAAAAAgD4AAMA+AAAAAAAA+j4AAGA/AADAPgAAAAAAAFw+AAAgPwAAAAAAAAAAAAAAAAAAYD8AAIA+AAAAAAAAXD4AACA/AAAAPwAAAAAAACA/AACAPwAAID8AAAAAAAAAAAAAQD8AACA/AAAAAAAA+j4AAGA/AAAAPwAAAAAAAIw+AAAAPwAAwD4AAAAAAAAgPwAAQD8AAMA+AAAAAAAA+j4AAAA/AABgPwAAAAAAAIw+AAAgPwAAID8AAAAAAAARPwAAID8AAGA/AAAAAAAAjD4AAAA+AAAgPwAAAAAAAFw+AADAPgAAgD8AAAAAAAAAAAAAAD4AAEA/AAAAAAAAXD4AAMA+AABgPwAAAAAAAFw+AAAAPgAAAD8AAAAAAACMPgAAwD4AAEA/AAAAAAAA+j4=",
         "AACAPgAAAAAAAAAAAAAAAAAAgD4AAIA+AAAAAAAA3D4AAIA/AACAPgAAAAAAAAAAAABAPwAAQD8AAAAAAADcPgAAQD8AAIA+AAAAAAAA3D4AAEA/AACAPwAAAAAAAAAAAAAAAAAAQD8AAAAAAAAAAAAAAD8AAEA/AAAAAAAADD8AAAA/AACAPgAAAAAAAAw/AACAPgAAgD4AAAAAAADcPgAAAD8AAIA+AAAAAAAADD8AAIA+AAAAPwAAAAAAAAw/AAAAAAAAgD4AAAAAAAAAAAAAgD4AAAA/AAAAAAAADD8AAEA/AACAPgAAAAAAANw+AABAPwAAAAAAAAAAAAAAAAAAQD8AAIA+AAAAAAAA3D4AAEA/AAAAPwAAAAAAAAw/AACAPwAAQD8AAAAAAAAAAAAAQD8AAAA/AAAAAAAADD8AAEA/AAAAPwAAAAAAAAw/AAAAPwAAgD4AAAAAAAAMPwAAQD8AAAA/AAAAAAAADD8AAAA/AABAPwAAAAAAAAw/AABAPwAAQD8AAAAAAADcPgAAAD8AAEA/AAAAAAAADD8AAIA+AABAPwAAAAAAANw+AACAPgAAgD8AAAAAAAAAAAAAgD4AAEA/AAAAAAAA3D4AAIA+AABAPwAAAAAAANw+AACAPgAAAD8AAAAAAAAMPwAAgD4AAEA/AAAAAAAA3D4="
        ],
        "autoscale": true,
        "deformation": false,
        "draw_surf": true,
        "draw_vol": false,
        "edges": [
         "AACAPgAAAAAAAAAAAAAAAAAAgD8AAIA+AAAAAAAAAAAAAEA/AACAPwAAAAAAAAAAAAAAAAAAQD8AAAAAAAAAAAAAQD8AAAAAAAAAAAAAAAAAAIA/AABAPwAAAAAAAAAAAACAPgAAgD8AAAAAAAAAAAAAAAAAAIA+AAAAAAAAAAAAAAA/AAAAAAAAAAAAAAAAAACAPwAAAD8AAAAAAAAAAAAAAD8AAIA/AAAAAAAAAAAAAAAAAAAAPwAAAAAAAAAAAACAPwAAAAAAAAAAAAAAAAAAgD8AAIA/AAAAAAAAAAAAAAAAAACAPwAAAAAAAAAAAAAAAAAAAAAAAAAAAAAAAA==",
         "AAAAPgAAAAAAAAAAAAAAAAAAgD8AAAA+AAAAAAAAAAAAAGA/AACAPwAAAAAAAAAAAAAAAAAAYD8AAAAAAAAAAAAAID8AAAAAAAAAAAAAAAAAAIA/AAAgPwAAAAAAAAAAAADAPgAAgD8AAAAAAAAAAAAAAAAAAMA+AAAAAAAAAAAAAMA+AAAAAAAAAAAAAAAAAACAPwAAwD4AAAAAAAAAAAAAID8AAIA/AAAAAAAAAAAAAAAAAAAgPwAAAAAAAAAAAABgPwAAAAAAAAAAAAAAAAAAgD8AAGA/AAAAAAAAAAAAAAA+AACAPwAAAAAAAAAAAAAAAAAAAD4AAAAAAAAAAA==",
         "AAAAAAAAAAAAAAAAAAAAAAAAgD8AAAAAAAAAAAAAAAAAAIA/AACAPwAAAAAAAAAAAAAAAAAAgD8AAAAAAAAAAAAAAD8AAAAAAAAAAAAAAAAAAIA/AAAAPwAAAAAAAAAAAAAAPwAAgD8AAAAAAAAAAAAAAAAAAAA/AAAAAAAAAAAAAIA+AAAAAAAAAAAAAAAAAACAPwAAgD4AAAAAAAAAAAAAQD8AAIA/AAAAAAAAAAAAAAAAAABAPwAAAAAAAAAAAABAPwAAAAAAAAAAAAAAAAAAgD8AAEA/AAAAAAAAAAAAAIA+AACAPwAAAAAAAAAAAAAAAAAAgD4AAAAAAAAAAA=="
        ],
        "funcdim": 1,
        "funcmax": 0.7031249999999999,
        "funcmin": 0.0,
        "mesh_center": [
         0.5,
         0.5,
         1.1125369292536007e-308
        ],
        "mesh_dim": 2,
        "mesh_radius": 0.7071067811865476,
        "ngsolve_version": "6.2.2104-81-gc767972b4",
        "order2d": 2,
        "order3d": 2,
        "show_mesh": true,
        "show_wireframe": true
       }
      }
     },
     "af873461c11145c1a9e756e9160be039": {
      "model_module": "webgui_jupyter_widgets",
      "model_module_version": "0.1.3",
      "model_name": "WebguiModel",
      "state": {
       "_dom_classes": [],
       "_model_module": "webgui_jupyter_widgets",
       "_model_module_version": "0.1.3",
       "_model_name": "WebguiModel",
       "_view_count": null,
       "_view_module": "webgui_jupyter_widgets",
       "_view_module_version": "0.1.3",
       "_view_name": "WebguiView",
       "layout": "IPY_MODEL_13ebabb96d1d4819b1034d4d28f1135a",
       "value": {
        "Bezier_points": [
         "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",
         "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"
        ],
        "Bezier_trig_points": [
         "AACAPgAAgD4AAAAAAAAAAAAAAAAAAIA+AAAAAAAAAAAAAEA/AAAAAAAAAAAAAAAAAACAPwAAQD8AAAAAAAAAAAAAAD8AAIA+AAAAAAAAAAAAAEA/AABAPwAAAAAAAAAAAACAPgAAgD8AAAAAAAAAAAAAgD4AAAA/AAAAAAAAAAAAAIA+AAAAAAAAAAAAAAAAAAAAPwAAgD4AAAAAAAAAAAAAgD4AAIA+AAAAAAAAAAAAAIA+AACAPgAAAAAAAAAAAACAPgAAAD8AAAAAAAAAAAAAAAAAAIA+AAAAAAAAAAAAAIA/AACAPgAAAAAAAAAAAABAPwAAgD4AAAAAAAAAAAAAQD8AAAAAAAAAAAAAAAAAAEA/AABAPwAAAAAAAAAAAABAPwAAAD8AAAAAAAAAAAAAgD8AAEA/AAAAAAAAAAAAAEA/AACAPgAAAAAAAAAAAABAPwAAAD8AAAAAAAAAAAAAAD8AAIA+AAAAAAAAAAAAAEA/AACAPwAAAAAAAAAAAAAAPwAAQD8AAAAAAAAAAAAAQD8AAEA/AAAAAAAAAAAAAAAAAABAPwAAAAAAAAAAAACAPgAAQD8AAAAAAAAAAAAAgD4AAIA/AAAAAAAAAAAAAAA/AABAPwAAAAAAAAAAAACAPgAAQD8AAAAAAAAAAAAAgD4AAAA/AAAAAAAAAAA=",
         "AAAAAAAAAAAAAAAAAAAAAAAAAAAAAAAAAAAAAAAAAAAAAIA/AAAAAAAAAAAAAAAAAACAPwAAgD8AAAAAAAAAAAAAAD8AAAAAAAAAAAAAAAAAAIA/AACAPwAAAAAAAAAAAAAAAAAAgD8AAAAAAAAAAAAAAD8AAAA/AAAAAAAAAAAAAAA/AAAAAAAAAAAAAAAAAAAAPwAAAD8AAAAAAAAAAAAAgD4AAAAAAAAAAAAAAAAAAAA/AAAAPwAAAAAAAAAAAAAAAAAAAD8AAAAAAAAAAAAAgD4AAIA+AAAAAAAAAAAAAIA/AAAAPwAAAAAAAAAAAAAAPwAAAAAAAAAAAAAAAAAAgD8AAIA+AAAAAAAAAAAAAAA/AAAAPwAAAAAAAAAAAACAPwAAAD8AAAAAAAAAAAAAQD8AAEA/AAAAAAAAAAAAAIA/AAAAPwAAAAAAAAAAAAAAPwAAAD8AAAAAAAAAAAAAQD8AAIA+AAAAAAAAAAAAAAA/AACAPwAAAAAAAAAAAAAAPwAAAD8AAAAAAAAAAAAAQD8AAIA/AAAAAAAAAAAAAAAAAAAAPwAAAAAAAAAAAAAAPwAAgD8AAAAAAAAAAAAAAAAAAEA/AAAAAAAAAAAAAAA/AACAPwAAAAAAAAAAAAAAAAAAAD8AAAAAAAAAAAAAAD8AAEA/AAAAAAAAAAA=",
         "AACAPgAAAAAAAAAAAAAAAAAAgD4AAIA+AAAAAAAAAAAAAIA/AACAPgAAAAAAAAAAAABAPwAAQD8AAAAAAAAAAAAAQD8AAIA+AAAAAAAAAAAAAEA/AACAPwAAAAAAAAAAAAAAAAAAQD8AAAAAAAAAAAAAAD8AAEA/AAAAAAAAAAAAAAA/AACAPgAAAAAAAAAAAACAPgAAgD4AAAAAAAAAAAAAAD8AAIA+AAAAAAAAAAAAAIA+AAAAPwAAAAAAAAAAAAAAAAAAgD4AAAAAAAAAAAAAgD4AAAA/AAAAAAAAAAAAAEA/AACAPgAAAAAAAAAAAABAPwAAAAAAAAAAAAAAAAAAQD8AAIA+AAAAAAAAAAAAAEA/AAAAPwAAAAAAAAAAAACAPwAAQD8AAAAAAAAAAAAAQD8AAAA/AAAAAAAAAAAAAEA/AAAAPwAAAAAAAAAAAAAAPwAAgD4AAAAAAAAAAAAAQD8AAAA/AAAAAAAAAAAAAAA/AABAPwAAAAAAAAAAAABAPwAAQD8AAAAAAAAAAAAAAD8AAEA/AAAAAAAAAAAAAIA+AABAPwAAAAAAAAAAAACAPgAAgD8AAAAAAAAAAAAAgD4AAEA/AAAAAAAAAAAAAIA+AABAPwAAAAAAAAAAAACAPgAAAD8AAAAAAAAAAAAAgD4AAEA/AAAAAAAAAAA="
        ],
        "autoscale": true,
        "deformation": false,
        "draw_surf": null,
        "draw_vol": null,
        "edges": [
         "AACAPgAAAAAAAAAAAAAAAAAAgD8AAIA+AAAAAAAAAAAAAEA/AACAPwAAAAAAAAAAAAAAAAAAQD8AAAAAAAAAAAAAQD8AAAAAAAAAAAAAAAAAAIA/AABAPwAAAAAAAAAAAACAPgAAgD8AAAAAAAAAAAAAAAAAAIA+AAAAAAAAAAAAAAA/AAAAAAAAAAAAAAAAAACAPwAAAD8AAAAAAAAAAAAAAD8AAIA/AAAAAAAAAAAAAAAAAAAAPwAAAAAAAAAAAACAPwAAAAAAAAAAAAAAAAAAgD8AAIA/AAAAAAAAAAAAAAAAAACAPwAAAAAAAAAAAAAAAAAAAAAAAAAAAAAAAA==",
         "AAAAAAAAAAAAAAAAAAAAAAAAgD8AAAAAAAAAAAAAAAAAAIA/AACAPwAAAAAAAAAAAAAAAAAAgD8AAAAAAAAAAAAAAD8AAAAAAAAAAAAAAAAAAIA/AAAAPwAAAAAAAAAAAAAAPwAAgD8AAAAAAAAAAAAAAAAAAAA/AAAAAAAAAAAAAIA+AAAAAAAAAAAAAAAAAACAPwAAgD4AAAAAAAAAAAAAQD8AAIA/AAAAAAAAAAAAAAAAAABAPwAAAAAAAAAAAABAPwAAAAAAAAAAAAAAAAAAgD8AAEA/AAAAAAAAAAAAAIA+AACAPwAAAAAAAAAAAAAAAAAAgD4AAAAAAAAAAA=="
        ],
        "funcdim": 0,
        "mesh_center": [
         0.5,
         0.5,
         1.1125369292536007e-308
        ],
        "mesh_dim": 2,
        "mesh_radius": 0.7071067811865476,
        "mesh_regions_2d": 1,
        "mesh_regions_3d": 0,
        "ngsolve_version": "6.2.2104-81-gc767972b4",
        "order2d": 1,
        "order3d": 1,
        "show_mesh": true,
        "show_wireframe": true
       }
      }
     },
     "d67e563bbcb1478b8523b51d2929b83d": {
      "model_module": "@jupyter-widgets/base",
      "model_module_version": "1.2.0",
      "model_name": "LayoutModel",
      "state": {
       "_model_module": "@jupyter-widgets/base",
       "_model_module_version": "1.2.0",
       "_model_name": "LayoutModel",
       "_view_count": null,
       "_view_module": "@jupyter-widgets/base",
       "_view_module_version": "1.2.0",
       "_view_name": "LayoutView",
       "align_content": null,
       "align_items": null,
       "align_self": null,
       "border": null,
       "bottom": null,
       "display": null,
       "flex": null,
       "flex_flow": null,
       "grid_area": null,
       "grid_auto_columns": null,
       "grid_auto_flow": null,
       "grid_auto_rows": null,
       "grid_column": null,
       "grid_gap": null,
       "grid_row": null,
       "grid_template_areas": null,
       "grid_template_columns": null,
       "grid_template_rows": null,
       "height": null,
       "justify_content": null,
       "justify_items": null,
       "left": null,
       "margin": null,
       "max_height": null,
       "max_width": null,
       "min_height": null,
       "min_width": null,
       "object_fit": null,
       "object_position": null,
       "order": null,
       "overflow": null,
       "overflow_x": null,
       "overflow_y": null,
       "padding": null,
       "right": null,
       "top": null,
       "visibility": null,
       "width": null
      }
     }
    },
    "version_major": 2,
    "version_minor": 0
   }
  }
 },
 "nbformat": 4,
 "nbformat_minor": 4
}