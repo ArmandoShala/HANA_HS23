{
 "cells": [
  {
   "cell_type": "markdown",
   "metadata": {},
   "source": [
    "# Beispiel Berechnung $H^1$ Norm und Skalarprodukt"
   ]
  },
  {
   "cell_type": "markdown",
   "metadata": {},
   "source": [
    "Wir berechnen die $H^1$ Norm für\n",
    "\n",
    "$$u(x,y) = \\big(x-\\frac{1}{2}\\big)\\cdot \\big(y-\\frac{1}{2}\\big)$$\n",
    "\n",
    "auf $\\Omega = [0,1]^2 \\subset \\mathbb{R}^2$ zum einen analytisch und zum andern numerisch mit Hilfe von NGSolve."
   ]
  },
  {
   "cell_type": "code",
   "execution_count": 1,
   "metadata": {},
   "outputs": [],
   "source": [
    "from netgen.geom2d import unit_square\n",
    "from ngsolve import *\n",
    "from ngsolve.webgui import Draw"
   ]
  },
  {
   "cell_type": "markdown",
   "metadata": {},
   "source": [
    "Diskretisierung des Gebiets:"
   ]
  },
  {
   "cell_type": "code",
   "execution_count": 2,
   "metadata": {},
   "outputs": [],
   "source": [
    "mesh = Mesh(unit_square.GenerateMesh(maxh=0.1))"
   ]
  },
  {
   "cell_type": "markdown",
   "metadata": {},
   "source": [
    "## Numerisch"
   ]
  },
  {
   "cell_type": "markdown",
   "metadata": {},
   "source": [
    "Wir benutzen für die numerische Berechnung finite Elemente für den $H^1$:"
   ]
  },
  {
   "cell_type": "code",
   "execution_count": 3,
   "metadata": {},
   "outputs": [],
   "source": [
    "V = H1(mesh,order=2)\n",
    "gfu = GridFunction(V)"
   ]
  },
  {
   "cell_type": "markdown",
   "metadata": {},
   "source": [
    "Funktionen aus dem FE-Raum werden in NGSolve GridFunction genannt. Wir setzen die Werte von $u(x,y)\\in V$  auf\n",
    "\n",
    "$$u(x,y) = \\big(x-\\frac{1}{2}\\big)\\cdot \\big(y-\\frac{1}{2}\\big).$$"
   ]
  },
  {
   "cell_type": "code",
   "execution_count": 4,
   "metadata": {},
   "outputs": [
    {
     "data": {
      "application/vnd.jupyter.widget-view+json": {
       "model_id": "871a4d2f6b204c4a83c4163d6c54dd5a",
       "version_major": 2,
       "version_minor": 0
      },
      "text/plain": [
       "WebGuiWidget(value={'ngsolve_version': '6.2.2104-121-gee6902d12', 'mesh_dim': 2, 'order2d': 2, 'order3d': 2, '…"
      ]
     },
     "metadata": {},
     "output_type": "display_data"
    },
    {
     "data": {
      "text/plain": [
       "BaseWebGuiScene"
      ]
     },
     "execution_count": 4,
     "metadata": {},
     "output_type": "execute_result"
    }
   ],
   "source": [
    "gfu.Set((x-0.5)*(y-.5))\n",
    "Draw(gfu,mesh,'u')"
   ]
  },
  {
   "cell_type": "markdown",
   "metadata": {},
   "source": [
    "Für das Integral\n",
    "\n",
    "$$\\int_\\Omega u^2(x,y) d\\Omega$$\n",
    "\n",
    "erhalten wir mit Hilfe numerischer Integration:"
   ]
  },
  {
   "cell_type": "code",
   "execution_count": 5,
   "metadata": {},
   "outputs": [
    {
     "data": {
      "text/plain": [
       "0.006944444444444417"
      ]
     },
     "execution_count": 5,
     "metadata": {},
     "output_type": "execute_result"
    }
   ],
   "source": [
    "Integrate(gfu**2,mesh)"
   ]
  },
  {
   "cell_type": "markdown",
   "metadata": {},
   "source": [
    "Und für \n",
    "\n",
    "$$\\int_\\Omega \\nabla u(x,y)\\cdot\\nabla u(x,y) d\\Omega$$\n",
    "\n",
    "folgt"
   ]
  },
  {
   "cell_type": "code",
   "execution_count": 6,
   "metadata": {},
   "outputs": [
    {
     "data": {
      "text/plain": [
       "0.16666666666666602"
      ]
     },
     "execution_count": 6,
     "metadata": {},
     "output_type": "execute_result"
    }
   ],
   "source": [
    "Integrate(grad(gfu)*grad(gfu),mesh)"
   ]
  },
  {
   "cell_type": "markdown",
   "metadata": {},
   "source": [
    "Damit folgt für die $H^1$-Norm\n",
    "\n",
    "$$\\|u\\|_{H^1} = \\left(\\int_\\Omega u^2(x,y) d\\Omega + \\int_\\Omega \\nabla u(x,y)\\cdot\\nabla u(x,y) d\\Omega\\right)^{1/2}$$"
   ]
  },
  {
   "cell_type": "code",
   "execution_count": 7,
   "metadata": {
    "scrolled": true
   },
   "outputs": [
    {
     "data": {
      "text/plain": [
       "0.41666666666666585"
      ]
     },
     "execution_count": 7,
     "metadata": {},
     "output_type": "execute_result"
    }
   ],
   "source": [
    "(Integrate(gfu**2,mesh)+Integrate(grad(gfu)*grad(gfu),mesh))**0.5"
   ]
  },
  {
   "cell_type": "markdown",
   "metadata": {},
   "source": [
    "Im Sobolevraum $H^1$ ist das Skalarprodukt gegeben durch\n",
    "\n",
    "$$(u,v)_{H^1} = \\int_\\Omega u(x,y)\\cdot v(x,y)\\, d\\Omega + \\int_\\Omega \\nabla u(x,y)\\cdot\\nabla v(x,y) d\\Omega.$$\n",
    "\n",
    "Wir berechnen $(u,v)$, wobei $v$ gegeben sei durch\n",
    "\n",
    "$$v(x,y) = 1-\\big(x-\\frac{1}{2}\\big)^2\\cdot \\big(y-\\frac{1}{2}\\big)^2.$$"
   ]
  },
  {
   "cell_type": "code",
   "execution_count": 8,
   "metadata": {},
   "outputs": [
    {
     "data": {
      "application/vnd.jupyter.widget-view+json": {
       "model_id": "abeb19bd2c294c21933a752a2509a350",
       "version_major": 2,
       "version_minor": 0
      },
      "text/plain": [
       "WebGuiWidget(value={'ngsolve_version': '6.2.2104-121-gee6902d12', 'mesh_dim': 2, 'order2d': 2, 'order3d': 2, '…"
      ]
     },
     "metadata": {},
     "output_type": "display_data"
    },
    {
     "data": {
      "text/plain": [
       "BaseWebGuiScene"
      ]
     },
     "execution_count": 8,
     "metadata": {},
     "output_type": "execute_result"
    }
   ],
   "source": [
    "gfv = GridFunction(V)\n",
    "gfv.Set(1-(x-0.5)**2*(y-0.5)**2)\n",
    "Draw(gfv,mesh,'v')"
   ]
  },
  {
   "cell_type": "markdown",
   "metadata": {},
   "source": [
    "Das Skalarprodukt $(u,v)_{H^1}$ ist gegeben durch"
   ]
  },
  {
   "cell_type": "code",
   "execution_count": 9,
   "metadata": {
    "scrolled": false
   },
   "outputs": [
    {
     "data": {
      "text/plain": [
       "-5.79696063203168e-06"
      ]
     },
     "execution_count": 9,
     "metadata": {},
     "output_type": "execute_result"
    }
   ],
   "source": [
    "Integrate(gfu*gfv,mesh)+Integrate(grad(gfu)*grad(gfv),mesh)"
   ]
  },
  {
   "cell_type": "markdown",
   "metadata": {},
   "source": [
    "## Analytisch"
   ]
  },
  {
   "cell_type": "markdown",
   "metadata": {},
   "source": [
    "Wir berechnen nun mit Hilfe von `sympy` analytisch die Norm und das Skalarprodukt:"
   ]
  },
  {
   "cell_type": "code",
   "execution_count": 10,
   "metadata": {},
   "outputs": [
    {
     "data": {
      "text/latex": [
       "$\\displaystyle \\left(x - 0.5\\right) \\left(y - 0.5\\right)$"
      ],
      "text/plain": [
       "(x - 0.5)*(y - 0.5)"
      ]
     },
     "execution_count": 10,
     "metadata": {},
     "output_type": "execute_result"
    }
   ],
   "source": [
    "import sympy as sp\n",
    "\n",
    "# Um die Symbole x,y (Koordinaten in NGSolve nicht zu \n",
    "# überschreiben wählen wir andere Namen)\n",
    "xs,ys = sp.symbols('x,y')\n",
    "\n",
    "u = (xs-1/2)*(ys-1/2)\n",
    "u"
   ]
  },
  {
   "cell_type": "markdown",
   "metadata": {},
   "source": [
    "Für das Integral\n",
    "\n",
    "$$\\int_\\Omega u^2(x,y) d\\Omega$$\n",
    "\n",
    "erhalten wir"
   ]
  },
  {
   "cell_type": "code",
   "execution_count": 11,
   "metadata": {
    "scrolled": true
   },
   "outputs": [
    {
     "data": {
      "text/latex": [
       "$\\displaystyle 0.00694444444444445$"
      ],
      "text/plain": [
       "0.00694444444444445"
      ]
     },
     "execution_count": 11,
     "metadata": {},
     "output_type": "execute_result"
    }
   ],
   "source": [
    "sp.integrate(u**2,(xs,0,1),(ys,0,1))"
   ]
  },
  {
   "cell_type": "markdown",
   "metadata": {},
   "source": [
    "und für\n",
    "\n",
    "$$\\int_\\Omega \\nabla u(x,y)\\cdot\\nabla u(x,y) d\\Omega = \\int_\\Omega \\partial_x u(x,y)\\, \\partial_x v(x,y) + \\partial_y u(x,y)\\, \\partial_y v(x,y) d\\Omega$$\n",
    "\n",
    "folgt"
   ]
  },
  {
   "cell_type": "code",
   "execution_count": 12,
   "metadata": {
    "scrolled": false
   },
   "outputs": [
    {
     "data": {
      "text/latex": [
       "$\\displaystyle 0.166666666666667$"
      ],
      "text/plain": [
       "0.166666666666667"
      ]
     },
     "execution_count": 12,
     "metadata": {},
     "output_type": "execute_result"
    }
   ],
   "source": [
    "sp.integrate(u.diff(xs)*u.diff(xs)+u.diff(ys)*u.diff(ys),(xs,0,1),(ys,0,1))"
   ]
  },
  {
   "cell_type": "markdown",
   "metadata": {},
   "source": [
    "Damit erhalten wir für die $H^1$-Norm\n",
    "\n",
    "$$\\|u\\|_{H^1} = \\left(\\int_\\Omega u^2(x,y) d\\Omega + \\int_\\Omega \\nabla u(x,y)\\cdot\\nabla u(x,y) d\\Omega\\right)^{1/2}$$"
   ]
  },
  {
   "cell_type": "code",
   "execution_count": 13,
   "metadata": {},
   "outputs": [
    {
     "data": {
      "text/latex": [
       "$\\displaystyle 0.416666666666667$"
      ],
      "text/plain": [
       "0.416666666666667"
      ]
     },
     "execution_count": 13,
     "metadata": {},
     "output_type": "execute_result"
    }
   ],
   "source": [
    "(sp.integrate(u**2,(xs,0,1),(ys,0,1))+\n",
    " sp.integrate(u.diff(xs)*u.diff(xs)+\n",
    "              u.diff(ys)*u.diff(ys),(xs,0,1),(ys,0,1)))**0.5"
   ]
  },
  {
   "cell_type": "markdown",
   "metadata": {},
   "source": [
    "und für das Skalarprodukt mit der gegebenen Funktion $v$\n",
    "\n",
    "$$(u,v)_{H^1} = \\int_\\Omega u(x,y)\\cdot v(x,y)\\, d\\Omega + \\int_\\Omega \\nabla u(x,y)\\cdot\\nabla v(x,y) d\\Omega$$"
   ]
  },
  {
   "cell_type": "code",
   "execution_count": 14,
   "metadata": {},
   "outputs": [
    {
     "data": {
      "text/latex": [
       "$\\displaystyle - \\left(x - 0.5\\right)^{2} \\left(y - 0.5\\right)^{2} + 1$"
      ],
      "text/plain": [
       "-(x - 0.5)**2*(y - 0.5)**2 + 1"
      ]
     },
     "execution_count": 14,
     "metadata": {},
     "output_type": "execute_result"
    }
   ],
   "source": [
    "v = 1-(xs-1/2)**2*(ys-1/2)**2\n",
    "v"
   ]
  },
  {
   "cell_type": "code",
   "execution_count": 15,
   "metadata": {},
   "outputs": [
    {
     "data": {
      "text/latex": [
       "$\\displaystyle 0$"
      ],
      "text/plain": [
       "0"
      ]
     },
     "execution_count": 15,
     "metadata": {},
     "output_type": "execute_result"
    }
   ],
   "source": [
    "(sp.integrate(u*v,(xs,0,1),(ys,0,1))+\n",
    " sp.integrate(u.diff(xs)*v.diff(xs)+\n",
    "              u.diff(ys)*v.diff(ys),(xs,0,1),(ys,0,1)))"
   ]
  },
  {
   "cell_type": "markdown",
   "metadata": {},
   "source": [
    "Die beiden Funktionen stehe daher senkrecht zu einander.\n",
    "\n",
    "**Achung:** Das numerische und analytische Resultat stimmt nicht überein. Die Genauigkeit der numerischen Rechnung ist noch zu unpräzise. Entsprechend sollte eine feinere Diskretisierung oder höhere Polynom Ordnung für die Approximation des Sobolevraums gewählt werden.\n",
    "\n",
    "**Aufgabe:** Studieren Sie die Konvergenz bezüglich Feinheit der Diskretisierung und der Ordnung der FEM Approximation des Sobolevraums $H^1$."
   ]
  },
  {
   "cell_type": "code",
   "execution_count": 16,
   "metadata": {
    "scrolled": true,
    "tags": [
     "hide-input"
    ]
   },
   "outputs": [
    {
     "data": {
      "image/png": "[encoded data removed]",
      "text/plain": [
       "<Figure size 432x288 with 2 Axes>"
      ]
     },
     "metadata": {
      "needs_background": "light"
     },
     "output_type": "display_data"
    }
   ],
   "source": [
    "import matplotlib.pyplot as plt\n",
    "import numpy as np\n",
    "\n",
    "order = 1\n",
    "scalProd = []\n",
    "for maxh in [1e-1,5e-2,1e-2]:\n",
    "    mesh = Mesh(unit_square.GenerateMesh(maxh=maxh))\n",
    "    V = H1(mesh,order=order)\n",
    "    gfu = GridFunction(V)\n",
    "    gfv = GridFunction(V)\n",
    "    with TaskManager():\n",
    "        gfu.Set((x-0.5)*(y-.5))\n",
    "        gfv.Set(1-(x-0.5)**2*(y-0.5)**2)\n",
    "        scalProd.append([maxh, Integrate(gfu*gfv,mesh,order=order)+Integrate(grad(gfu)*grad(gfv),mesh,order=order)])\n",
    "scalProd = np.array(scalProd)\n",
    "\n",
    "plt.subplot(1,2,1)\n",
    "plt.loglog(scalProd[:,0],np.abs(scalProd[:,1]))\n",
    "plt.xlabel('max h')\n",
    "plt.ylabel('$(u,v)_{H^1}$')\n",
    "plt.grid()\n",
    "plt.title('order = 1')\n",
    "\n",
    "plt.subplot(1,2,2)\n",
    "plt.loglog(scalProd[:,0]/scalProd[0,0],np.abs(scalProd[:,1]/scalProd[0,1]))\n",
    "plt.xlabel('rel. max h')\n",
    "plt.ylabel('rel. error')\n",
    "plt.grid()\n",
    "plt.title('order = 1')\n",
    "plt.tight_layout()\n",
    "plt.show()"
   ]
  },
  {
   "cell_type": "code",
   "execution_count": 19,
   "metadata": {
    "tags": [
     "hide-input"
    ]
   },
   "outputs": [
    {
     "data": {
      "image/png": "[encoded data removed]",
      "text/plain": [
       "<Figure size 432x288 with 2 Axes>"
      ]
     },
     "metadata": {
      "needs_background": "light"
     },
     "output_type": "display_data"
    }
   ],
   "source": [
    "maxh = 2.5e-1\n",
    "scalProd = []\n",
    "for order in range(1,5):\n",
    "    mesh = Mesh(unit_square.GenerateMesh(maxh=maxh))\n",
    "    V = H1(mesh,order=order)\n",
    "    gfu = GridFunction(V)\n",
    "    gfv = GridFunction(V)\n",
    "    with TaskManager():\n",
    "        gfu.Set((x-0.5)*(y-.5))\n",
    "        gfv.Set(1-(x-0.5)**2*(y-0.5)**2)\n",
    "        scalProd.append([order, Integrate(gfu*gfv,mesh,order=order)+Integrate(grad(gfu)*grad(gfv),mesh,order=order)])\n",
    "scalProd = np.array(scalProd)\n",
    "\n",
    "plt.subplot(1,2,1)\n",
    "plt.semilogy(scalProd[:,0],np.abs(scalProd[:,1]),'o')\n",
    "plt.xlabel('order')\n",
    "plt.ylabel('$(u,v)_{H^1}$')\n",
    "plt.grid()\n",
    "plt.title('maxh = 0.25')\n",
    "\n",
    "plt.subplot(1,2,2)\n",
    "plt.semilogy(scalProd[:,0],np.abs(scalProd[:,1]/scalProd[0,1]),'o')\n",
    "plt.xlabel('order')\n",
    "plt.ylabel('rel. error')\n",
    "plt.grid()\n",
    "plt.title('maxh = 0.25')\n",
    "plt.tight_layout()\n",
    "plt.show()"
   ]
  },
  {
   "cell_type": "markdown",
   "metadata": {},
   "source": [
    "Anstelle von `GridFunction` können wir im Beispiel auch direkt `CoefficientFunction` benutzen. In dem Fall ist kein FE-Space notwendig. Die `CoefficientFunction` sind algebraische Ausdrücke. Die Ableitungen sind jedoch selber zu definieren."
   ]
  },
  {
   "cell_type": "code",
   "execution_count": 20,
   "metadata": {
    "scrolled": true,
    "tags": [
     "hide-input"
    ]
   },
   "outputs": [
    {
     "data": {
      "image/png": "[encoded data removed]",
      "text/plain": [
       "<Figure size 432x288 with 1 Axes>"
      ]
     },
     "metadata": {
      "needs_background": "light"
     },
     "output_type": "display_data"
    }
   ],
   "source": [
    "maxh = 2.5e-1\n",
    "mesh = Mesh(unit_square.GenerateMesh(maxh=maxh))\n",
    "\n",
    "scalProd = []\n",
    "uCF = (x-0.5)*(y-.5)\n",
    "vCF = 1-(x-0.5)**2*(y-0.5)**2\n",
    "\n",
    "for order in range(1,4):\n",
    "    with TaskManager():\n",
    "        scalProd.append([order, Integrate(uCF*vCF,mesh,order=order)+\n",
    "                                Integrate(uCF.Diff(x)*vCF.Diff(x)+\n",
    "                                          uCF.Diff(y)*vCF.Diff(y),mesh,order=order)])\n",
    "scalProd = np.array(scalProd)\n",
    "\n",
    "plt.semilogy(scalProd[:,0],np.abs(scalProd[:,1]),'o')\n",
    "plt.xlabel('order')\n",
    "plt.ylabel('$(u,v)_{H^1}$')\n",
    "plt.grid()\n",
    "plt.title('maxh = 0.25')\n",
    "plt.show()"
   ]
  },
  {
   "cell_type": "code",
   "execution_count": null,
   "metadata": {},
   "outputs": [],
   "source": []
  }
 ],
 "metadata": {
  "celltoolbar": "Tags",
  "kernelspec": {
   "display_name": "Python 3",
   "language": "python",
   "name": "python3"
  },
  "language_info": {
   "codemirror_mode": {
    "name": "ipython",
    "version": 3
   },
   "file_extension": ".py",
   "mimetype": "text/x-python",
   "name": "python",
   "nbconvert_exporter": "python",
   "pygments_lexer": "ipython3",
   "version": "3.8.1"
  }
 },
 "nbformat": 4,
 "nbformat_minor": 4
}
