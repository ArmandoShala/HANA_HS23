{
 "cells": [
  {
   "cell_type": "markdown",
   "metadata": {},
   "source": [
    "# Beispiel nichtlineares Randwertproblem"
   ]
  },
  {
   "cell_type": "markdown",
   "metadata": {},
   "source": [
    "Als Beispiel betrachten wir das folgende nichtlineare Randwertproblem\n",
    "\n",
    "$$\\begin{split}-u''(x) + u(x)^3 & = -3+\\frac{1}{8}(4-7 x+3 x^2)^3\\\\\n",
    "u(0) & = 2\\\\\n",
    "u(2) & = 1.\\end{split}$$\n",
    "\n",
    "Die exakte Lösung ist gegeben durch\n",
    "\n",
    "$$u_{\\text{exact}} = \\frac{1}{2} (4-7 x+3 x^2).$$"
   ]
  },
  {
   "cell_type": "code",
   "execution_count": 1,
   "metadata": {},
   "outputs": [],
   "source": [
    "from netgen.meshing import Mesh as NGMesh\n",
    "from netgen.meshing import MeshPoint, Element0D, Element1D, Pnt\n",
    "from ngsolve import *\n",
    "\n",
    "import matplotlib.pyplot as plt\n",
    "import numpy as np"
   ]
  },
  {
   "cell_type": "markdown",
   "metadata": {},
   "source": [
    "1D Mesh erstellen: (2 Elemente mit Intervall Länge 2)"
   ]
  },
  {
   "cell_type": "code",
   "execution_count": 2,
   "metadata": {},
   "outputs": [],
   "source": [
    "# generate a 1D mesh\n",
    "ngmesh = NGMesh()\n",
    "ngmesh.dim = 1\n",
    "\n",
    "nel = 1\n",
    "l0 = 2\n",
    "\n",
    "pnums = []\n",
    "for i in range(0, nel+1):\n",
    "    pnums.append (ngmesh.Add(MeshPoint (Pnt(i/nel*l0, 0, 0))))\n",
    "\n",
    "for i in range(0,nel):\n",
    "    ngmesh.Add (Element1D([pnums[i],pnums[i+1]], index=1))\n",
    "\n",
    "ngmesh.Add (Element0D(pnums[0], index=1))\n",
    "ngmesh.Add (Element0D(pnums[nel], index=2))\n",
    "\n",
    "mesh = Mesh(ngmesh)"
   ]
  },
  {
   "cell_type": "markdown",
   "metadata": {},
   "source": [
    "FE-Space und Trial, Test Proxyfunktionen für die Definition der schwachen Gleichung"
   ]
  },
  {
   "cell_type": "code",
   "execution_count": 3,
   "metadata": {},
   "outputs": [],
   "source": [
    "order = 2\n",
    "V = H1(mesh, order=order, dirichlet=[1,2])\n",
    "u,v = V.TnT()\n",
    "gfu = GridFunction(V)"
   ]
  },
  {
   "cell_type": "markdown",
   "metadata": {},
   "source": [
    "Durch partielle Integration des ersten Terms und für $v\\in V=H_0^1([0,2])$ gilt\n",
    "\n",
    "$$F(u) v = \\int_0^2u'(x) v'(x)\\, dx + \\int_0^2u(x)^3 v(x)\\,dx - \\int_0^2(-3+\\frac{1}{8}(4-7 x+3 x^2)^3)\\, v(x)\\, dx = 0 \\quad \\forall v \\in V$$"
   ]
  },
  {
   "cell_type": "code",
   "execution_count": 4,
   "metadata": {},
   "outputs": [],
   "source": [
    "a = BilinearForm(V)\n",
    "a += (grad(u)*grad(v)+u**3*v-(-3+1/8*(4-7*x+3*x*x)**3)*v)*dx"
   ]
  },
  {
   "cell_type": "markdown",
   "metadata": {},
   "source": [
    "Die Variation von $F(u)$ ist gegeben durch\n",
    "\n",
    "$$F'(u)w v = \\frac{d}{d\\varepsilon} F(u+\\epsilon w) v \\Big|_{\\varepsilon=0} = \\int_0^2w'(x) v'(x) + 3\\,u(x)^2 w(x) v(x)\\, dx \\quad \\forall w, v \\in V$$"
   ]
  },
  {
   "cell_type": "code",
   "execution_count": 5,
   "metadata": {},
   "outputs": [],
   "source": [
    "a1 = BilinearForm(V)\n",
    "a1 += (grad(u)*grad(v)+3*gfu**2*u*v)*dx"
   ]
  },
  {
   "cell_type": "markdown",
   "metadata": {},
   "source": [
    "oder mit Hilfe von Computer Algebra in NGSolve:"
   ]
  },
  {
   "cell_type": "code",
   "execution_count": 6,
   "metadata": {},
   "outputs": [],
   "source": [
    "a.AssembleLinearization(gfu.vec)"
   ]
  },
  {
   "cell_type": "markdown",
   "metadata": {},
   "source": [
    "Die Dirichlet Randbedingung wird für den Lösungsvektor gesetzt"
   ]
  },
  {
   "cell_type": "code",
   "execution_count": 7,
   "metadata": {},
   "outputs": [],
   "source": [
    "u0 = CoefficientFunction([2,1])\n",
    "gfu.Set(u0,BND)"
   ]
  },
  {
   "cell_type": "markdown",
   "metadata": {},
   "source": [
    "Mit Hilfe der Newton Iteration wird das System gelöst.\n",
    "\n",
    "$$F(u)v = 0\\quad \\forall\\ v\\in V$$\n",
    "\n",
    "```{prf:algorithm} Newton Verfahren\n",
    ":label: my-alg-NewtonVerfahren\n",
    "\n",
    "Given $u_0$ <br>\n",
    "for $n = 0, 1, 2, \\ldots$ <br>\n",
    "$\\qquad r_n = A(u_n) - f$ <br>\n",
    "$\\qquad F'(u_n)\\cdot \\delta u = r_n$ <br>\n",
    "$\\qquad u_{n+1} = u_n - \\delta u$\n",
    "```"
   ]
  },
  {
   "cell_type": "markdown",
   "metadata": {},
   "source": [
    "```{admonition} Aufgabe \n",
    "Berechne die Linearisierung von $F(u)$.\n",
    "```"
   ]
  },
  {
   "cell_type": "code",
   "execution_count": 8,
   "metadata": {},
   "outputs": [
    {
     "name": "stdout",
     "output_type": "stream",
     "text": [
      "Newton iteration 0\n",
      "<A u 0 , A u 0 >_{-1}^0.5 =  2.63044945649285\n",
      "Newton iteration 1\n",
      "<A u 1 , A u 1 >_{-1}^0.5 =  1.1461868091843588\n",
      "Newton iteration 2\n",
      "<A u 2 , A u 2 >_{-1}^0.5 =  0.23956338535903238\n",
      "Newton iteration 3\n",
      "<A u 3 , A u 3 >_{-1}^0.5 =  0.004330380345703788\n",
      "Newton iteration 4\n",
      "<A u 4 , A u 4 >_{-1}^0.5 =  6.498623278264114e-07\n",
      "Newton iteration 5\n",
      "<A u 5 , A u 5 >_{-1}^0.5 =  1.444693506846862e-14\n"
     ]
    }
   ],
   "source": [
    "res = gfu.vec.CreateVector()\n",
    "du  = gfu.vec.CreateVector()\n",
    "\n",
    "for it in range(10):\n",
    "    print (\"Newton iteration\", it)\n",
    "\n",
    "    # solve linearized problem:\n",
    "    # F(u_n)\n",
    "    a.Apply (gfu.vec, res)\n",
    "    \n",
    "    # F'(u_n)\n",
    "    a.AssembleLinearization(gfu.vec)\n",
    "    # oder alternativ das die selber berechnete Variation\n",
    "    #a1.Assemble()\n",
    "    \n",
    "    # F'(u_n) du = F(u_n)\n",
    "    du.data = a.mat.Inverse(V.FreeDofs()) * res\n",
    "    # oder alternativ das die selber berechnete Variation\n",
    "    #du.data = a1.mat.Inverse(V.FreeDofs()) * res\n",
    "\n",
    "    # update iteration\n",
    "    # u_n+1 = u_n - du\n",
    "    gfu.vec.data -= du\n",
    "\n",
    "    #stopping criteria\n",
    "    stopcritval = sqrt(abs(InnerProduct(du,res)))\n",
    "    print (\"<A u\",it,\", A u\",it,\">_{-1}^0.5 = \", stopcritval)\n",
    "    if stopcritval < 1e-13:\n",
    "        break"
   ]
  },
  {
   "cell_type": "code",
   "execution_count": 9,
   "metadata": {},
   "outputs": [],
   "source": [
    "def uexact(x):\n",
    "    return 0.5*(4-7*x+3*x*x)"
   ]
  },
  {
   "cell_type": "code",
   "execution_count": 10,
   "metadata": {},
   "outputs": [
    {
     "data": {
      "image/png": "[encoded data removed]",
      "text/plain": [
       "<Figure size 432x288 with 1 Axes>"
      ]
     },
     "metadata": {
      "needs_background": "light"
     },
     "output_type": "display_data"
    }
   ],
   "source": [
    "xi = np.linspace(0,l0,150)\n",
    "ui = [gfu(xip) for xip in xi]\n",
    "\n",
    "plt.plot(xi,ui)\n",
    "plt.plot(xi,uexact(xi))\n",
    "plt.grid()\n",
    "plt.show()"
   ]
  },
  {
   "cell_type": "markdown",
   "metadata": {},
   "source": [
    "Für den Fehler in der $L_2$-Norm folgt"
   ]
  },
  {
   "cell_type": "code",
   "execution_count": 11,
   "metadata": {},
   "outputs": [
    {
     "data": {
      "text/plain": [
       "4.0864318637854154e-15"
      ]
     },
     "execution_count": 11,
     "metadata": {},
     "output_type": "execute_result"
    }
   ],
   "source": [
    "Integrate((gfu-uexact(x))**2,mesh)**0.5"
   ]
  },
  {
   "cell_type": "markdown",
   "metadata": {},
   "source": [
    "Der Fehler ist numerisch Null, da wir Elemente 2. Ordnung für ein Lösungpolynom 2. Ordnung benutzen. "
   ]
  },
  {
   "cell_type": "markdown",
   "metadata": {},
   "source": [
    "**Lösung mit zugehörigem Funktional**"
   ]
  },
  {
   "cell_type": "markdown",
   "metadata": {},
   "source": [
    "Wir haben im Kapitel Variationsrechnung gesehen, dass die schwache Gleichung die Nullstellengleichung der ersten Variation eines eines zugehören Funktionals sind. Es gilt daher das notwendige Kriterium\n",
    "\n",
    "$$J(u) = \\min_{v\\in V} J(v)\\qquad\\Rightarrow\\qquad \\delta J(u)\\,v = 0\\quad \\forall v\\in V.$$\n",
    "\n",
    "In NGSolve können wir einer Bilinearform die Variation eines zu definierenden Funktionals zuordnen: "
   ]
  },
  {
   "cell_type": "markdown",
   "metadata": {},
   "source": [
    "```{admonition} Aufgabe \n",
    "* Wie lautet das zugehörige Funktional $J(u)$?\n",
    "* Berechne die zweite Variation $\\delta^2 J(u)(v\\, w)$ von $J(u)$.\n",
    "```"
   ]
  },
  {
   "cell_type": "code",
   "execution_count": 12,
   "metadata": {},
   "outputs": [],
   "source": [
    "u = V.TrialFunction()\n",
    "\n",
    "# def BilinearForm\n",
    "a2 = BilinearForm(V)\n",
    "a2 += Variation((1/2*grad(u)*grad(u)+1/4*u**4-(-3+1/8*(4-7*x+3*x*x)*(4-7*x+3*x*x)*(4-7*x+3*x*x))*u)*dx)"
   ]
  },
  {
   "cell_type": "code",
   "execution_count": 13,
   "metadata": {},
   "outputs": [],
   "source": [
    "gfue = GridFunction(V)\n",
    "gfue.Set(u0,BND)"
   ]
  },
  {
   "cell_type": "code",
   "execution_count": 14,
   "metadata": {},
   "outputs": [
    {
     "name": "stdout",
     "output_type": "stream",
     "text": [
      "Newton iteration 0\n",
      "<A u 0 , A u 0 >_{-1}^0.5 =  2.63044945649285\n",
      "Newton iteration 1\n",
      "<A u 1 , A u 1 >_{-1}^0.5 =  1.1461868091843588\n",
      "Newton iteration 2\n",
      "<A u 2 , A u 2 >_{-1}^0.5 =  0.23956338535903238\n",
      "Newton iteration 3\n",
      "<A u 3 , A u 3 >_{-1}^0.5 =  0.004330380345703788\n",
      "Newton iteration 4\n",
      "<A u 4 , A u 4 >_{-1}^0.5 =  6.498623278264114e-07\n",
      "Newton iteration 5\n",
      "<A u 5 , A u 5 >_{-1}^0.5 =  1.444693506846862e-14\n"
     ]
    }
   ],
   "source": [
    "for it in range(10):\n",
    "    print (\"Newton iteration\", it)\n",
    "\n",
    "    # solve linearized problem:\n",
    "    # F(u_n)\n",
    "    a2.Apply(gfue.vec, res)\n",
    "    # F'(u_n)\n",
    "    a2.AssembleLinearization(gfue.vec)\n",
    "    # F'(u_n) du = F(u_n)\n",
    "    du.data = a2.mat.Inverse(V.FreeDofs()) * res\n",
    "\n",
    "\n",
    "    # update iteration\n",
    "    # u_n+1 = u_n - du\n",
    "    gfue.vec.data -= du\n",
    "\n",
    "    #stopping criteria\n",
    "    stopcritval = sqrt(abs(InnerProduct(du,res)))\n",
    "    print (\"<A u\",it,\", A u\",it,\">_{-1}^0.5 = \", stopcritval)\n",
    "    if stopcritval < 1e-13:\n",
    "        break"
   ]
  },
  {
   "cell_type": "code",
   "execution_count": 15,
   "metadata": {},
   "outputs": [
    {
     "data": {
      "image/png": "[encoded data removed]",
      "text/plain": [
       "<Figure size 432x288 with 1 Axes>"
      ]
     },
     "metadata": {
      "needs_background": "light"
     },
     "output_type": "display_data"
    }
   ],
   "source": [
    "gfuei = [gfue(xip) for xip in xi]\n",
    "\n",
    "plt.plot(xi,ui,label='1. Lösung')\n",
    "plt.plot(xi,gfuei,label='2. Lösung')\n",
    "plt.plot(xi,uexact(xi), label='exakte Lösung')\n",
    "plt.grid()\n",
    "plt.show()"
   ]
  },
  {
   "cell_type": "code",
   "execution_count": null,
   "metadata": {},
   "outputs": [],
   "source": []
  }
 ],
 "metadata": {
  "kernelspec": {
   "display_name": "Python 3",
   "language": "python",
   "name": "python3"
  },
  "language_info": {
   "codemirror_mode": {
    "name": "ipython",
    "version": 3
   },
   "file_extension": ".py",
   "mimetype": "text/x-python",
   "name": "python",
   "nbconvert_exporter": "python",
   "pygments_lexer": "ipython3",
   "version": "3.8.1"
  }
 },
 "nbformat": 4,
 "nbformat_minor": 2
}
