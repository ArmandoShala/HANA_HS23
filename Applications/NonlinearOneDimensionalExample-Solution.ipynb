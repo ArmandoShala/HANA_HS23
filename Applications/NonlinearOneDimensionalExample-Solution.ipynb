{
 "cells": [
  {
   "cell_type": "markdown",
   "metadata": {},
   "source": [
    "## Beispiel für nichtlineares Randwertproblem\n",
    "\n",
    "$$\\begin{split}-u''(x) + u(x)^3 & = -3+\\frac{1}{8}(4-7 x+3 x^2)^3\\\\\n",
    "u(0) & = 2\\\\\n",
    "u(2) & = 1\\end{split}$$\n",
    "\n",
    "Die exakte Lösung ist gegeben durch\n",
    "\n",
    "$$u_{\\text{exact}} = \\frac{1}{2} (4-7 x+3 x^2).$$"
   ]
  },
  {
   "cell_type": "markdown",
   "metadata": {},
   "source": [
    "Python Import"
   ]
  },
  {
   "cell_type": "code",
   "execution_count": 1,
   "metadata": {
    "collapsed": true
   },
   "outputs": [],
   "source": [
    "from netgen.meshing import *\n",
    "from netgen.csg import *\n",
    "import netgen\n",
    "from ngsolve import *\n",
    "\n",
    "%matplotlib inline\n",
    "import matplotlib.pyplot as plt\n",
    "import numpy as np"
   ]
  },
  {
   "cell_type": "markdown",
   "metadata": {},
   "source": [
    "1D Mesh erstellen: (2 Elemente mit Intervall Länge 2)"
   ]
  },
  {
   "cell_type": "code",
   "execution_count": 2,
   "metadata": {
    "collapsed": true
   },
   "outputs": [],
   "source": [
    "# generate a 1D mesh\n",
    "ngmesh = netgen.meshing.Mesh()\n",
    "ngmesh.dim = 1\n",
    "\n",
    "nel = 1\n",
    "l0 = 2\n",
    "\n",
    "pnums = []\n",
    "for i in range(0, nel+1):\n",
    "    pnums.append (ngmesh.Add (MeshPoint (Pnt(i/nel*l0, 0, 0))))\n",
    "\n",
    "for i in range(0,nel):\n",
    "    ngmesh.Add (Element1D ([pnums[i],pnums[i+1]], index=1))\n",
    "\n",
    "ngmesh.Add (Element0D (pnums[0], index=1))\n",
    "ngmesh.Add (Element0D (pnums[nel], index=2))\n",
    "\n",
    "mesh = Mesh(ngmesh)"
   ]
  },
  {
   "cell_type": "markdown",
   "metadata": {},
   "source": [
    "FE-Space und Trial, Test Proxyfunktionen für die Definition der schwachen Gleichung"
   ]
  },
  {
   "cell_type": "code",
   "execution_count": 3,
   "metadata": {
    "collapsed": true
   },
   "outputs": [],
   "source": [
    "order = 2\n",
    "V = H1(mesh, order=order, dirichlet=[1,2])\n",
    "\n",
    "u = V.TrialFunction()\n",
    "v = V.TestFunction()"
   ]
  },
  {
   "cell_type": "markdown",
   "metadata": {},
   "source": [
    "Durch partielle Integration des ersten Terms und für $v\\in V=H_0^1([0,2])$ gilt\n",
    "$$\\underbrace{\\int_0^2u'(x) v'(x) + u(x)^3 v(x) dx}_{=: A(u)}\\ =\\ \\underbrace{\\int_0^2 -3+\\frac{1}{8}(4-7 x+3 x^2)^3 dx}_{=: f} \\quad \\forall v \\in V$$"
   ]
  },
  {
   "cell_type": "code",
   "execution_count": 4,
   "metadata": {
    "collapsed": true
   },
   "outputs": [],
   "source": [
    "a = BilinearForm(V)\n",
    "a += SymbolicBFI(grad(u)*grad(v)+u*u*u*v)"
   ]
  },
  {
   "cell_type": "code",
   "execution_count": 5,
   "metadata": {
    "collapsed": true
   },
   "outputs": [],
   "source": [
    "f = LinearForm(V)\n",
    "f += SymbolicLFI((-3+1/8*(4-7*x+3*x*x)*(4-7*x+3*x*x)*(4-7*x+3*x*x))*v)\n",
    "f.Assemble()"
   ]
  },
  {
   "cell_type": "markdown",
   "metadata": {},
   "source": [
    "Im Folgenden ist $u$ der Lösungsvektor des Problems:"
   ]
  },
  {
   "cell_type": "code",
   "execution_count": 6,
   "metadata": {
    "collapsed": true
   },
   "outputs": [],
   "source": [
    "gfu = GridFunction(V)"
   ]
  },
  {
   "cell_type": "markdown",
   "metadata": {},
   "source": [
    "Die Dirichlet Randbedingung wird für den Lösungsvektor gesetzt"
   ]
  },
  {
   "cell_type": "code",
   "execution_count": 7,
   "metadata": {
    "collapsed": true
   },
   "outputs": [],
   "source": [
    "u0 = CoefficientFunction([2,1])\n",
    "gfu.Set(u0,BND)"
   ]
  },
  {
   "cell_type": "markdown",
   "metadata": {},
   "source": [
    "Mit Hilfe der Newton Iteration wird das System gelöst.\n",
    "\n",
    "$$F(u) = A(u) -f$$\n",
    "\n",
    "* Newton Iteration\n",
    "    * $res = A(u_n) - f$\n",
    "    * $F'(u_n)\\cdot \\delta u = res$\n",
    "    * $u_{n+1} = u_n - \\delta u$\n"
   ]
  },
  {
   "cell_type": "code",
   "execution_count": 8,
   "metadata": {},
   "outputs": [
    {
     "name": "stdout",
     "output_type": "stream",
     "text": [
      "Newton iteration 0\n",
      "<A u 0 , A u 0 >_{-1}^0.5 =  2.63044945649285\n",
      "Newton iteration 1\n",
      "<A u 1 , A u 1 >_{-1}^0.5 =  1.1461868091843586\n",
      "Newton iteration 2\n",
      "<A u 2 , A u 2 >_{-1}^0.5 =  0.23956338535903185\n",
      "Newton iteration 3\n",
      "<A u 3 , A u 3 >_{-1}^0.5 =  0.004330380345703539\n",
      "Newton iteration 4\n",
      "<A u 4 , A u 4 >_{-1}^0.5 =  6.498623280754964e-07\n",
      "Newton iteration 5\n",
      "<A u 5 , A u 5 >_{-1}^0.5 =  1.469602015585601e-14\n"
     ]
    }
   ],
   "source": [
    "res = gfu.vec.CreateVector()\n",
    "du  = gfu.vec.CreateVector()\n",
    "\n",
    "for it in range(10):\n",
    "    print (\"Newton iteration\", it)\n",
    "\n",
    "    # solve linearized problem:\n",
    "    # F(u_n)\n",
    "    a.Apply (gfu.vec, res)\n",
    "    res.data -= f.vec\n",
    "    # F'(u_n)\n",
    "    a.AssembleLinearization(gfu.vec)\n",
    "    inv = a.mat.Inverse(V.FreeDofs())\n",
    "    # F'(u_n) du = F(u_n)\n",
    "    du.data = inv * res\n",
    "\n",
    "\n",
    "    # update iteration\n",
    "    # u_n+1 = u_n - du\n",
    "    gfu.vec.data -= du\n",
    "\n",
    "    #stopping criteria\n",
    "    stopcritval = sqrt(abs(InnerProduct(du,res)))\n",
    "    print (\"<A u\",it,\", A u\",it,\">_{-1}^0.5 = \", stopcritval)\n",
    "    if stopcritval < 1e-13:\n",
    "        break"
   ]
  },
  {
   "cell_type": "code",
   "execution_count": 9,
   "metadata": {
    "collapsed": true
   },
   "outputs": [],
   "source": [
    "def uexact(x):\n",
    "    return 0.5*(4-7*x+3*x*x)"
   ]
  },
  {
   "cell_type": "code",
   "execution_count": 10,
   "metadata": {},
   "outputs": [
    {
     "data": {
      "text/plain": [
       "[<matplotlib.lines.Line2D at 0x7f30e6f943c8>]"
      ]
     },
     "execution_count": 10,
     "metadata": {},
     "output_type": "execute_result"
    },
    {
     "data": {
      "image/png": "[encoded data removed]",
      "text/plain": [
       "<matplotlib.figure.Figure at 0x7f30e6f94550>"
      ]
     },
     "metadata": {},
     "output_type": "display_data"
    }
   ],
   "source": [
    "xi = np.linspace(0,l0,150)\n",
    "ui = [gfu(xip) for xip in xi]\n",
    "\n",
    "plt.plot(xi,ui)\n",
    "plt.plot(xi,uexact(xi))"
   ]
  },
  {
   "cell_type": "code",
   "execution_count": 11,
   "metadata": {},
   "outputs": [
    {
     "data": {
      "text/plain": [
       "[<matplotlib.lines.Line2D at 0x7f30e4e91f60>]"
      ]
     },
     "execution_count": 11,
     "metadata": {},
     "output_type": "execute_result"
    },
    {
     "data": {
      "image/png": "[encoded data removed]",
      "text/plain": [
       "<matplotlib.figure.Figure at 0x7f30e4efb4e0>"
      ]
     },
     "metadata": {},
     "output_type": "display_data"
    }
   ],
   "source": [
    "plt.plot(xi,np.abs(ui-uexact(xi)))"
   ]
  },
  {
   "cell_type": "markdown",
   "metadata": {
    "collapsed": true
   },
   "source": [
    "# Aufgaben\n",
    "\n",
    "\n",
    "- Diskutiere die Konvergenz für $h \\to 0$ für $p = 1,2,3$.\n",
    "- Wie würde der `SymbolicEnergy` zum Problem Integrator lauten?"
   ]
  },
  {
   "cell_type": "markdown",
   "metadata": {
    "collapsed": true
   },
   "source": [
    "## Lösungen\n",
    "### Konvergenz für $h\\to 0$\n",
    "\n",
    "Für die Diskussion der Konvergenz wird eine python Funktion definiert, welche die numerische Lösung abhängig von $h$ liefert. Der besseren Lesbarkeit halber als erstes das Erzeugen eines Rechennetzes in einer eigenen python Funktion definiert."
   ]
  },
  {
   "cell_type": "code",
   "execution_count": 12,
   "metadata": {
    "collapsed": true
   },
   "outputs": [],
   "source": [
    "def buildMesh(numberOfElement = 1):\n",
    "    # generate a 1D mesh\n",
    "    ngmesh = netgen.meshing.Mesh()\n",
    "    ngmesh.dim = 1\n",
    "\n",
    "    nel = numberOfElement\n",
    "    l0 = 2\n",
    "\n",
    "    pnums = []\n",
    "    for i in range(0, nel+1):\n",
    "        pnums.append (ngmesh.Add (MeshPoint (Pnt(i/nel*l0, 0, 0))))\n",
    "\n",
    "    for i in range(0,nel):\n",
    "        ngmesh.Add (Element1D ([pnums[i],pnums[i+1]], index=1))\n",
    "\n",
    "    ngmesh.Add (Element0D (pnums[0], index=1))\n",
    "    ngmesh.Add (Element0D (pnums[nel], index=2))\n",
    "\n",
    "    mesh = Mesh(ngmesh)\n",
    "    return mesh"
   ]
  },
  {
   "cell_type": "code",
   "execution_count": 13,
   "metadata": {
    "collapsed": true
   },
   "outputs": [],
   "source": [
    "def compSolution(mesh, order = 2):\n",
    "    V = H1(mesh, order=order, dirichlet=[1,2])\n",
    "\n",
    "    u = V.TrialFunction()\n",
    "    v = V.TestFunction()\n",
    "    \n",
    "    # def BilinearForm\n",
    "    a = BilinearForm(V)\n",
    "    a += SymbolicBFI(grad(u)*grad(v)+u*u*u*v)\n",
    "    \n",
    "    # def LinearForm\n",
    "    f = LinearForm(V)\n",
    "    f += SymbolicLFI((-3+1/8*(4-7*x+3*x*x)*(4-7*x+3*x*x)*(4-7*x+3*x*x))*v)\n",
    "    f.Assemble()\n",
    "    \n",
    "    # solution vector\n",
    "    gfu = GridFunction(V)\n",
    "    \n",
    "    # init Dirichlet BND-Condition\n",
    "    u0 = CoefficientFunction([2,1])\n",
    "    gfu.Set(u0,BND)\n",
    "    \n",
    "    # comp solution with Newton-Iteration\n",
    "    res = gfu.vec.CreateVector()\n",
    "    du  = gfu.vec.CreateVector()\n",
    "\n",
    "    for it in range(10):\n",
    "#        print (\"Newton iteration\", it)\n",
    "\n",
    "        # solve linearized problem:\n",
    "        # F(u_n)\n",
    "        a.Apply (gfu.vec, res)\n",
    "        res.data -= f.vec\n",
    "        # F'(u_n)\n",
    "        a.AssembleLinearization(gfu.vec)\n",
    "        inv = a.mat.Inverse(V.FreeDofs())\n",
    "        # F'(u_n) du = F(u_n)\n",
    "        du.data = inv * res\n",
    "\n",
    "\n",
    "        # update iteration\n",
    "        # u_n+1 = u_n - du\n",
    "        gfu.vec.data -= du\n",
    "\n",
    "        #stopping criteria\n",
    "        stopcritval = sqrt(abs(InnerProduct(du,res)))\n",
    "#        print (\"<A u\",it,\", A u\",it,\">_{-1}^0.5 = \", stopcritval)\n",
    "        if stopcritval < 1e-13:\n",
    "            break\n",
    "\n",
    "    return gfu"
   ]
  },
  {
   "cell_type": "markdown",
   "metadata": {},
   "source": [
    "Test der Funktionen"
   ]
  },
  {
   "cell_type": "code",
   "execution_count": 14,
   "metadata": {},
   "outputs": [],
   "source": [
    "meshtest = buildMesh()"
   ]
  },
  {
   "cell_type": "code",
   "execution_count": 15,
   "metadata": {},
   "outputs": [],
   "source": [
    "gfutest = compSolution(meshtest)"
   ]
  },
  {
   "cell_type": "code",
   "execution_count": 16,
   "metadata": {},
   "outputs": [
    {
     "data": {
      "text/plain": [
       "[<matplotlib.lines.Line2D at 0x7f30e4e06b38>]"
      ]
     },
     "execution_count": 16,
     "metadata": {},
     "output_type": "execute_result"
    },
    {
     "data": {
      "image/png": "[encoded data removed]",
      "text/plain": [
       "<matplotlib.figure.Figure at 0x7f30e4eddbe0>"
      ]
     },
     "metadata": {},
     "output_type": "display_data"
    }
   ],
   "source": [
    "xi = np.linspace(0,l0,150)\n",
    "gfui = [gfutest(xip) for xip in xi]\n",
    "\n",
    "plt.plot(xi,ui)\n",
    "plt.plot(xi,gfui)\n",
    "plt.plot(xi,uexact(xi))"
   ]
  },
  {
   "cell_type": "markdown",
   "metadata": {},
   "source": [
    "Die Resultate passen überein, womit die eigentlich Konvergenzanalyse durchgeführt werden kann:"
   ]
  },
  {
   "cell_type": "code",
   "execution_count": 17,
   "metadata": {},
   "outputs": [],
   "source": [
    "nels = np.int64(10**np.linspace(1,4,10))\n",
    "ps = range(1,5)"
   ]
  },
  {
   "cell_type": "code",
   "execution_count": 18,
   "metadata": {},
   "outputs": [],
   "source": [
    "err = []\n",
    "for nel in nels:\n",
    "    d = []\n",
    "    tempmesh = buildMesh(numberOfElement=nel)\n",
    "    for p in ps:\n",
    "        gfuvar = compSolution(mesh = tempmesh, order=p)\n",
    "        diff = gfuvar - uexact(x)\n",
    "        d.append(Integrate(diff,tempmesh))\n",
    "    err.append(np.array(d))\n",
    "\n",
    "err = np.array(err).T"
   ]
  },
  {
   "cell_type": "markdown",
   "metadata": {},
   "source": [
    "Visualisierung mit `pyplot`"
   ]
  },
  {
   "cell_type": "code",
   "execution_count": 19,
   "metadata": {},
   "outputs": [
    {
     "data": {
      "text/plain": [
       "<matplotlib.legend.Legend at 0x7f30e4e54a58>"
      ]
     },
     "execution_count": 19,
     "metadata": {},
     "output_type": "execute_result"
    },
    {
     "data": {
      "image/png": "[encoded data removed]",
      "text/plain": [
       "<matplotlib.figure.Figure at 0x7f30e4e54630>"
      ]
     },
     "metadata": {},
     "output_type": "display_data"
    }
   ],
   "source": [
    "for (p, e) in zip(ps,err):\n",
    "    plt.loglog(nels,e,label='order = '+str(p))\n",
    "plt.legend()"
   ]
  },
  {
   "cell_type": "markdown",
   "metadata": {},
   "source": [
    "**Was passiert hier?** $\\Rightarrow$ Lösung ist ein Polynom von Grad 2, daher erhält man für Elemente zweiten Grades die numerisch exakte Lösung."
   ]
  },
  {
   "cell_type": "markdown",
   "metadata": {},
   "source": [
    "### Lösung mit SymbolicEnergy"
   ]
  },
  {
   "cell_type": "code",
   "execution_count": 20,
   "metadata": {
    "collapsed": true
   },
   "outputs": [],
   "source": [
    "u = V.TrialFunction()\n",
    "\n",
    "# def BilinearForm\n",
    "a2 = BilinearForm(V)\n",
    "a2 += SymbolicEnergy(1/2*grad(u)*grad(u)+1/4*u*u*u*u-(-3+1/8*(4-7*x+3*x*x)*(4-7*x+3*x*x)*(4-7*x+3*x*x))*u)"
   ]
  },
  {
   "cell_type": "code",
   "execution_count": 21,
   "metadata": {},
   "outputs": [],
   "source": [
    "gfue = GridFunction(V)\n",
    "gfue.Set(u0,BND)"
   ]
  },
  {
   "cell_type": "code",
   "execution_count": 22,
   "metadata": {},
   "outputs": [
    {
     "name": "stdout",
     "output_type": "stream",
     "text": [
      "Newton iteration 0\n",
      "<A u 0 , A u 0 >_{-1}^0.5 =  2.63044945649285\n",
      "Newton iteration 1\n",
      "<A u 1 , A u 1 >_{-1}^0.5 =  1.1461868091843586\n",
      "Newton iteration 2\n",
      "<A u 2 , A u 2 >_{-1}^0.5 =  0.2395633853590321\n",
      "Newton iteration 3\n",
      "<A u 3 , A u 3 >_{-1}^0.5 =  0.00433038034570385\n",
      "Newton iteration 4\n",
      "<A u 4 , A u 4 >_{-1}^0.5 =  6.498623282623103e-07\n",
      "Newton iteration 5\n",
      "<A u 5 , A u 5 >_{-1}^0.5 =  1.450920634031547e-14\n"
     ]
    }
   ],
   "source": [
    "for it in range(10):\n",
    "    print (\"Newton iteration\", it)\n",
    "\n",
    "    # solve linearized problem:\n",
    "    # F(u_n)\n",
    "    a2.Apply (gfue.vec, res)\n",
    "    # F'(u_n)\n",
    "    a2.AssembleLinearization(gfue.vec)\n",
    "    inv = a2.mat.Inverse(V.FreeDofs())\n",
    "    # F'(u_n) du = F(u_n)\n",
    "    du.data = inv * res\n",
    "\n",
    "\n",
    "    # update iteration\n",
    "    # u_n+1 = u_n - du\n",
    "    gfue.vec.data -= du\n",
    "\n",
    "    #stopping criteria\n",
    "    stopcritval = sqrt(abs(InnerProduct(du,res)))\n",
    "    print (\"<A u\",it,\", A u\",it,\">_{-1}^0.5 = \", stopcritval)\n",
    "    if stopcritval < 1e-13:\n",
    "        break"
   ]
  },
  {
   "cell_type": "code",
   "execution_count": 23,
   "metadata": {},
   "outputs": [
    {
     "data": {
      "text/plain": [
       "[<matplotlib.lines.Line2D at 0x7f30e3458358>]"
      ]
     },
     "execution_count": 23,
     "metadata": {},
     "output_type": "execute_result"
    },
    {
     "data": {
      "image/png": "[encoded data removed]",
      "text/plain": [
       "<matplotlib.figure.Figure at 0x7f30e3442eb8>"
      ]
     },
     "metadata": {},
     "output_type": "display_data"
    }
   ],
   "source": [
    "gfuei = [gfue(xip) for xip in xi]\n",
    "\n",
    "plt.plot(xi,ui)\n",
    "plt.plot(xi,gfuei)\n",
    "plt.plot(xi,uexact(xi))"
   ]
  }
 ],
 "metadata": {
  "kernelspec": {
   "display_name": "Python 3",
   "language": "python",
   "name": "python3"
  },
  "language_info": {
   "codemirror_mode": {
    "name": "ipython",
    "version": 3
   },
   "file_extension": ".py",
   "mimetype": "text/x-python",
   "name": "python",
   "nbconvert_exporter": "python",
   "pygments_lexer": "ipython3",
   "version": "3.5.2"
  }
 },
 "nbformat": 4,
 "nbformat_minor": 2
}
