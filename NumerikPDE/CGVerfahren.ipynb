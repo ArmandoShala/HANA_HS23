{
 "cells": [
  {
   "cell_type": "markdown",
   "metadata": {},
   "source": [
    "# CG - Verfahren"
   ]
  },
  {
   "cell_type": "markdown",
   "metadata": {},
   "source": [
    "Die Theorie folgt direkt dem [iFEM](https://github.com/JSchoeberl/iFEM/blob/master/iterative/conjugategradients.ipynb) Jupyter-Notebook, wobei wir für das Beispiel Dirichlet Randbedingungen implementieren."
   ]
  },
  {
   "cell_type": "markdown",
   "metadata": {},
   "source": [
    "The gradient method is an improvement to the Richardson method since it does not need the spectral bounds explicitly. The Chebyshev method is an improvement to the Richardson method since the number of iterations are reduced from $(\\log \\varepsilon^{-1}) \\, \\kappa$ to $(\\log \\varepsilon^{-1}) \\, \\sqrt{\\kappa}$.\n",
    "\n",
    "The conjugate gradients method combines both advantages.\n",
    "\n",
    "All four methods need one matrix-vector multiplication with the system matrix $A$, and one preconditioner application $C^{-1}$ per iteration, plus some vector updates. The gradient method and conjugate gradient method need inner products.\n",
    "\n",
    "The idea behind the cg-method is to minimize the Ritz functional\n",
    "\n",
    "$$\n",
    "\\min_{x \\in {\\mathcal K}^n} \\tfrac{1}{2} x^T A x - b^T x\n",
    "$$\n",
    "\n",
    "over the Krylov-space \n",
    "\n",
    "$$\n",
    "{\\mathcal K}^n = \\operatorname{span} \\{ C^{-1} b, C^{-1} A C^{-1} b, \\ldots, (C^{-1} A)^{n-1} C^{-1} b \\}.\n",
    "$$\n",
    "\n",
    "In every iteration we increase the space to minimize, and compute the new minimizer. This can be done efficiently by computing an orthogonal basis for ${\\mathcal K}^n$.\n",
    "\n",
    "Since every polynomial iteration (such as the Chebyshev method) produces iterates $x^n \\in {\\mathcal K}^n$, we obtain error estimates for the cg-method immediately from the Chebyshev method."
   ]
  },
  {
   "cell_type": "markdown",
   "metadata": {},
   "source": [
    "## Solving the minimization problem"
   ]
  },
  {
   "cell_type": "markdown",
   "metadata": {},
   "source": [
    "Assume an $n$-dimensional sub-space $V^n \\subset {\\mathbb R}^N$ is spanned by basis vectors $p_1, \\ldots, p_n$. Let $P \\in {\\mathbb R}^{N \\times n}$ contain the basis vectors $p^k$ as column vectors. We want to solve the minimization problem \n",
    "\n",
    "$$\n",
    "\\min_{x \\in V^n} \\tfrac{1}{2} x^T A x - b^T x.\n",
    "$$\n",
    "\n",
    "Since every $x \\in V^n$ can be represented as $x = P y$ with $y \\in {\\mathbb R}^n$, the minimization problem can be rewritten  as:\n",
    "\n",
    "$$\n",
    "\\min_{y \\in {\\mathbb R}^n} \\tfrac{1}{2} y^T P^T A P y - b^T P y.\n",
    "$$\n",
    "\n",
    "The solution is\n",
    "\n",
    "$$\n",
    "y = (P^T A P)^{-1} P^T b,\n",
    "$$\n",
    "\n",
    "which is obtained by solving a small, $n \\times n$-dimensional linear system. The original solution $x$ is \n",
    "\n",
    "$$\n",
    "x = P (P^T A P)^{-1} P^T b\n",
    "$$\n",
    "\n",
    "If the vectors $p_i$ are $A$-orthogonal (also known as $A$-conjugate), i.e.\n",
    "\n",
    "$$\n",
    "{p_i}^T A p_j = 0 \\quad \\forall \\, i \\neq j,\n",
    "$$\n",
    "\n",
    "then the matrix $P^T A P$ is diagonal, and the minimization problem can be solved very easily:\n",
    "\n",
    "$$\n",
    "x = \\sum_{i=1}^n \\frac{{p_i}^T b}{{p_i}^T A p_i} p_i\n",
    "$$\n",
    "\n",
    "If we increase the space $V^n$ to $V^{n+1}$ by adding one more vector $p_{i+1}$, orthogonal to all previous $p_1, \\ldots , p_n$, then the minimizer $x_{n+1}$ on $V^{n+1}$ can be updated cheaply from the minimizer $x^n$ on $V^n$:\n",
    "\n",
    "$$\n",
    "x_{n+1} = x_n + \\frac{ p_{n+1}^T b}{ p_{n+1}^T A p_{n+1}} p_{n+1}\n",
    "$$"
   ]
  },
  {
   "cell_type": "markdown",
   "metadata": {},
   "source": [
    "## Expanding the Krylov-space"
   ]
  },
  {
   "cell_type": "markdown",
   "metadata": {},
   "source": [
    "Assume we are given the Krylov space ${\\mathcal K}^n$, and we have computed the minimizer $x_n \\in {\\mathcal K}^n$.\n",
    "\n",
    "The (negative) gradient of $f(x) = \\tfrac{1}{2} x^T A x - b^T x$ is\n",
    "\n",
    "$$\n",
    "-\\nabla f(x_n) = r_n = b - A x_n \\; \\bot_{{\\mathbb R}^N} \\; {\\mathcal K}^n\n",
    "$$\n",
    "\n",
    "If $r_n = 0$, the problem is solved and we stop. \n",
    "\n",
    "Since $r_n$ is ${\\mathbb R}^N$-orthogonal to ${\\mathcal K}^n$, for \n",
    "\n",
    "$$\n",
    "w_n := C^{-1} r_n  \\qquad \\text{there holds} \\qquad w_n \\; \\bot_C \\; {\\mathcal K}^n\n",
    "$$\n",
    "\n",
    "This is seen as $\\left< w_n, z \\right>_C = \\left< C w_n, z \\right> = r_n^T z = 0$ for all $z \\in {\\mathcal K}^n$.\n",
    "\n",
    "Since $x_n$ is in ${\\mathcal K}^n$, and $w_n$ is obtained by yet another applications of $C^{-1}$ and $A$, we get $w_n \\in {\\mathcal K}^{n+1}$. Together with $C$-orthogonality we have\n",
    "\n",
    "$$\n",
    "{\\mathcal K}^{n+1} = {\\mathcal K}^n + \\operatorname{span} \\{ w_n \\}\n",
    "$$\n",
    "\n",
    "Finally, we construct an $A$-orthogonal basis by Gram-Schmidt orthogonalization:\n",
    "\n",
    "$$\n",
    "p_{n+1} = w_n - \\sum_{i=1}^n \\frac{ \\left<w_n, p_i\\right>_A }{ \\left< p_i, p_i \\right>_A } p_i\n",
    "$$\n",
    "\n",
    "Here the miracle of the cg-method pops up. The inner products in the numerator are\n",
    "\n",
    "$$\n",
    "\\left< w_n, p_i \\right>_A = \\left< C^{-1} r_n, p_i \\right>_A = r_n^T C^{-1} A p_i\n",
    "$$\n",
    "\n",
    "Since $r^n \\; \\bot \\; {\\mathcal K}^n$, and $C^{-1} A p_i \\in {\\mathcal K}^{i+1}$, this inner product vanishes for all $i \\leq n-1$. Only the last term in the sum remains:\n",
    "\n",
    "$$\n",
    "p_{n+1} = w_n - \\frac{ \\left<w_n, p_n\\right>_A }{ \\left< p_n, p_n \\right>_A } p_n\n",
    "$$"
   ]
  },
  {
   "cell_type": "markdown",
   "metadata": {},
   "source": [
    "In Saad, \"Iterative Solvers\", the Preconditioned Conjugate Gradient method\n",
    "is Algorithm 9.1, page 277. The inner products are reformulated by recursions which have better stability with respect to roundoff errors."
   ]
  },
  {
   "cell_type": "markdown",
   "metadata": {},
   "source": [
    "## Anwendung auf Modellproblem"
   ]
  },
  {
   "cell_type": "markdown",
   "metadata": {},
   "source": [
    "Wir wenden das Verfahren auf das Modellproblem\n",
    "\n",
    "$$\\begin{split}\n",
    "-\\Delta u + 10\\, u & = 1\\quad x\\in\\Omega = [0,1]^2\\\\\n",
    "u & = 0\\quad x \\in \\partial\\Omega\\end{split}$$\n",
    "\n",
    "an."
   ]
  },
  {
   "cell_type": "code",
   "execution_count": 1,
   "metadata": {},
   "outputs": [],
   "source": [
    "from ngsolve import *\n",
    "from netgen.geom2d import unit_square\n",
    "from ngsolve.webgui import Draw\n",
    "import matplotlib.pyplot as plt\n",
    "from myst_nb import glue"
   ]
  },
  {
   "cell_type": "markdown",
   "metadata": {},
   "source": [
    "Diskretierung der schwachen Gleichung mit FEM 1. Ordnung:"
   ]
  },
  {
   "cell_type": "code",
   "execution_count": 2,
   "metadata": {},
   "outputs": [],
   "source": [
    "mesh = Mesh(unit_square.GenerateMesh(maxh=0.1))\n",
    "fes = H1(mesh, order=1, dirichlet='bottom|right|top|left')\n",
    "u,v = fes.TnT()\n",
    "a = BilinearForm(grad(u)*grad(v)*dx+10*u*v*dx).Assemble()\n",
    "f = LinearForm(1*v*dx).Assemble()\n",
    "gfu = GridFunction(fes)"
   ]
  },
  {
   "cell_type": "markdown",
   "metadata": {},
   "source": [
    "Die Reduktion der Freiheitsgrade können wir in dem Fall direkt im Vorkonditionierer einbauen:"
   ]
  },
  {
   "cell_type": "code",
   "execution_count": 3,
   "metadata": {},
   "outputs": [],
   "source": [
    "pre = a.mat.CreateSmoother(freedofs = fes.FreeDofs())"
   ]
  },
  {
   "cell_type": "markdown",
   "metadata": {},
   "source": [
    "Damit folgt für das CG-Verfahren:"
   ]
  },
  {
   "cell_type": "code",
   "execution_count": 7,
   "metadata": {},
   "outputs": [
    {
     "name": "stdout",
     "output_type": "stream",
     "text": [
      "needed 28 iterations\n"
     ]
    }
   ],
   "source": [
    "w = f.vec.CreateVector()\n",
    "r = f.vec.CreateVector()\n",
    "p = f.vec.CreateVector()\n",
    "ap = f.vec.CreateVector()\n",
    "\n",
    "r.data = f.vec\n",
    "p.data = pre*r\n",
    "wrn = InnerProduct(r,p)\n",
    "err0 = sqrt(wrn)\n",
    "errs = []\n",
    "gfu.vec[:] = 0\n",
    "\n",
    "maxit=200\n",
    "tol=1e-8\n",
    "its = 0\n",
    "while True:\n",
    "    ap.data = a.mat * p\n",
    "\n",
    "    pap = InnerProduct(p, ap)\n",
    "    wr = wrn\n",
    "    alpha = wr / pap\n",
    "\n",
    "    gfu.vec.data += alpha * p\n",
    "    r.data -= alpha * ap\n",
    "    w.data = pre*r\n",
    "\n",
    "    wrn = InnerProduct(w, r)\n",
    "    err = sqrt(wrn)\n",
    "    errs.append(err)\n",
    "    #print (\"Iteration\",it,\"err=\",err)\n",
    "    if err < tol * err0 or its > 10000: break\n",
    "\n",
    "    beta = wrn / wr\n",
    "\n",
    "    p *= beta\n",
    "    p.data += w\n",
    "    its += 1\n",
    "print (\"needed\", its, \"iterations\")"
   ]
  },
  {
   "cell_type": "code",
   "execution_count": 8,
   "metadata": {},
   "outputs": [
    {
     "data": {
      "application/papermill.record/image/png": "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\n",
      "application/papermill.record/text/plain": "<Figure size 432x288 with 1 Axes>"
     },
     "metadata": {
      "scrapbook": {
       "mime_prefix": "application/papermill.record/",
       "name": "FEM_CGVerfahren_fig"
      }
     },
     "output_type": "display_data"
    },
    {
     "data": {
      "image/png": "[encoded data removed]",
      "text/plain": [
       "<Figure size 432x288 with 1 Axes>"
      ]
     },
     "metadata": {
      "needs_background": "light"
     },
     "output_type": "display_data"
    }
   ],
   "source": [
    "fig, ax = plt.subplots()\n",
    "ax.loglog(errs)\n",
    "ax.grid()\n",
    "ax.set_title('CG Verfahren: '+str(its)+' iterationen')\n",
    "ax.set_xlabel('Iteration')\n",
    "ax.set_ylabel('Residuum')\n",
    "glue(\"FEM_CGVerfahren_fig\", fig, display=False)"
   ]
  },
  {
   "cell_type": "code",
   "execution_count": 9,
   "metadata": {},
   "outputs": [
    {
     "data": {
      "application/vnd.jupyter.widget-view+json": {
       "model_id": "d92d2eaf3bf34544bcbbdbdb4cee0bd6",
       "version_major": 2,
       "version_minor": 0
      },
      "text/plain": [
       "WebGuiWidget(value={'ngsolve_version': '6.2.2104-121-gee6902d12', 'mesh_dim': 2, 'order2d': 2, 'order3d': 2, '…"
      ]
     },
     "metadata": {},
     "output_type": "display_data"
    },
    {
     "data": {
      "text/plain": [
       "BaseWebGuiScene"
      ]
     },
     "execution_count": 9,
     "metadata": {},
     "output_type": "execute_result"
    }
   ],
   "source": [
    "Draw(gfu,mesh,'u')"
   ]
  },
  {
   "cell_type": "code",
   "execution_count": null,
   "metadata": {},
   "outputs": [],
   "source": []
  }
 ],
 "metadata": {
  "kernelspec": {
   "display_name": "Python 3",
   "language": "python",
   "name": "python3"
  },
  "language_info": {
   "codemirror_mode": {
    "name": "ipython",
    "version": 3
   },
   "file_extension": ".py",
   "mimetype": "text/x-python",
   "name": "python",
   "nbconvert_exporter": "python",
   "pygments_lexer": "ipython3",
   "version": "3.8.1"
  }
 },
 "nbformat": 4,
 "nbformat_minor": 4
}
