{
 "cells": [
  {
   "cell_type": "markdown",
   "metadata": {},
   "source": [
    "# Richardson Verfahren"
   ]
  },
  {
   "cell_type": "markdown",
   "metadata": {},
   "source": [
    "Sei $C$ eine reguläre Matrix und $\\alpha\\in\\mathbb{R}^+$. Dann ist das lineare Gleichungssystem äquivalent zur Fixpunktgleichung\n",
    "\n",
    "$$x = x + \\alpha\\, C^{-1}\\,(b-A x).$$ (eq:RichardsonFixpunktGleichung)\n",
    "\n",
    "Daraus ergibt sich die Fixpunkt Iteration, auch *einfache Iteration* oder *Richardson Iteration* genannt:\n",
    "\n",
    "$$x_{k+1} = x_k \\alpha\\, C^{-1}\\,(b-A x_k)$$\n",
    "\n",
    "wobei der Startwert $x_0$ gegeben ist.\n",
    "\n",
    "Sei $x$ eine Lösung von {eq}`eq:RichardsonFixpunktGleichung` und\n",
    "\n",
    "$$e_k = x_k - x$$\n",
    "\n",
    "der Iterationsfehler. Dann gilt für den neuen Fehler\n",
    "\n",
    "$$\\begin{split}\n",
    "e_k & = x_{k+1}-x = x_k + \\alpha\\, C^{-1} (b - A\\,x_k) - x\\\\\n",
    "& = (x_k-x) + \\alpha\\, C^{-1} (A\\,x-A\\,x_k)\\\\\n",
    "& = (\\mathbb{1} - \\alpha\\,C{-1} A)\\, (x_k-x)\\\\\n",
    "& = (\\mathbb{1} - \\alpha\\,C{-1} A)\\, e_k.\\\\\n",
    "\\end{split}$$\n",
    "\n",
    "Der neue Fehler ergibt sich durch die Iterationsmatrix oder Fehlerübergangsmatrix\n",
    "\n",
    "$$M = (\\mathbb{1} - \\alpha\\,C{-1} A)$$\n",
    "\n",
    "als\n",
    "\n",
    "$$e_{k+1} = M\\, e_k.$$\n",
    "\n",
    "Sei $\\|\\cdot\\|$ eine beliebige Vektornorm und\n",
    "\n",
    "$$\\|M\\|:=\\sup_{x\\in\\mathbb{R}^n}\\frac{\\|M x\\|}{\\|x\\|}$$\n",
    "\n",
    "die zugehörige Matrixnorm (Operatornorm vgl. {eq}`eq:operatornorm`). Damit gilt für den neuen Fehler (vgl. {eq}`eq:operatornormungleichung`)\n",
    "\n",
    "$$\\|e_{k+1}\\| \\le \\|M\\|\\, \\|e_k\\|.$$\n",
    "\n",
    "Hinreichend für die Konvergenz ist damit die Existenz einer Matrixnorm mit\n",
    "\n",
    "$$\\|M\\|<1.$$"
   ]
  },
  {
   "cell_type": "markdown",
   "metadata": {},
   "source": [
    "## Vorkonditionierer"
   ]
  },
  {
   "cell_type": "markdown",
   "metadata": {},
   "source": [
    "Die Matrix $C$ wird **Vorkonditionierer** (**Preconditioner**) genannt. Sie soll zwei Eigenschaften erfüllen:\n",
    "* Die Matrix-Vektormultiplikation mit $C^{-1}\\cdot r$ soll billig sein.\n",
    "* Die Matrix $C$ soll eine gute Approximation zu $A$ sein.\n",
    "\n",
    "Zur Wahl der Matrix $C$\n",
    "* Wählt man zum Beispiel $C = \\mathbb{1}$ oder etwas besser $C = \\mathop{diag} A$, dann ist die Operation $C^{-1}\\cdot r$ sehr billig. Die Approximation $C \\approx A$ kann aber schlecht sein.\n",
    "* Wählt man hingegen $C = A$ und $\\alpha = 1$, dann ist die zweite Eigenschaft best-möglich erfüllt:\n",
    "\n",
    "  $$M = \\mathbb{1} - \\alpha C^{-1} A = \\mathbb{1} - A^{-1}A = 0.$$\n",
    "  \n",
    "  Es gilt daher $\\|M\\| = 0$.\n",
    "  \n",
    "  Die Invertierung von $C$ ist jetzt aber genau das ursprüngliche Problem.\n",
    "  \n",
    "Ziel ist es Vorkonditionierer mit beiden Eigenschaften zu finden."
   ]
  },
  {
   "cell_type": "markdown",
   "metadata": {},
   "source": [
    "## Anwendung"
   ]
  },
  {
   "cell_type": "code",
   "execution_count": 9,
   "metadata": {},
   "outputs": [],
   "source": [
    "from ngsolve import *\n",
    "from netgen.geom2d import unit_square\n",
    "import matplotlib.pyplot as plt\n",
    "from myst_nb import glue"
   ]
  },
  {
   "cell_type": "code",
   "execution_count": 2,
   "metadata": {},
   "outputs": [],
   "source": [
    "mesh = Mesh(unit_square.GenerateMesh(maxh=0.1))"
   ]
  },
  {
   "cell_type": "code",
   "execution_count": 3,
   "metadata": {},
   "outputs": [],
   "source": [
    "fes = H1(mesh, order=1)\n",
    "u,v = fes.TnT()\n",
    "a = BilinearForm(grad(u)*grad(v)*dx+10*u*v*dx).Assemble()\n",
    "f = LinearForm(1*v*dx).Assemble()\n",
    "gfu = GridFunction(fes)"
   ]
  },
  {
   "cell_type": "markdown",
   "metadata": {},
   "source": [
    "Dämpfung bestimmen"
   ]
  },
  {
   "cell_type": "code",
   "execution_count": 4,
   "metadata": {},
   "outputs": [
    {
     "name": "stdout",
     "output_type": "stream",
     "text": [
      "1.538629026957872\n",
      "4.391521515801403\n",
      "4.752759992787238\n",
      "4.9136647856237685\n",
      "5.02134407136911\n",
      "5.106999495853635\n",
      "5.1798894005198886\n",
      "5.243736682332236\n",
      "5.300467495941496\n",
      "5.3512499297896845\n",
      "5.396855995262281\n",
      "5.437827483629154\n",
      "5.474571765713796\n",
      "5.50742304050225\n",
      "5.536680751893698\n",
      "5.562631138786436\n",
      "5.585556671383157\n",
      "5.6057376164112\n",
      "5.6234492652133845\n",
      "5.638957446110428\n"
     ]
    }
   ],
   "source": [
    "hv = gfu.vec.CreateVector()\n",
    "hv2 = gfu.vec.CreateVector()\n",
    "hv.SetRandom()\n",
    "hv.data /= Norm(hv)\n",
    "for k in range(20):\n",
    "    hv2.data = a.mat * hv\n",
    "    rho = Norm(hv2)\n",
    "    print (rho)\n",
    "    hv.data = 1/rho * hv2"
   ]
  },
  {
   "cell_type": "markdown",
   "metadata": {},
   "source": [
    "Richardson Verfahren anwenden"
   ]
  },
  {
   "cell_type": "code",
   "execution_count": 5,
   "metadata": {},
   "outputs": [
    {
     "name": "stdout",
     "output_type": "stream",
     "text": [
      "needed 1433 iterations\n"
     ]
    }
   ],
   "source": [
    "alpha = 1 / rho\n",
    "r = f.vec.CreateVector()\n",
    "gfu.vec[:] = 0\n",
    "err0 = Norm(f.vec)\n",
    "its = 0\n",
    "errs = []\n",
    "while True:\n",
    "    r.data = f.vec - a.mat * gfu.vec\n",
    "    err = Norm(r)\n",
    "    errs.append(err)\n",
    "    #print (\"iteration\", its, \"res=\", err)\n",
    "    gfu.vec.data += alpha * r\n",
    "    if err < 1e-8 * err0 or its > 10000: break\n",
    "    its = its+1\n",
    "print (\"needed\", its, \"iterations\")"
   ]
  },
  {
   "cell_type": "code",
   "execution_count": 10,
   "metadata": {},
   "outputs": [
    {
     "data": {
      "application/papermill.record/image/png": "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\n",
      "application/papermill.record/text/plain": "<Figure size 432x288 with 1 Axes>"
     },
     "metadata": {
      "scrapbook": {
       "mime_prefix": "application/papermill.record/",
       "name": "FEM_RichardsonVerfahren_fig"
      }
     },
     "output_type": "display_data"
    },
    {
     "data": {
      "image/png": "[encoded data removed]",
      "text/plain": [
       "<Figure size 432x288 with 1 Axes>"
      ]
     },
     "metadata": {
      "needs_background": "light"
     },
     "output_type": "display_data"
    }
   ],
   "source": [
    "fig, ax = plt.subplots()\n",
    "ax.loglog(errs)\n",
    "ax.grid()\n",
    "ax.set_title('Richardson Verfahren: '+str(its)+' iterationen')\n",
    "ax.set_xlabel('Iteration')\n",
    "ax.set_ylabel('Residuum')\n",
    "glue(\"FEM_RichardsonVerfahren_fig\", fig, display=False)"
   ]
  },
  {
   "cell_type": "code",
   "execution_count": null,
   "metadata": {},
   "outputs": [],
   "source": []
  }
 ],
 "metadata": {
  "kernelspec": {
   "display_name": "Python 3",
   "language": "python",
   "name": "python3"
  },
  "language_info": {
   "codemirror_mode": {
    "name": "ipython",
    "version": 3
   },
   "file_extension": ".py",
   "mimetype": "text/x-python",
   "name": "python",
   "nbconvert_exporter": "python",
   "pygments_lexer": "ipython3",
   "version": "3.8.1"
  }
 },
 "nbformat": 4,
 "nbformat_minor": 4
}
