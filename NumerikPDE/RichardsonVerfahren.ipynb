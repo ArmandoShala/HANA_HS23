{
 "cells": [
  {
   "cell_type": "markdown",
   "metadata": {},
   "source": [
    "# Richardson Verfahren"
   ]
  },
  {
   "cell_type": "markdown",
   "metadata": {},
   "source": [
    "Die Theorie folgt direkt dem [iFEM](https://github.com/JSchoeberl/iFEM/blob/master/iterative/Richardson.ipynb) Jupyter-Notebook, wobei wir für das Beispiel Dirichlet Randbedingungen implementieren."
   ]
  },
  {
   "cell_type": "markdown",
   "metadata": {},
   "source": [
    "## Fixpunkt Iteration"
   ]
  },
  {
   "cell_type": "markdown",
   "metadata": {},
   "source": [
    "Sei $C$ eine reguläre Matrix und $\\alpha\\in\\mathbb{R}^+$ ein Dämpfungsfaktor. Dann ist das lineare Gleichungssystem äquivalent zur Fixpunktgleichung\n",
    "\n",
    "$$x = x + \\alpha\\, C^{-1}\\,(b-A x).$$ (eq:RichardsonFixpunktGleichung)\n",
    "\n",
    "Daraus ergibt sich die Fixpunkt Iteration, auch *einfache Iteration* oder *Richardson Iteration* genannt:\n",
    "\n",
    "$$x_{k+1} = x_k + \\alpha\\, C^{-1}\\,(b-A x_k)$$\n",
    "\n",
    "wobei der Startwert $x_0$ gegeben ist.\n",
    "\n",
    "Sei $x^*$ eine Lösung von {eq}`eq:RichardsonFixpunktGleichung` und\n",
    "\n",
    "$$e_k = x_k - x^*$$\n",
    "\n",
    "der Iterationsfehler. Dann gilt für den neuen Fehler\n",
    "\n",
    "$$\\begin{split}\n",
    "e_{k+1} & = x_{k+1}-x^* = x_k + \\alpha\\, C^{-1} (b-A\\,x_k) - x^*\\\\\n",
    "& = (x_k-x^*) + \\alpha\\, C^{-1} (A\\,x_k-A\\,x^*)\\\\\n",
    "& = (\\mathbb{1} - \\alpha\\,C^{-1} A)\\, (x_k-x^*)\\\\\n",
    "& = (\\mathbb{1} - \\alpha\\,C^{-1} A)\\, e_k.\\\\\n",
    "\\end{split}$$\n",
    "\n",
    "Der neue Fehler ergibt sich durch die Iterationsmatrix oder Fehlerübergangsmatrix\n",
    "\n",
    "$$M = (\\mathbb{1} - \\alpha\\,C^{-1} A)$$\n",
    "\n",
    "als\n",
    "\n",
    "$$e_{k+1} = M\\, e_k.$$\n",
    "\n",
    "Sei $\\|\\cdot\\|$ eine beliebige Vektornorm und\n",
    "\n",
    "$$|\\!|\\!|M|\\!|\\!|:=\\sup_{x\\in\\mathbb{R}^n}\\frac{\\|M x\\|}{\\|x\\|}$$\n",
    "\n",
    "die zugehörige Matrixnorm (Operatornorm vgl. {eq}`eq:operatornorm`). Damit gilt für den neuen Fehler (vgl. {eq}`eq:operatornormungleichung`)\n",
    "\n",
    "$$\\|e_{k+1}\\| \\le |\\!|\\!|M|\\!|\\!|\\, \\|e_k\\|.$$\n",
    "\n",
    "Hinreichend für die Konvergenz ist damit die Existenz einer Matrixnorm mit\n",
    "\n",
    "$$|\\!|\\!|M|\\!|\\!|<1.$$"
   ]
  },
  {
   "cell_type": "markdown",
   "metadata": {},
   "source": [
    "## Vorkonditionierer"
   ]
  },
  {
   "cell_type": "markdown",
   "metadata": {},
   "source": [
    "Die Matrix $C$ wird **Vorkonditionierer** (**Preconditioner**) genannt. Sie soll zwei Eigenschaften erfüllen:\n",
    "* Die Matrix-Vektormultiplikation mit $C^{-1}\\cdot r$ soll billig sein.\n",
    "* Die Matrix $C$ soll eine gute Approximation zu $A$ sein.\n",
    "\n",
    "Zur Wahl der Matrix $C$\n",
    "* Wählt man zum Beispiel $C = \\mathbb{1}$ oder etwas besser $C = \\mathop{diag} A$, dann ist die Operation $C^{-1}\\cdot r$ sehr billig. Die Approximation $C \\approx A$ kann aber schlecht sein.\n",
    "* Wählt man hingegen $C = A$ und $\\alpha = 1$, dann ist die zweite Eigenschaft best-möglich erfüllt:\n",
    "\n",
    "  $$M = \\mathbb{1} - \\alpha C^{-1} A = \\mathbb{1} - A^{-1}A = 0.$$\n",
    "  \n",
    "  Es gilt daher $\\|M\\| = 0$.\n",
    "  \n",
    "  Die Invertierung von $C$ ist jetzt aber genau das ursprüngliche Problem.\n",
    "  \n",
    "Ziel ist es Vorkonditionierer mit beiden Eigenschaften zu finden."
   ]
  },
  {
   "cell_type": "markdown",
   "metadata": {},
   "source": [
    "## Richardson Iteration"
   ]
  },
  {
   "cell_type": "markdown",
   "metadata": {},
   "source": [
    "Im Richardson Verfahren wird die Matrix $C=\\mathbb{1}$ gesetzt. Damit folgt für die Fehlerübergangsmatrix\n",
    "\n",
    "$$M = \\mathbb{1} - \\alpha A.$$\n",
    "\n",
    "Für die Überprüfung der Konvergenz gibt es zwei Möglichkeiten:\n",
    "\n",
    "* den Konvergenzradius zu überprüfen\n",
    "\n",
    "  $$\\rho(\\mathbb{1} - \\alpha A) = \\max_{\\lambda\\in\\sigma(\\mathbb{1} - \\alpha A)} |\\lambda| < 1$$\n",
    "  \n",
    "* eine geeignete Norm $\\|\\cdot\\|$ finden, so dass die Matrixnorm\n",
    "\n",
    "  $$|\\!|\\!|\\mathbb{1} - \\alpha A|\\!|\\!|:=\\sup_{x\\in\\mathbb{R}^n}\\frac{\\|(\\mathbb{1} - \\alpha A) x\\|}{\\|x\\|} < 1$$\n",
    "  \n",
    "  erfüllt ist."
   ]
  },
  {
   "cell_type": "markdown",
   "metadata": {},
   "source": [
    "### Optimieren des Dämpfungsfaktors"
   ]
  },
  {
   "cell_type": "markdown",
   "metadata": {},
   "source": [
    "Sei $A$ symmetrisch und positiv definit. Damit sind die Eigenwerte $\\sigma(A) = \\{\\lambda_i\\in\\mathbb{R}\\}$ mit $0<\\lambda_1 \\le \\lambda_2 \\ldots \\le \\lambda_n$.\n",
    "\n",
    "Die Eigenwerte der Fehlerübergangsmatrix $M = \\mathbb{1} - \\alpha\\,A$ sind in dem Fall gegeben durch $\\{1-\\alpha\\, \\lambda_i\\}$. Wenn wir daher\n",
    "\n",
    "$$0 < \\alpha < \\frac{2}{\\lambda_n}$$\n",
    "\n",
    "wählen, folgt $\\rho(M) < 1$ und damit eine konvergente Itertation.\n",
    "\n",
    "Der Spektralradius von $M$ ist gegeben durch\n",
    "\n",
    "$$\\rho(M) = \\max_i \\{|1-\\alpha\\,\\lambda_i|\\} = \\max \\{1-\\alpha \\lambda_1, -(1-\\alpha\\,\\lambda_n)\\}.$$\n",
    "\n",
    "Das Maximum ist minimiert, wenn wir $\\alpha$ optimal wählen, daher\n",
    "\n",
    "$$1-\\alpha \\lambda_1 = -(1-\\alpha\\,\\lambda_n).$$\n",
    "\n",
    "Somit sei\n",
    "\n",
    "$$\\alpha_{opt} = \\frac{2}{\\lambda_1+\\lambda_n},$$\n",
    "\n",
    "was zur optimalen Konvergenzrate\n",
    "\n",
    "$$\\rho_{opt} = \\frac{\\lambda_n-\\lambda_1}{\\lambda_n+\\lambda_1} \\approx 1 - \\frac{\\lambda_1}{\\lambda_n} = 1 - \\frac{1}{\\kappa(A)}$$\n",
    "\n",
    "führt, wobei mit $\\kappa(A)$ die Konditionszahl $\\kappa(A) = \\lambda_{\\max}(A) / \\lambda_{\\min}(A)$ bezeichnet sei.\n",
    "\n",
    "Nach $N$ Iterationen ist der Fehler um den Faktor\n",
    "\n",
    "$$\\left(1-\\frac{1}{\\kappa}\\right)^N$$\n",
    "\n",
    "reduziert. Um die Fehlerreduktion $\\epsilon$ zu erreichen, sind\n",
    "\n",
    "$$N = \\frac{\\log \\epsilon}{\\log(1-1/\\kappa)} \\approx \\kappa |\\log \\epsilon|$$\n",
    "\n",
    "Iterationen notwendig."
   ]
  },
  {
   "cell_type": "markdown",
   "metadata": {},
   "source": [
    "## Anwendung auf Modellproblem"
   ]
  },
  {
   "cell_type": "markdown",
   "metadata": {},
   "source": [
    "Wir wenden das Verfahren auf das Modellproblem\n",
    "\n",
    "$$\\begin{split}\n",
    "-\\Delta u + 10\\, u & = 1\\quad x\\in\\Omega = [0,1]^2\\\\\n",
    "u & = 0\\quad x \\in \\partial\\Omega\\end{split}$$\n",
    "\n",
    "an."
   ]
  },
  {
   "cell_type": "code",
   "execution_count": 1,
   "metadata": {},
   "outputs": [],
   "source": [
    "from netgen.geom2d import unit_square\n",
    "from ngsolve import *\n",
    "from ngsolve.webgui import Draw\n",
    "import matplotlib.pyplot as plt\n",
    "from myst_nb import glue"
   ]
  },
  {
   "cell_type": "markdown",
   "metadata": {},
   "source": [
    "Diskretierung der schwachen Gleichung mit FEM 1. Ordnung:"
   ]
  },
  {
   "cell_type": "code",
   "execution_count": 2,
   "metadata": {},
   "outputs": [],
   "source": [
    "mesh = Mesh(unit_square.GenerateMesh(maxh=0.1))\n",
    "fes = H1(mesh, order=1, dirichlet='bottom|right|top|left')\n",
    "u,v = fes.TnT()\n",
    "a = BilinearForm(grad(u)*grad(v)*dx+10*u*v*dx).Assemble()\n",
    "f = LinearForm(1*v*dx).Assemble()\n",
    "gfu = GridFunction(fes)"
   ]
  },
  {
   "cell_type": "markdown",
   "metadata": {},
   "source": [
    "Wir nutzen das CSR Modul von `scipy` um das reduzierte Problem für die freien Freiheitsgrade zu lösen."
   ]
  },
  {
   "cell_type": "code",
   "execution_count": 3,
   "metadata": {},
   "outputs": [],
   "source": [
    "import scipy.sparse as sp\n",
    "import numpy as np\n",
    "from numpy.linalg import norm"
   ]
  },
  {
   "cell_type": "markdown",
   "metadata": {},
   "source": [
    "Für die reduzierte Systemmatrix folgt"
   ]
  },
  {
   "cell_type": "code",
   "execution_count": 4,
   "metadata": {},
   "outputs": [
    {
     "data": {
      "image/png": "[encoded data removed]",
      "text/plain": [
       "<Figure size 640x480 with 1 Axes>"
      ]
     },
     "metadata": {},
     "output_type": "display_data"
    }
   ],
   "source": [
    "rows,cols,vals = a.mat.COO()\n",
    "ind = np.arange(fes.ndof)[np.array(fes.FreeDofs())]\n",
    "\n",
    "# Reduktion auf die freien Freiheitsgrade der Systemmatrix\n",
    "A = sp.csr_matrix((vals,(rows,cols)))\n",
    "A = A[np.ix_(ind,ind)]\n",
    "plt.spy(A)\n",
    "plt.show()\n",
    "\n",
    "# Reduktion auf die freien Freiheitsgrade der rechten Seite\n",
    "fd = np.array(f.vec)[ind]"
   ]
  },
  {
   "cell_type": "markdown",
   "metadata": {},
   "source": [
    "Eine Approximation der Dämpfung wird mit Hilfe von ein paar Potenziterationen bestimmt:"
   ]
  },
  {
   "cell_type": "code",
   "execution_count": 5,
   "metadata": {},
   "outputs": [
    {
     "name": "stdout",
     "output_type": "stream",
     "text": [
      "2.1141973640399123\n",
      "4.311845663935161\n",
      "4.73631220409098\n",
      "4.89657980277556\n",
      "4.989808086305975\n",
      "5.054376221690217\n",
      "5.103009491686391\n",
      "5.141284599519212\n",
      "5.172149561032137\n",
      "5.197401861608777\n",
      "5.218263435414244\n",
      "5.235630329789166\n",
      "5.2501907390793265\n",
      "5.262486401714553\n",
      "5.272948583787229\n",
      "5.281921978341642\n",
      "5.289682249171152\n",
      "5.296449720892037\n",
      "5.302400373199629\n",
      "5.30767475071115\n"
     ]
    }
   ],
   "source": [
    "hv = np.random.rand(ind.shape[0])\n",
    "hv /= norm(hv)\n",
    "for k in range(20):\n",
    "    hv2 = A@hv\n",
    "    rho = norm(hv2)\n",
    "    print(rho)\n",
    "    hv = 1/rho*hv2"
   ]
  },
  {
   "cell_type": "markdown",
   "metadata": {},
   "source": [
    "Richardson Verfahren anwenden"
   ]
  },
  {
   "cell_type": "code",
   "execution_count": 6,
   "metadata": {},
   "outputs": [
    {
     "name": "stdout",
     "output_type": "stream",
     "text": [
      "needed 342 iterations\n"
     ]
    }
   ],
   "source": [
    "alpha = 1 / rho\n",
    "sol = np.zeros(fes.ndof)\n",
    "err0 = norm(fd)\n",
    "its = 0\n",
    "errs = []\n",
    "while True:\n",
    "    r = fd - A * sol[ind]\n",
    "    err = norm(r)\n",
    "    errs.append(err)\n",
    "    #print (\"iteration\", its, \"res=\", err)\n",
    "    sol[ind] += alpha * r\n",
    "    if err < 1e-8 * err0 or its > 10000: break\n",
    "    its = its+1\n",
    "print (\"needed\", its, \"iterations\")"
   ]
  },
  {
   "cell_type": "markdown",
   "metadata": {},
   "source": [
    "Für die Abschätzung der Anzahl notwendiger Iterationen erhalten wir:"
   ]
  },
  {
   "cell_type": "code",
   "execution_count": 7,
   "metadata": {},
   "outputs": [],
   "source": [
    "import scipy.sparse.linalg as spl"
   ]
  },
  {
   "cell_type": "code",
   "execution_count": 8,
   "metadata": {
    "scrolled": true
   },
   "outputs": [
    {
     "data": {
      "text/plain": [
       "358.16804829894215"
      ]
     },
     "execution_count": 8,
     "metadata": {},
     "output_type": "execute_result"
    }
   ],
   "source": [
    "np.linalg.cond(A.todense())*np.abs(np.log(1e-8))"
   ]
  },
  {
   "cell_type": "markdown",
   "metadata": {},
   "source": [
    "Achtung, diese Berechnung funktioniert nur für wenig Freiheitsgrade."
   ]
  },
  {
   "cell_type": "code",
   "execution_count": 9,
   "metadata": {},
   "outputs": [
    {
     "data": {
      "application/papermill.record/image/png": "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",
      "application/papermill.record/text/plain": "<Figure size 640x480 with 1 Axes>"
     },
     "metadata": {
      "scrapbook": {
       "mime_prefix": "application/papermill.record/",
       "name": "FEM_RichardsonVerfahren_fig"
      }
     },
     "output_type": "display_data"
    },
    {
     "data": {
      "image/png": "[encoded data removed]",
      "text/plain": [
       "<Figure size 640x480 with 1 Axes>"
      ]
     },
     "metadata": {},
     "output_type": "display_data"
    }
   ],
   "source": [
    "fig, ax = plt.subplots()\n",
    "ax.loglog(errs)\n",
    "ax.grid()\n",
    "ax.set_title('Richardson Verfahren: '+str(its)+' iterationen')\n",
    "ax.set_xlabel('Iteration')\n",
    "ax.set_ylabel('Residuum')\n",
    "glue(\"FEM_RichardsonVerfahren_fig\", fig, display=False)"
   ]
  },
  {
   "cell_type": "markdown",
   "metadata": {},
   "source": [
    "Schreiben wir die Lösung wieder zurück in die `GridFunction` von `ngsolve` können wir die Lösung visualisieren:"
   ]
  },
  {
   "cell_type": "code",
   "execution_count": 10,
   "metadata": {},
   "outputs": [
    {
     "data": {
      "application/vnd.jupyter.widget-view+json": {
       "model_id": "5967713613974cf2842a24d2b2f9aed2",
       "version_major": 2,
       "version_minor": 0
      },
      "text/plain": [
       "WebGuiWidget(layout=Layout(height='50vh', width='100%'), value={'gui_settings': {}, 'ngsolve_version': '6.2.23…"
      ]
     },
     "metadata": {},
     "output_type": "display_data"
    }
   ],
   "source": [
    "gfu.vec[:] = sol\n",
    "Draw(gfu,mesh,'u');"
   ]
  }
 ],
 "metadata": {
  "kernelspec": {
   "display_name": "Python 3 (ipykernel)",
   "language": "python",
   "name": "python3",
   "orphan": true
  },
  "language_info": {
   "codemirror_mode": {
    "name": "ipython",
    "version": 3
   },
   "file_extension": ".py",
   "mimetype": "text/x-python",
   "name": "python",
   "nbconvert_exporter": "python",
   "pygments_lexer": "ipython3",
   "version": "3.11.4"
  }
 },
 "nbformat": 4,
 "nbformat_minor": 4
}
