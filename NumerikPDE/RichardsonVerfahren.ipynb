{
 "cells": [
  {
   "cell_type": "markdown",
   "metadata": {},
   "source": [
    "# Richardson Verfahren"
   ]
  },
  {
   "cell_type": "markdown",
   "metadata": {},
   "source": [
    "Die Theorie folgt direkt dem [iFEM](https://github.com/JSchoeberl/iFEM/blob/master/iterative/Richardson.ipynb) Jupyter-Notebook, wobei wir für das Beispiel Dirichlet Randbedingungen implementieren."
   ]
  },
  {
   "cell_type": "markdown",
   "metadata": {},
   "source": [
    "## Fixpunkt Iteration"
   ]
  },
  {
   "cell_type": "markdown",
   "metadata": {},
   "source": [
    "Sei $C$ eine reguläre Matrix und $\\alpha\\in\\mathbb{R}^+$ ein Dämpfungsfaktor. Dann ist das lineare Gleichungssystem äquivalent zur Fixpunktgleichung\n",
    "\n",
    "$$x = x + \\alpha\\, C^{-1}\\,(b-A x).$$ (eq:RichardsonFixpunktGleichung)\n",
    "\n",
    "Daraus ergibt sich die Fixpunkt Iteration, auch *einfache Iteration* oder *Richardson Iteration* genannt:\n",
    "\n",
    "$$x_{k+1} = x_k + \\alpha\\, C^{-1}\\,(b-A x_k)$$\n",
    "\n",
    "wobei der Startwert $x_0$ gegeben ist.\n",
    "\n",
    "Sei $x^*$ eine Lösung von {eq}`eq:RichardsonFixpunktGleichung` und\n",
    "\n",
    "$$e_k = x_k - x^*$$\n",
    "\n",
    "der Iterationsfehler. Dann gilt für den neuen Fehler\n",
    "\n",
    "$$\\begin{split}\n",
    "e_{k+1} & = x_{k+1}-x^* = x_k + \\alpha\\, C^{-1} (b-A\\,x_k) - x^*\\\\\n",
    "& = (x_k-x^*) + \\alpha\\, C^{-1} (A\\,x_k-A\\,x^*)\\\\\n",
    "& = (\\mathbb{1} - \\alpha\\,C^{-1} A)\\, (x_k-x^*)\\\\\n",
    "& = (\\mathbb{1} - \\alpha\\,C^{-1} A)\\, e_k.\\\\\n",
    "\\end{split}$$\n",
    "\n",
    "Der neue Fehler ergibt sich durch die Iterationsmatrix oder Fehlerübergangsmatrix\n",
    "\n",
    "$$M = (\\mathbb{1} - \\alpha\\,C^{-1} A)$$\n",
    "\n",
    "als\n",
    "\n",
    "$$e_{k+1} = M\\, e_k.$$\n",
    "\n",
    "Sei $\\|\\cdot\\|$ eine beliebige Vektornorm und\n",
    "\n",
    "$$|\\!|\\!|M|\\!|\\!|:=\\sup_{x\\in\\mathbb{R}^n}\\frac{\\|M x\\|}{\\|x\\|}$$\n",
    "\n",
    "die zugehörige Matrixnorm (Operatornorm vgl. {eq}`eq:operatornorm`). Damit gilt für den neuen Fehler (vgl. {eq}`eq:operatornormungleichung`)\n",
    "\n",
    "$$\\|e_{k+1}\\| \\le |\\!|\\!|M|\\!|\\!|\\, \\|e_k\\|.$$\n",
    "\n",
    "Hinreichend für die Konvergenz ist damit die Existenz einer Matrixnorm mit\n",
    "\n",
    "$$|\\!|\\!|M|\\!|\\!|<1.$$"
   ]
  },
  {
   "cell_type": "markdown",
   "metadata": {},
   "source": [
    "## Vorkonditionierer"
   ]
  },
  {
   "cell_type": "markdown",
   "metadata": {},
   "source": [
    "Die Matrix $C$ wird **Vorkonditionierer** (**Preconditioner**) genannt. Sie soll zwei Eigenschaften erfüllen:\n",
    "* Die Matrix-Vektormultiplikation mit $C^{-1}\\cdot r$ soll billig sein.\n",
    "* Die Matrix $C$ soll eine gute Approximation zu $A$ sein.\n",
    "\n",
    "Zur Wahl der Matrix $C$\n",
    "* Wählt man zum Beispiel $C = \\mathbb{1}$ oder etwas besser $C = \\mathop{diag} A$, dann ist die Operation $C^{-1}\\cdot r$ sehr billig. Die Approximation $C \\approx A$ kann aber schlecht sein.\n",
    "* Wählt man hingegen $C = A$ und $\\alpha = 1$, dann ist die zweite Eigenschaft best-möglich erfüllt:\n",
    "\n",
    "  $$M = \\mathbb{1} - \\alpha C^{-1} A = \\mathbb{1} - A^{-1}A = 0.$$\n",
    "  \n",
    "  Es gilt daher $\\|M\\| = 0$.\n",
    "  \n",
    "  Die Invertierung von $C$ ist jetzt aber genau das ursprüngliche Problem.\n",
    "  \n",
    "Ziel ist es Vorkonditionierer mit beiden Eigenschaften zu finden."
   ]
  },
  {
   "cell_type": "markdown",
   "metadata": {},
   "source": [
    "## Richardson Iteration"
   ]
  },
  {
   "cell_type": "markdown",
   "metadata": {},
   "source": [
    "Im Richardson Verfahren wird die Matrix $C=\\mathbb{1}$ gesetzt. Damit folgt für die Fehlerübergangsmatrix\n",
    "\n",
    "$$M = \\mathbb{1} - \\alpha A.$$\n",
    "\n",
    "Für die Überprüfung der Konvergenz gibt es zwei Möglichkeiten:\n",
    "\n",
    "* den Konvergenzradius zu überprüfen\n",
    "\n",
    "  $$\\rho(\\mathbb{1} - \\alpha A) = \\max_{\\lambda\\in\\sigma(\\mathbb{1} - \\alpha A)} |\\lambda| < 1$$\n",
    "  \n",
    "* eine geeignete Norm $\\|\\cdot\\|$ finden, so dass die Matrixnorm\n",
    "\n",
    "  $$|\\!|\\!|\\mathbb{1} - \\alpha A|\\!|\\!|:=\\sup_{x\\in\\mathbb{R}^n}\\frac{\\|(\\mathbb{1} - \\alpha A) x\\|}{\\|x\\|} < 1$$\n",
    "  \n",
    "  erfüllt ist."
   ]
  },
  {
   "cell_type": "markdown",
   "metadata": {},
   "source": [
    "### Optimieren des Dämpfungsfaktors"
   ]
  },
  {
   "cell_type": "markdown",
   "metadata": {},
   "source": [
    "Sei $A$ symmetrisch und positiv definit. Damit sind die Eigenwerte $\\sigma(A) = \\{\\lambda_i\\in\\mathbb{R}\\}$ mit $0<\\lambda_1 \\le \\lambda_2 \\ldots \\le \\lambda_n$.\n",
    "\n",
    "Die Eigenwerte der Fehlerübergangsmatrix $M = \\mathbb{1} - \\alpha\\,A$ sind in dem Fall gegeben durch $\\{1-\\alpha\\, \\lambda_i\\}$. Wenn wir daher\n",
    "\n",
    "$$0 < \\alpha < \\frac{2}{\\lambda_n}$$\n",
    "\n",
    "wählen, folgt $\\rho(M) < 1$ und damit eine konvergente Itertation.\n",
    "\n",
    "Der Spektralradius von $M$ ist gegeben durch\n",
    "\n",
    "$$\\rho(M) = \\max_i \\{|1-\\alpha\\,\\lambda_i|\\} = \\max \\{1-\\alpha \\lambda_1, -(1-\\alpha\\,\\lambda_n)\\}.$$\n",
    "\n",
    "Das Maximum ist minimiert, wenn wir $\\alpha$ optimal wählen, daher\n",
    "\n",
    "$$1-\\alpha \\lambda_1 = -(1-\\alpha\\,\\lambda_n).$$\n",
    "\n",
    "Somit sei\n",
    "\n",
    "$$\\alpha_{opt} = \\frac{2}{\\lambda_1+\\lambda_n},$$\n",
    "\n",
    "was zur optimalen Konvergenzrate\n",
    "\n",
    "$$\\rho_{opt} = \\frac{\\lambda_n-\\lambda_1}{\\lambda_n+\\lambda_1} \\approx 1 - \\frac{\\lambda_1}{\\lambda_n} = 1 - \\frac{1}{\\kappa(A)}$$\n",
    "\n",
    "führt, wobei mit $\\kappa(A)$ die Konditionszahl $\\kappa(A) = \\lambda_{\\max}(A) / \\lambda_{\\min}(A)$ bezeichnet sei.\n",
    "\n",
    "Nach $N$ Iterationen ist der Fehler um den Faktor\n",
    "\n",
    "$$\\left(1-\\frac{1}{\\kappa}\\right)^N$$\n",
    "\n",
    "reduziert. Um die Fehlerreduktion $\\epsilon$ zu erreichen, sind\n",
    "\n",
    "$$N = \\frac{\\log \\epsilon}{\\log(1-1/\\kappa)} \\approx \\kappa |\\log \\epsilon|$$\n",
    "\n",
    "Iterationen notwendig."
   ]
  },
  {
   "cell_type": "markdown",
   "metadata": {},
   "source": [
    "## Anwendung auf Modellproblem"
   ]
  },
  {
   "cell_type": "markdown",
   "metadata": {},
   "source": [
    "Wir wenden das Verfahren auf das Modellproblem\n",
    "\n",
    "$$\\begin{split}\n",
    "-\\Delta u + 10\\, u & = 1\\quad x\\in\\Omega = [0,1]^2\\\\\n",
    "u & = 0\\quad x \\in \\partial\\Omega\\end{split}$$\n",
    "\n",
    "an."
   ]
  },
  {
   "cell_type": "code",
   "execution_count": 1,
   "metadata": {},
   "outputs": [],
   "source": [
    "from netgen.geom2d import unit_square\n",
    "from ngsolve import *\n",
    "from ngsolve.webgui import Draw\n",
    "import matplotlib.pyplot as plt\n",
    "from myst_nb import glue"
   ]
  },
  {
   "cell_type": "markdown",
   "metadata": {},
   "source": [
    "Diskretierung der schwachen Gleichung mit FEM 1. Ordnung:"
   ]
  },
  {
   "cell_type": "code",
   "execution_count": 2,
   "metadata": {},
   "outputs": [],
   "source": [
    "mesh = Mesh(unit_square.GenerateMesh(maxh=0.1))\n",
    "fes = H1(mesh, order=1, dirichlet='bottom|right|top|left')\n",
    "u,v = fes.TnT()\n",
    "a = BilinearForm(grad(u)*grad(v)*dx+10*u*v*dx).Assemble()\n",
    "f = LinearForm(1*v*dx).Assemble()\n",
    "gfu = GridFunction(fes)"
   ]
  },
  {
   "cell_type": "markdown",
   "metadata": {},
   "source": [
    "Wir nutzen das CSR Modul von `scipy` um das reduzierte Problem für die freien Freiheitsgrade zu lösen."
   ]
  },
  {
   "cell_type": "code",
   "execution_count": 3,
   "metadata": {},
   "outputs": [],
   "source": [
    "import scipy.sparse as sp\n",
    "import numpy as np\n",
    "from numpy.linalg import norm"
   ]
  },
  {
   "cell_type": "markdown",
   "metadata": {},
   "source": [
    "Für die reduzierte Systemmatrix folgt"
   ]
  },
  {
   "cell_type": "code",
   "execution_count": 4,
   "metadata": {},
   "outputs": [
    {
     "data": {
      "image/png": "[encoded data removed]",
      "text/plain": [
       "<Figure size 432x288 with 1 Axes>"
      ]
     },
     "metadata": {
      "needs_background": "light"
     },
     "output_type": "display_data"
    }
   ],
   "source": [
    "rows,cols,vals = a.mat.COO()\n",
    "ind = np.arange(fes.ndof)[np.array(fes.FreeDofs())]\n",
    "\n",
    "# Reduktion auf die freien Freiheitsgrade der Systemmatrix\n",
    "A = sp.csr_matrix((vals,(rows,cols)))\n",
    "A = A[np.ix_(ind,ind)]\n",
    "plt.spy(A)\n",
    "plt.show()\n",
    "\n",
    "# Reduktion auf die freien Freiheitsgrade der rechten Seite\n",
    "fd = np.array(f.vec)[ind]"
   ]
  },
  {
   "cell_type": "markdown",
   "metadata": {},
   "source": [
    "Eine Approximation der Dämpfung wird mit Hilfe von ein paar Potenziterationen bestimmt:"
   ]
  },
  {
   "cell_type": "code",
   "execution_count": 5,
   "metadata": {},
   "outputs": [
    {
     "name": "stdout",
     "output_type": "stream",
     "text": [
      "2.1916283547750206\n",
      "4.3248439695350465\n",
      "4.633829197296556\n",
      "4.769260951633237\n",
      "4.858619798813089\n",
      "4.926452152156282\n",
      "4.981791037600651\n",
      "5.029077098010716\n",
      "5.070892861103446\n",
      "5.108912426362594\n",
      "5.144310085371693\n",
      "5.177954942251101\n",
      "5.2105047450500415\n",
      "5.242449162761473\n",
      "5.274128399156442\n",
      "5.305741651522177\n",
      "5.3373540637786565\n",
      "5.368907445891345\n",
      "5.4002376004239565\n",
      "5.431098908476904\n"
     ]
    }
   ],
   "source": [
    "hv = np.random.rand(ind.shape[0])\n",
    "hv /= norm(hv)\n",
    "for k in range(20):\n",
    "    hv2 = A@hv\n",
    "    rho = norm(hv2)\n",
    "    print(rho)\n",
    "    hv = 1/rho*hv2"
   ]
  },
  {
   "cell_type": "markdown",
   "metadata": {},
   "source": [
    "Richardson Verfahren anwenden"
   ]
  },
  {
   "cell_type": "code",
   "execution_count": 6,
   "metadata": {},
   "outputs": [
    {
     "name": "stdout",
     "output_type": "stream",
     "text": [
      "needed 373 iterations\n"
     ]
    }
   ],
   "source": [
    "alpha = 1 / rho\n",
    "sol = np.zeros(fes.ndof)\n",
    "err0 = norm(fd)\n",
    "its = 0\n",
    "errs = []\n",
    "while True:\n",
    "    r = fd - A * sol[ind]\n",
    "    err = norm(r)\n",
    "    errs.append(err)\n",
    "    #print (\"iteration\", its, \"res=\", err)\n",
    "    sol[ind] += alpha * r\n",
    "    if err < 1e-8 * err0 or its > 10000: break\n",
    "    its = its+1\n",
    "print (\"needed\", its, \"iterations\")"
   ]
  },
  {
   "cell_type": "markdown",
   "metadata": {},
   "source": [
    "Für die Abschätzung der Anzahl notwendiger Iterationen erhalten wir:"
   ]
  },
  {
   "cell_type": "code",
   "execution_count": 7,
   "metadata": {},
   "outputs": [],
   "source": [
    "import scipy.sparse.linalg as spl"
   ]
  },
  {
   "cell_type": "code",
   "execution_count": 8,
   "metadata": {
    "scrolled": true
   },
   "outputs": [
    {
     "data": {
      "text/plain": [
       "407.2044896842068"
      ]
     },
     "execution_count": 8,
     "metadata": {},
     "output_type": "execute_result"
    }
   ],
   "source": [
    "np.linalg.cond(A.todense())*np.abs(np.log(1e-8))"
   ]
  },
  {
   "cell_type": "markdown",
   "metadata": {},
   "source": [
    "Achtung, diese Berechnung funktioniert nur für wenig Freiheitsgrade."
   ]
  },
  {
   "cell_type": "code",
   "execution_count": 9,
   "metadata": {},
   "outputs": [
    {
     "data": {
      "application/papermill.record/image/png": "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\n",
      "application/papermill.record/text/plain": "<Figure size 432x288 with 1 Axes>"
     },
     "metadata": {
      "scrapbook": {
       "mime_prefix": "application/papermill.record/",
       "name": "FEM_RichardsonVerfahren_fig"
      }
     },
     "output_type": "display_data"
    },
    {
     "data": {
      "image/png": "[encoded data removed]",
      "text/plain": [
       "<Figure size 432x288 with 1 Axes>"
      ]
     },
     "metadata": {
      "needs_background": "light"
     },
     "output_type": "display_data"
    }
   ],
   "source": [
    "fig, ax = plt.subplots()\n",
    "ax.loglog(errs)\n",
    "ax.grid()\n",
    "ax.set_title('Richardson Verfahren: '+str(its)+' iterationen')\n",
    "ax.set_xlabel('Iteration')\n",
    "ax.set_ylabel('Residuum')\n",
    "glue(\"FEM_RichardsonVerfahren_fig\", fig, display=False)"
   ]
  },
  {
   "cell_type": "markdown",
   "metadata": {},
   "source": [
    "Schreiben wir die Lösung wieder zurück in die `GridFunction` von `ngsolve` können wir die Lösung visualisieren:"
   ]
  },
  {
   "cell_type": "code",
   "execution_count": 10,
   "metadata": {},
   "outputs": [
    {
     "data": {
      "application/vnd.jupyter.widget-view+json": {
       "model_id": "747b94a60e5f403e9821374dd92e51d8",
       "version_major": 2,
       "version_minor": 0
      },
      "text/plain": [
       "WebGuiWidget(value={'ngsolve_version': '6.2.2104-121-gee6902d12', 'mesh_dim': 2, 'order2d': 2, 'order3d': 2, '…"
      ]
     },
     "metadata": {},
     "output_type": "display_data"
    }
   ],
   "source": [
    "gfu.vec[:] = sol\n",
    "Draw(gfu,mesh,'u');"
   ]
  },
  {
   "cell_type": "code",
   "execution_count": null,
   "metadata": {},
   "outputs": [],
   "source": []
  }
 ],
 "metadata": {
  "kernelspec": {
   "display_name": "Python 3",
   "language": "python",
   "name": "python3"
  },
  "language_info": {
   "codemirror_mode": {
    "name": "ipython",
    "version": 3
   },
   "file_extension": ".py",
   "mimetype": "text/x-python",
   "name": "python",
   "nbconvert_exporter": "python",
   "pygments_lexer": "ipython3",
   "version": "3.8.1"
  }
 },
 "nbformat": 4,
 "nbformat_minor": 4
}
