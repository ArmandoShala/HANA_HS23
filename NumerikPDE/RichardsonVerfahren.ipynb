{
 "cells": [
  {
   "cell_type": "markdown",
   "metadata": {},
   "source": [
    "# Richardson Verfahren"
   ]
  },
  {
   "cell_type": "markdown",
   "metadata": {},
   "source": [
    "Die Theorie folgt direkt dem [iFEM](https://github.com/JSchoeberl/iFEM/blob/master/iterative/Richardson.ipynb) Jupyter-Notebook, wobei wir für das Beispiel Dirichlet Randbedingungen implementieren."
   ]
  },
  {
   "cell_type": "markdown",
   "metadata": {},
   "source": [
    "## Fixpunkt Iteration"
   ]
  },
  {
   "cell_type": "markdown",
   "metadata": {},
   "source": [
    "Sei $C$ eine reguläre Matrix und $\\alpha\\in\\mathbb{R}^+$ ein Dämpfungsfaktor. Dann ist das lineare Gleichungssystem äquivalent zur Fixpunktgleichung\n",
    "\n",
    "$$x = x + \\alpha\\, C^{-1}\\,(b-A x).$$ (eq:RichardsonFixpunktGleichung)\n",
    "\n",
    "Daraus ergibt sich die Fixpunkt Iteration, auch *einfache Iteration* oder *Richardson Iteration* genannt:\n",
    "\n",
    "$$x_{k+1} = x_k + \\alpha\\, C^{-1}\\,(b-A x_k)$$\n",
    "\n",
    "wobei der Startwert $x_0$ gegeben ist.\n",
    "\n",
    "Sei $x$ eine Lösung von {eq}`eq:RichardsonFixpunktGleichung` und\n",
    "\n",
    "$$e_k = x_k - x$$\n",
    "\n",
    "der Iterationsfehler. Dann gilt für den neuen Fehler\n",
    "\n",
    "$$\\begin{split}\n",
    "e_k & = x_{k+1}-x = x_k + \\alpha\\, C^{-1} (b - A\\,x_k) - x\\\\\n",
    "& = (x_k-x) + \\alpha\\, C^{-1} (A\\,x-A\\,x_k)\\\\\n",
    "& = (\\mathbb{1} - \\alpha\\,C^{-1} A)\\, (x_k-x)\\\\\n",
    "& = (\\mathbb{1} - \\alpha\\,C^{-1} A)\\, e_k.\\\\\n",
    "\\end{split}$$\n",
    "\n",
    "Der neue Fehler ergibt sich durch die Iterationsmatrix oder Fehlerübergangsmatrix\n",
    "\n",
    "$$M = (\\mathbb{1} - \\alpha\\,C^{-1} A)$$\n",
    "\n",
    "als\n",
    "\n",
    "$$e_{k+1} = M\\, e_k.$$\n",
    "\n",
    "Sei $\\|\\cdot\\|$ eine beliebige Vektornorm und\n",
    "\n",
    "$$|\\!|\\!|M|\\!|\\!|:=\\sup_{x\\in\\mathbb{R}^n}\\frac{\\|M x\\|}{\\|x\\|}$$\n",
    "\n",
    "die zugehörige Matrixnorm (Operatornorm vgl. {eq}`eq:operatornorm`). Damit gilt für den neuen Fehler (vgl. {eq}`eq:operatornormungleichung`)\n",
    "\n",
    "$$\\|e_{k+1}\\| \\le |\\!|\\!|M|\\!|\\!|\\, \\|e_k\\|.$$\n",
    "\n",
    "Hinreichend für die Konvergenz ist damit die Existenz einer Matrixnorm mit\n",
    "\n",
    "$$|\\!|\\!|M|\\!|\\!|<1.$$"
   ]
  },
  {
   "cell_type": "markdown",
   "metadata": {
    "heading_collapsed": true
   },
   "source": [
    "## Vorkonditionierer"
   ]
  },
  {
   "cell_type": "markdown",
   "metadata": {
    "hidden": true
   },
   "source": [
    "Die Matrix $C$ wird **Vorkonditionierer** (**Preconditioner**) genannt. Sie soll zwei Eigenschaften erfüllen:\n",
    "* Die Matrix-Vektormultiplikation mit $C^{-1}\\cdot r$ soll billig sein.\n",
    "* Die Matrix $C$ soll eine gute Approximation zu $A$ sein.\n",
    "\n",
    "Zur Wahl der Matrix $C$\n",
    "* Wählt man zum Beispiel $C = \\mathbb{1}$ oder etwas besser $C = \\mathop{diag} A$, dann ist die Operation $C^{-1}\\cdot r$ sehr billig. Die Approximation $C \\approx A$ kann aber schlecht sein.\n",
    "* Wählt man hingegen $C = A$ und $\\alpha = 1$, dann ist die zweite Eigenschaft best-möglich erfüllt:\n",
    "\n",
    "  $$M = \\mathbb{1} - \\alpha C^{-1} A = \\mathbb{1} - A^{-1}A = 0.$$\n",
    "  \n",
    "  Es gilt daher $\\|M\\| = 0$.\n",
    "  \n",
    "  Die Invertierung von $C$ ist jetzt aber genau das ursprüngliche Problem.\n",
    "  \n",
    "Ziel ist es Vorkonditionierer mit beiden Eigenschaften zu finden."
   ]
  },
  {
   "cell_type": "markdown",
   "metadata": {
    "heading_collapsed": true
   },
   "source": [
    "## Richardson Iteration"
   ]
  },
  {
   "cell_type": "markdown",
   "metadata": {
    "hidden": true
   },
   "source": [
    "Im Richardson Verfahren wird die Matrix $C=\\mathbb{1}$ gesetzt. Damit folgt für die Fehlerübergangsmatrix\n",
    "\n",
    "$$M = \\mathbb{1} - \\alpha A.$$\n",
    "\n",
    "Für die Überprüfung der Konvergenz gibt es zwei Möglichkeiten:\n",
    "\n",
    "* den Konvergenzradius zu überprüfen\n",
    "\n",
    "  $$\\rho(\\mathbb{1} - \\alpha A) = \\max_{\\lambda\\in\\sigma(\\mathbb{1} - \\alpha A)} |\\lambda| < 1$$\n",
    "  \n",
    "* eine geeignete Norm $\\|\\cdot\\|$ finden, so dass die Matrixnorm\n",
    "\n",
    "  $$|\\!|\\!|\\mathbb{1} - \\alpha A|\\!|\\!|:=\\sup_{x\\in\\mathbb{R}^n}\\frac{\\|(\\mathbb{1} - \\alpha A) x\\|}{\\|x\\|} < 1$$\n",
    "  \n",
    "  erfüllt ist."
   ]
  },
  {
   "cell_type": "markdown",
   "metadata": {
    "hidden": true
   },
   "source": [
    "### Optimieren des Dämpfungsfaktors"
   ]
  },
  {
   "cell_type": "markdown",
   "metadata": {
    "hidden": true
   },
   "source": [
    "Sei $A$ symmetrisch und positiv definit. Damit sind die Eigenwerte $\\sigma(A) = \\{\\lambda_i\\in\\mathbb{R}\\}$ mit $0<\\lambda_1 \\le \\lambda_2 \\ldots \\le \\lambda_n$.\n",
    "\n",
    "Die Eigenwerte der Fehlerübergangsmatrix $M = \\mathbb{1} - \\alpha\\,A$ sind in dem Fall gegeben durch $\\{1-\\alpha\\, \\lambda_i\\}$. Wenn wir daher\n",
    "\n",
    "$$0 < \\alpha < \\frac{2}{\\lambda_n}$$\n",
    "\n",
    "wählen, folgt $\\rho(M) < 1$ und damit eine konvergente Itertation.\n",
    "\n",
    "Der Spektralradius von $M$ ist gegeben durch\n",
    "\n",
    "$$\\rho(M) = \\max_i \\{|1-\\alpha\\,\\lambda_i|\\} = \\max \\{1-\\alpha \\lambda_1, -(1-\\alpha\\,\\lambda_n)\\}.$$\n",
    "\n",
    "Das Maximum ist minimiert, wenn wir $\\alpha$ optimal wählen, daher\n",
    "\n",
    "$$1-\\alpha \\lambda_1 = -(1-\\alpha\\,\\lambda_n).$$\n",
    "\n",
    "Somit sei\n",
    "\n",
    "$$\\alpha_{opt} = \\frac{2}{\\lambda_1+\\lambda_n},$$\n",
    "\n",
    "was zur optimalen Konvergenzrate\n",
    "\n",
    "$$\\rho_{opt} = \\frac{\\lambda_n-\\lambda_1}{\\lambda_n+\\lambda_1} \\approx 1 - \\frac{\\lambda_1}{\\lambda_n} = 1 - \\frac{1}{\\kappa(A)}$$\n",
    "\n",
    "führt, wobei mit $\\kappa(A)$ die Konditionszahl $\\kappa(A) = \\lambda_{\\max}(A) / \\lambda_{\\min}(A)$ bezeichnet sei.\n",
    "\n",
    "Nach $N$ Iterationen ist der Fehler um den Faktor\n",
    "\n",
    "$$\\left(1-\\frac{1}{\\kappa}\\right)^N$$\n",
    "\n",
    "reduziert. Um die Fehlerreduktion $\\epsilon$ zu erreichen, sind\n",
    "\n",
    "$$N = \\frac{\\log \\epsilon}{\\log(1-1/\\kappa)} \\approx \\kappa |\\log \\epsilon|$$\n",
    "\n",
    "Iterationen notwendig."
   ]
  },
  {
   "cell_type": "markdown",
   "metadata": {},
   "source": [
    "## Anwendung auf Modellproblem"
   ]
  },
  {
   "cell_type": "markdown",
   "metadata": {},
   "source": [
    "Wir wenden das Verfahren auf das Modellproblem\n",
    "\n",
    "$$\\begin{split}\n",
    "-\\Delta u + 10\\, u & = 1\\quad x\\in\\Omega = [0,1]^2\\\\\n",
    "u & = 0\\quad x \\in \\partial\\Omega\\end{split}$$\n",
    "\n",
    "an."
   ]
  },
  {
   "cell_type": "code",
   "execution_count": 1,
   "metadata": {},
   "outputs": [],
   "source": [
    "from netgen.geom2d import unit_square\n",
    "from ngsolve import *\n",
    "from ngsolve.webgui import Draw\n",
    "import matplotlib.pyplot as plt\n",
    "from myst_nb import glue"
   ]
  },
  {
   "cell_type": "markdown",
   "metadata": {},
   "source": [
    "Diskretierung der schwachen Gleichung mit FEM 1. Ordnung:"
   ]
  },
  {
   "cell_type": "code",
   "execution_count": 2,
   "metadata": {},
   "outputs": [],
   "source": [
    "mesh = Mesh(unit_square.GenerateMesh(maxh=0.1))\n",
    "fes = H1(mesh, order=1, dirichlet='bottom|right|top|left')\n",
    "u,v = fes.TnT()\n",
    "a = BilinearForm(grad(u)*grad(v)*dx+10*u*v*dx).Assemble()\n",
    "f = LinearForm(1*v*dx).Assemble()\n",
    "gfu = GridFunction(fes)"
   ]
  },
  {
   "cell_type": "markdown",
   "metadata": {},
   "source": [
    "Wir nutzen das CSR Modul von `scipy` um das reduzierte Problem für die freien Freiheitsgrade zu lösen."
   ]
  },
  {
   "cell_type": "code",
   "execution_count": 3,
   "metadata": {},
   "outputs": [],
   "source": [
    "import scipy.sparse as sp\n",
    "import numpy as np\n",
    "from numpy.linalg import norm"
   ]
  },
  {
   "cell_type": "markdown",
   "metadata": {},
   "source": [
    "Für die reduzierte Systemmatrix folgt"
   ]
  },
  {
   "cell_type": "code",
   "execution_count": 4,
   "metadata": {},
   "outputs": [
    {
     "data": {
      "image/png": "[encoded data removed]",
      "text/plain": [
       "<Figure size 432x288 with 1 Axes>"
      ]
     },
     "metadata": {
      "needs_background": "light"
     },
     "output_type": "display_data"
    }
   ],
   "source": [
    "rows,cols,vals = a.mat.COO()\n",
    "ind = np.arange(fes.ndof)[np.array(fes.FreeDofs())]\n",
    "\n",
    "# Reduktion auf die freien Freiheitsgrade der Systemmatrix\n",
    "A = sp.csr_matrix((vals,(rows,cols)))\n",
    "A = A[np.ix_(ind,ind)]\n",
    "plt.spy(A)\n",
    "plt.show()\n",
    "\n",
    "# Reduktion auf die freien Freiheitsgrade der rechten Seite\n",
    "fd = np.array(f.vec)[ind]"
   ]
  },
  {
   "cell_type": "markdown",
   "metadata": {},
   "source": [
    "Eine Approximation der Dämpfung wird mit Hilfe von ein paar Potenziterationen bestimmt:"
   ]
  },
  {
   "cell_type": "code",
   "execution_count": 5,
   "metadata": {},
   "outputs": [
    {
     "name": "stdout",
     "output_type": "stream",
     "text": [
      "2.1628070258337675\n",
      "4.324804945912049\n",
      "4.698322104634248\n",
      "4.889059116993658\n",
      "5.02081367131536\n",
      "5.12106768817359\n",
      "5.201338340985771\n",
      "5.26782538589384\n",
      "5.3242075064514065\n",
      "5.372754543980921\n",
      "5.4149217450807\n",
      "5.451700162063397\n",
      "5.483821454291814\n",
      "5.51187210929737\n",
      "5.536353133699955\n",
      "5.557708747798446\n",
      "5.576338768378301\n",
      "5.592603324614979\n",
      "5.606824638952369\n",
      "5.619288210544863\n"
     ]
    }
   ],
   "source": [
    "hv = np.random.rand(ind.shape[0])\n",
    "hv2 = np.zeros_like(hv)\n",
    "hv /= norm(hv)\n",
    "for k in range(20):\n",
    "    hv2 = A@hv\n",
    "    rho = norm(hv2)\n",
    "    print(rho)\n",
    "    hv = 1/rho*hv2"
   ]
  },
  {
   "cell_type": "markdown",
   "metadata": {},
   "source": [
    "Richardson Verfahren anwenden"
   ]
  },
  {
   "cell_type": "code",
   "execution_count": 6,
   "metadata": {},
   "outputs": [
    {
     "name": "stdout",
     "output_type": "stream",
     "text": [
      "needed 386 iterations\n"
     ]
    }
   ],
   "source": [
    "alpha = 1 / rho\n",
    "sol = np.zeros(fes.ndof)\n",
    "err0 = norm(fd)\n",
    "its = 0\n",
    "errs = []\n",
    "while True:\n",
    "    r = fd - A * sol[ind]\n",
    "    err = norm(r)\n",
    "    errs.append(err)\n",
    "    #print (\"iteration\", its, \"res=\", err)\n",
    "    sol[ind] += alpha * r\n",
    "    if err < 1e-8 * err0 or its > 10000: break\n",
    "    its = its+1\n",
    "print (\"needed\", its, \"iterations\")"
   ]
  },
  {
   "cell_type": "code",
   "execution_count": 7,
   "metadata": {},
   "outputs": [
    {
     "data": {
      "application/papermill.record/image/png": "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\n",
      "application/papermill.record/text/plain": "<Figure size 432x288 with 1 Axes>"
     },
     "metadata": {
      "scrapbook": {
       "mime_prefix": "application/papermill.record/",
       "name": "FEM_RichardsonVerfahren_fig"
      }
     },
     "output_type": "display_data"
    },
    {
     "data": {
      "image/png": "[encoded data removed]",
      "text/plain": [
       "<Figure size 432x288 with 1 Axes>"
      ]
     },
     "metadata": {
      "needs_background": "light"
     },
     "output_type": "display_data"
    }
   ],
   "source": [
    "fig, ax = plt.subplots()\n",
    "ax.loglog(errs)\n",
    "ax.grid()\n",
    "ax.set_title('Richardson Verfahren: '+str(its)+' iterationen')\n",
    "ax.set_xlabel('Iteration')\n",
    "ax.set_ylabel('Residuum')\n",
    "glue(\"FEM_RichardsonVerfahren_fig\", fig, display=False)"
   ]
  },
  {
   "cell_type": "markdown",
   "metadata": {},
   "source": [
    "Schreiben wir die Lösung wieder zurück in die `GridFunction` von `ngsolve` können wir die Lösung visualisieren:"
   ]
  },
  {
   "cell_type": "code",
   "execution_count": 8,
   "metadata": {},
   "outputs": [
    {
     "data": {
      "application/vnd.jupyter.widget-view+json": {
       "model_id": "3782753fbac9488c9a04fd6bb95aecc5",
       "version_major": 2,
       "version_minor": 0
      },
      "text/plain": [
       "WebGuiWidget(value={'ngsolve_version': '6.2.2104-121-gee6902d12', 'mesh_dim': 2, 'order2d': 2, 'order3d': 2, '…"
      ]
     },
     "metadata": {},
     "output_type": "display_data"
    },
    {
     "data": {
      "text/plain": [
       "BaseWebGuiScene"
      ]
     },
     "execution_count": 8,
     "metadata": {},
     "output_type": "execute_result"
    }
   ],
   "source": [
    "gfu.vec[:] = sol\n",
    "Draw(gfu,mesh,'u')"
   ]
  }
 ],
 "metadata": {
  "kernelspec": {
   "display_name": "Python 3",
   "language": "python",
   "name": "python3"
  },
  "language_info": {
   "codemirror_mode": {
    "name": "ipython",
    "version": 3
   },
   "file_extension": ".py",
   "mimetype": "text/x-python",
   "name": "python",
   "nbconvert_exporter": "python",
   "pygments_lexer": "ipython3",
   "version": "3.8.1"
  }
 },
 "nbformat": 4,
 "nbformat_minor": 4
}
