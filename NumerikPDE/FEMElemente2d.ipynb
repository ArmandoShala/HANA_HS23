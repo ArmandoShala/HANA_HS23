{
 "cells": [
  {
   "cell_type": "markdown",
   "metadata": {},
   "source": [
    "# Element Matrizen 2d Fall"
   ]
  },
  {
   "cell_type": "markdown",
   "metadata": {},
   "source": [
    "Die Wahl der Basisfunktionen für finite Elemente Räume ist ein grosses Gebiet in der Mathematik. In NGSolve ist für die Approximation des $H^1$ eine $hp$ finite Elemente Methode implementiert. Wir betrachten die FE-Basis Funktionen auf dem Einheitsdreieck und Einheitsquadrat."
   ]
  },
  {
   "cell_type": "code",
   "execution_count": 1,
   "metadata": {},
   "outputs": [],
   "source": [
    "from ngsolve import *\n",
    "from ngsolve.webgui import Draw\n",
    "import numpy as np\n",
    "from pandas import DataFrame\n",
    "\n",
    "def highlight_ortho(s):\n",
    "    is_ortho = np.abs(s) < 1e-13\n",
    "    return ['background-color: yellow' if v else '' for v in is_ortho]"
   ]
  },
  {
   "cell_type": "markdown",
   "metadata": {},
   "source": [
    "Wir betrachten die in NGSolve implementierten Basisfunktionen auf verschiedenen Elemente:"
   ]
  },
  {
   "cell_type": "code",
   "execution_count": 19,
   "metadata": {},
   "outputs": [],
   "source": [
    "# Einheits Dreieck (0,0),(1,0),(0,1)\n",
    "def Trig():\n",
    "    from netgen.meshing import Mesh, MeshPoint, Element2D, Pnt\n",
    "    mesh = Mesh(2)\n",
    "    mesh.AddRegion(\"\",2)\n",
    "    pnts = [mesh.Add(MeshPoint(Pnt(0,0,0))), mesh.Add(MeshPoint(Pnt(1,0,0))), mesh.Add(MeshPoint(Pnt(0,1,0)))]\n",
    "    mesh.Add(Element2D(1, pnts))\n",
    "    return mesh\n",
    "\n",
    "# Einheits Dreieck (-1,-1),(1,-1),(0,1)\n",
    "def Trig2():\n",
    "    from netgen.meshing import Mesh, MeshPoint, Element2D, Pnt\n",
    "    mesh = Mesh(2)\n",
    "    mesh.AddRegion(\"\",2)\n",
    "    pnts = [mesh.Add(MeshPoint(Pnt(-1,-1,0))), mesh.Add(MeshPoint(Pnt(1,-1,0))), mesh.Add(MeshPoint(Pnt(0,1,0)))]\n",
    "    mesh.Add(Element2D(1, pnts))\n",
    "    return mesh\n",
    "\n",
    "# Dreieck (1,1),(1.5,-1),(2,1.2)\n",
    "def Trig3():\n",
    "    from netgen.meshing import Mesh, MeshPoint, Element2D, Pnt\n",
    "    mesh = Mesh(2)\n",
    "    mesh.AddRegion(\"\",2)\n",
    "    pnts = [mesh.Add(MeshPoint(Pnt(1,1,0))),\n",
    "            mesh.Add(MeshPoint(Pnt(1.5,-1,0))),\n",
    "            mesh.Add(MeshPoint(Pnt(2,1.2,0)))]\n",
    "    mesh.Add(Element2D(1, pnts))\n",
    "    return mesh\n",
    "\n",
    "# Einheits Quadrat\n",
    "def Quad():\n",
    "    from netgen.meshing import Mesh, MeshPoint, Element2D, Pnt\n",
    "    mesh = Mesh(2)\n",
    "    mesh.AddRegion(\"\",2)\n",
    "    pnts = [mesh.Add(MeshPoint(Pnt(0,0,0))), mesh.Add(MeshPoint(Pnt(1,0,0))), mesh.Add(MeshPoint(Pnt(1,1,0))), mesh.Add(MeshPoint(Pnt(0,1,0)))]\n",
    "    mesh.Add(Element2D(1, pnts))\n",
    "    return mesh"
   ]
  },
  {
   "cell_type": "markdown",
   "metadata": {},
   "source": [
    "## Einheitsdreieck"
   ]
  },
  {
   "cell_type": "code",
   "execution_count": 26,
   "metadata": {
    "scrolled": false
   },
   "outputs": [
    {
     "data": {
      "application/vnd.jupyter.widget-view+json": {
       "model_id": "da20da7cf5be4707803b897f3c0ce1bd",
       "version_major": 2,
       "version_minor": 0
      },
      "text/plain": [
       "WebGuiWidget(value={'ngsolve_version': '6.2.2104-121-gee6902d12', 'mesh_dim': 2, 'order2d': 1, 'order3d': 1, '…"
      ]
     },
     "metadata": {},
     "output_type": "display_data"
    }
   ],
   "source": [
    "mesh = Mesh(Trig())\n",
    "Draw(mesh);"
   ]
  },
  {
   "cell_type": "markdown",
   "metadata": {},
   "source": [
    "### Lineare Ordnung"
   ]
  },
  {
   "cell_type": "code",
   "execution_count": 27,
   "metadata": {
    "scrolled": false
   },
   "outputs": [
    {
     "name": "stdout",
     "output_type": "stream",
     "text": [
      "Anzahl Basis Funktionen:  3\n"
     ]
    }
   ],
   "source": [
    "V = H1(mesh,order=1)\n",
    "gfu = GridFunction(V)\n",
    "\n",
    "print('Anzahl Basis Funktionen: ',V.ndof)"
   ]
  },
  {
   "cell_type": "markdown",
   "metadata": {},
   "source": [
    "Die Basisfunktionen auf dem Einheitsdreick sind gegeben durch\n",
    "\n",
    "$$\\{1-x-y, x, y\\}$$"
   ]
  },
  {
   "cell_type": "code",
   "execution_count": 28,
   "metadata": {
    "scrolled": false
   },
   "outputs": [
    {
     "data": {
      "application/vnd.jupyter.widget-view+json": {
       "model_id": "a7f0da98eb444d7a90986e12e76ef69c",
       "version_major": 2,
       "version_minor": 0
      },
      "text/plain": [
       "WebGuiWidget(value={'ngsolve_version': '6.2.2104-121-gee6902d12', 'mesh_dim': 2, 'order2d': 2, 'order3d': 2, '…"
      ]
     },
     "metadata": {},
     "output_type": "display_data"
    }
   ],
   "source": [
    "gfu.vec.FV()[:] = 0\n",
    "gfu.vec.FV()[1] = 1\n",
    "Draw(gfu,mesh);"
   ]
  },
  {
   "cell_type": "code",
   "execution_count": 29,
   "metadata": {},
   "outputs": [
    {
     "data": {
      "text/html": [
       "<style  type=\"text/css\" >\n",
       "#T_ff880_row1_col2,#T_ff880_row2_col1{\n",
       "            background-color:  yellow;\n",
       "        }</style><table id=\"T_ff880_\" style=\"font-size: 12px\"><thead>    <tr>        <th class=\"blank level0\" ></th>        <th class=\"col_heading level0 col0\" >0</th>        <th class=\"col_heading level0 col1\" >1</th>        <th class=\"col_heading level0 col2\" >2</th>    </tr></thead><tbody>\n",
       "                <tr>\n",
       "                        <th id=\"T_ff880_level0_row0\" class=\"row_heading level0 row0\" >0</th>\n",
       "                        <td id=\"T_ff880_row0_col0\" class=\"data row0 col0\" >1.000000</td>\n",
       "                        <td id=\"T_ff880_row0_col1\" class=\"data row0 col1\" >-0.500000</td>\n",
       "                        <td id=\"T_ff880_row0_col2\" class=\"data row0 col2\" >-0.500000</td>\n",
       "            </tr>\n",
       "            <tr>\n",
       "                        <th id=\"T_ff880_level0_row1\" class=\"row_heading level0 row1\" >1</th>\n",
       "                        <td id=\"T_ff880_row1_col0\" class=\"data row1 col0\" >-0.500000</td>\n",
       "                        <td id=\"T_ff880_row1_col1\" class=\"data row1 col1\" >0.500000</td>\n",
       "                        <td id=\"T_ff880_row1_col2\" class=\"data row1 col2\" >0.000000</td>\n",
       "            </tr>\n",
       "            <tr>\n",
       "                        <th id=\"T_ff880_level0_row2\" class=\"row_heading level0 row2\" >2</th>\n",
       "                        <td id=\"T_ff880_row2_col0\" class=\"data row2 col0\" >-0.500000</td>\n",
       "                        <td id=\"T_ff880_row2_col1\" class=\"data row2 col1\" >0.000000</td>\n",
       "                        <td id=\"T_ff880_row2_col2\" class=\"data row2 col2\" >0.500000</td>\n",
       "            </tr>\n",
       "    </tbody></table>"
      ],
      "text/plain": [
       "<pandas.io.formats.style.Styler at 0x7fab0c52c880>"
      ]
     },
     "execution_count": 29,
     "metadata": {},
     "output_type": "execute_result"
    }
   ],
   "source": [
    "gfu1 = GridFunction(V)\n",
    "gfu2 = GridFunction(V)\n",
    "ortho = []\n",
    "for i in range(0,V.ndof):\n",
    "    gfu1.vec.FV()[:] = 0\n",
    "    gfu1.vec.FV()[i] = 1\n",
    "    oi = []\n",
    "    for j in range(0,V.ndof):\n",
    "        gfu2.vec.FV()[:] = 0\n",
    "        gfu2.vec.FV()[j] = 1\n",
    "        oi.append(Integrate(grad(gfu1)*grad(gfu2),mesh))\n",
    "    ortho.append(oi)\n",
    "ortho = DataFrame(ortho)\n",
    "ortho.style.\\\n",
    "    apply(highlight_ortho).\\\n",
    "    set_table_attributes('style=\"font-size: 12px\"')"
   ]
  },
  {
   "cell_type": "code",
   "execution_count": 30,
   "metadata": {},
   "outputs": [
    {
     "data": {
      "text/html": [
       "<style  type=\"text/css\" >\n",
       "</style><table id=\"T_dd990_\" style=\"font-size: 12px\"><thead>    <tr>        <th class=\"blank level0\" ></th>        <th class=\"col_heading level0 col0\" >0</th>        <th class=\"col_heading level0 col1\" >1</th>        <th class=\"col_heading level0 col2\" >2</th>    </tr></thead><tbody>\n",
       "                <tr>\n",
       "                        <th id=\"T_dd990_level0_row0\" class=\"row_heading level0 row0\" >0</th>\n",
       "                        <td id=\"T_dd990_row0_col0\" class=\"data row0 col0\" >0.083333</td>\n",
       "                        <td id=\"T_dd990_row0_col1\" class=\"data row0 col1\" >0.041667</td>\n",
       "                        <td id=\"T_dd990_row0_col2\" class=\"data row0 col2\" >0.041667</td>\n",
       "            </tr>\n",
       "            <tr>\n",
       "                        <th id=\"T_dd990_level0_row1\" class=\"row_heading level0 row1\" >1</th>\n",
       "                        <td id=\"T_dd990_row1_col0\" class=\"data row1 col0\" >0.041667</td>\n",
       "                        <td id=\"T_dd990_row1_col1\" class=\"data row1 col1\" >0.083333</td>\n",
       "                        <td id=\"T_dd990_row1_col2\" class=\"data row1 col2\" >0.041667</td>\n",
       "            </tr>\n",
       "            <tr>\n",
       "                        <th id=\"T_dd990_level0_row2\" class=\"row_heading level0 row2\" >2</th>\n",
       "                        <td id=\"T_dd990_row2_col0\" class=\"data row2 col0\" >0.041667</td>\n",
       "                        <td id=\"T_dd990_row2_col1\" class=\"data row2 col1\" >0.041667</td>\n",
       "                        <td id=\"T_dd990_row2_col2\" class=\"data row2 col2\" >0.083333</td>\n",
       "            </tr>\n",
       "    </tbody></table>"
      ],
      "text/plain": [
       "<pandas.io.formats.style.Styler at 0x7fab0b34a1f0>"
      ]
     },
     "execution_count": 30,
     "metadata": {},
     "output_type": "execute_result"
    }
   ],
   "source": [
    "gfu1 = GridFunction(V)\n",
    "gfu2 = GridFunction(V)\n",
    "ortho = []\n",
    "for i in range(0,V.ndof):\n",
    "    gfu1.vec.FV()[:] = 0\n",
    "    gfu1.vec.FV()[i] = 1\n",
    "    oi = []\n",
    "    for j in range(0,V.ndof):\n",
    "        gfu2.vec.FV()[:] = 0\n",
    "        gfu2.vec.FV()[j] = 1\n",
    "        oi.append(Integrate(gfu1*gfu2,mesh))\n",
    "    ortho.append(oi)\n",
    "ortho = DataFrame(ortho)\n",
    "ortho.style.\\\n",
    "    apply(highlight_ortho).\\\n",
    "    set_table_attributes('style=\"font-size: 12px\"')"
   ]
  },
  {
   "cell_type": "markdown",
   "metadata": {},
   "source": [
    "### High Order FEM"
   ]
  },
  {
   "cell_type": "code",
   "execution_count": 8,
   "metadata": {},
   "outputs": [
    {
     "name": "stdout",
     "output_type": "stream",
     "text": [
      "Anzahl Basis Funktionen:  6\n"
     ]
    }
   ],
   "source": [
    "V = H1(mesh,order=2)\n",
    "gfu = GridFunction(V)\n",
    "\n",
    "print('Anzahl Basis Funktionen: ',V.ndof)"
   ]
  },
  {
   "cell_type": "markdown",
   "metadata": {},
   "source": [
    "Hier wird es bezüglich Basisfunktionen schon komplexer. Die ersten drei Basisfunktionen sind die linearen. Danach kommen die drei quadratische Funktionen:"
   ]
  },
  {
   "cell_type": "code",
   "execution_count": 9,
   "metadata": {
    "scrolled": false
   },
   "outputs": [
    {
     "data": {
      "application/vnd.jupyter.widget-view+json": {
       "model_id": "a898c10e6b4247f288584210f3f97364",
       "version_major": 2,
       "version_minor": 0
      },
      "text/plain": [
       "WebGuiWidget(value={'ngsolve_version': '6.2.2104-121-gee6902d12', 'mesh_dim': 2, 'order2d': 2, 'order3d': 2, '…"
      ]
     },
     "metadata": {},
     "output_type": "display_data"
    }
   ],
   "source": [
    "gfu.vec.FV()[:] = 0\n",
    "gfu.vec.FV()[4] = 1\n",
    "s=Draw(gfu,mesh)"
   ]
  },
  {
   "cell_type": "code",
   "execution_count": 10,
   "metadata": {},
   "outputs": [],
   "source": [
    "gfu.vec.FV()[:] = 0\n",
    "gfu.vec.FV()[3] = 1\n",
    "s.Redraw()"
   ]
  },
  {
   "cell_type": "markdown",
   "metadata": {},
   "source": [
    "Gewisse Basisfunktionen sind zueinander orthogonal bezüglich dem Skalarprodukt $(\\nabla u,\\nabla v)$:"
   ]
  },
  {
   "cell_type": "code",
   "execution_count": 16,
   "metadata": {},
   "outputs": [
    {
     "data": {
      "text/html": [
       "<style  type=\"text/css\" >\n",
       "#T_f1a41_row1_col2,#T_f1a41_row1_col3,#T_f1a41_row2_col1,#T_f1a41_row2_col4,#T_f1a41_row3_col1,#T_f1a41_row3_col4,#T_f1a41_row4_col2,#T_f1a41_row4_col3{\n",
       "            background-color:  yellow;\n",
       "        }</style><table id=\"T_f1a41_\" style=\"font-size: 10px\"><thead>    <tr>        <th class=\"blank level0\" ></th>        <th class=\"col_heading level0 col0\" >0</th>        <th class=\"col_heading level0 col1\" >1</th>        <th class=\"col_heading level0 col2\" >2</th>        <th class=\"col_heading level0 col3\" >3</th>        <th class=\"col_heading level0 col4\" >4</th>        <th class=\"col_heading level0 col5\" >5</th>    </tr></thead><tbody>\n",
       "                <tr>\n",
       "                        <th id=\"T_f1a41_level0_row0\" class=\"row_heading level0 row0\" >0</th>\n",
       "                        <td id=\"T_f1a41_row0_col0\" class=\"data row0 col0\" >1.000000</td>\n",
       "                        <td id=\"T_f1a41_row0_col1\" class=\"data row0 col1\" >-0.500000</td>\n",
       "                        <td id=\"T_f1a41_row0_col2\" class=\"data row0 col2\" >-0.500000</td>\n",
       "                        <td id=\"T_f1a41_row0_col3\" class=\"data row0 col3\" >-0.083333</td>\n",
       "                        <td id=\"T_f1a41_row0_col4\" class=\"data row0 col4\" >-0.083333</td>\n",
       "                        <td id=\"T_f1a41_row0_col5\" class=\"data row0 col5\" >0.166667</td>\n",
       "            </tr>\n",
       "            <tr>\n",
       "                        <th id=\"T_f1a41_level0_row1\" class=\"row_heading level0 row1\" >1</th>\n",
       "                        <td id=\"T_f1a41_row1_col0\" class=\"data row1 col0\" >-0.500000</td>\n",
       "                        <td id=\"T_f1a41_row1_col1\" class=\"data row1 col1\" >0.500000</td>\n",
       "                        <td id=\"T_f1a41_row1_col2\" class=\"data row1 col2\" >0.000000</td>\n",
       "                        <td id=\"T_f1a41_row1_col3\" class=\"data row1 col3\" >-0.000000</td>\n",
       "                        <td id=\"T_f1a41_row1_col4\" class=\"data row1 col4\" >0.083333</td>\n",
       "                        <td id=\"T_f1a41_row1_col5\" class=\"data row1 col5\" >-0.083333</td>\n",
       "            </tr>\n",
       "            <tr>\n",
       "                        <th id=\"T_f1a41_level0_row2\" class=\"row_heading level0 row2\" >2</th>\n",
       "                        <td id=\"T_f1a41_row2_col0\" class=\"data row2 col0\" >-0.500000</td>\n",
       "                        <td id=\"T_f1a41_row2_col1\" class=\"data row2 col1\" >0.000000</td>\n",
       "                        <td id=\"T_f1a41_row2_col2\" class=\"data row2 col2\" >0.500000</td>\n",
       "                        <td id=\"T_f1a41_row2_col3\" class=\"data row2 col3\" >0.083333</td>\n",
       "                        <td id=\"T_f1a41_row2_col4\" class=\"data row2 col4\" >0.000000</td>\n",
       "                        <td id=\"T_f1a41_row2_col5\" class=\"data row2 col5\" >-0.083333</td>\n",
       "            </tr>\n",
       "            <tr>\n",
       "                        <th id=\"T_f1a41_level0_row3\" class=\"row_heading level0 row3\" >3</th>\n",
       "                        <td id=\"T_f1a41_row3_col0\" class=\"data row3 col0\" >-0.083333</td>\n",
       "                        <td id=\"T_f1a41_row3_col1\" class=\"data row3 col1\" >-0.000000</td>\n",
       "                        <td id=\"T_f1a41_row3_col2\" class=\"data row3 col2\" >0.083333</td>\n",
       "                        <td id=\"T_f1a41_row3_col3\" class=\"data row3 col3\" >0.041667</td>\n",
       "                        <td id=\"T_f1a41_row3_col4\" class=\"data row3 col4\" >0.000000</td>\n",
       "                        <td id=\"T_f1a41_row3_col5\" class=\"data row3 col5\" >-0.020833</td>\n",
       "            </tr>\n",
       "            <tr>\n",
       "                        <th id=\"T_f1a41_level0_row4\" class=\"row_heading level0 row4\" >4</th>\n",
       "                        <td id=\"T_f1a41_row4_col0\" class=\"data row4 col0\" >-0.083333</td>\n",
       "                        <td id=\"T_f1a41_row4_col1\" class=\"data row4 col1\" >0.083333</td>\n",
       "                        <td id=\"T_f1a41_row4_col2\" class=\"data row4 col2\" >0.000000</td>\n",
       "                        <td id=\"T_f1a41_row4_col3\" class=\"data row4 col3\" >0.000000</td>\n",
       "                        <td id=\"T_f1a41_row4_col4\" class=\"data row4 col4\" >0.041667</td>\n",
       "                        <td id=\"T_f1a41_row4_col5\" class=\"data row4 col5\" >-0.020833</td>\n",
       "            </tr>\n",
       "            <tr>\n",
       "                        <th id=\"T_f1a41_level0_row5\" class=\"row_heading level0 row5\" >5</th>\n",
       "                        <td id=\"T_f1a41_row5_col0\" class=\"data row5 col0\" >0.166667</td>\n",
       "                        <td id=\"T_f1a41_row5_col1\" class=\"data row5 col1\" >-0.083333</td>\n",
       "                        <td id=\"T_f1a41_row5_col2\" class=\"data row5 col2\" >-0.083333</td>\n",
       "                        <td id=\"T_f1a41_row5_col3\" class=\"data row5 col3\" >-0.020833</td>\n",
       "                        <td id=\"T_f1a41_row5_col4\" class=\"data row5 col4\" >-0.020833</td>\n",
       "                        <td id=\"T_f1a41_row5_col5\" class=\"data row5 col5\" >0.041667</td>\n",
       "            </tr>\n",
       "    </tbody></table>"
      ],
      "text/plain": [
       "<pandas.io.formats.style.Styler at 0x7ffb9d0b97c0>"
      ]
     },
     "execution_count": 16,
     "metadata": {},
     "output_type": "execute_result"
    }
   ],
   "source": [
    "gfu1 = GridFunction(V)\n",
    "gfu2 = GridFunction(V)\n",
    "ortho = []\n",
    "for i in range(0,V.ndof):\n",
    "    gfu1.vec.FV()[:] = 0\n",
    "    gfu1.vec.FV()[i] = 1\n",
    "    oi = []\n",
    "    for j in range(0,V.ndof):\n",
    "        gfu2.vec.FV()[:] = 0\n",
    "        gfu2.vec.FV()[j] = 1\n",
    "        oi.append(Integrate(grad(gfu1)*grad(gfu2),mesh))\n",
    "    ortho.append(oi)\n",
    "ortho = DataFrame(ortho)\n",
    "ortho.style.\\\n",
    "    apply(highlight_ortho).\\\n",
    "    set_table_attributes('style=\"font-size: 10px\"')"
   ]
  },
  {
   "cell_type": "markdown",
   "metadata": {},
   "source": [
    "### Konstruktion von Basisfunktionen"
   ]
  },
  {
   "cell_type": "code",
   "execution_count": 19,
   "metadata": {},
   "outputs": [],
   "source": [
    "from sympy import symbols, solve\n",
    "from sympy.abc import x,y"
   ]
  },
  {
   "cell_type": "markdown",
   "metadata": {},
   "source": [
    "Wir berechnen Basisfunktionen mit dem Ansatz der Lagrange Polynome aus dem 1d. Dazu definieren wir ein allgemeines Polynom mit einer bestimmten maximalen Ordnung.\n",
    "\n",
    "$$p(x,y) = \\sum_{i,j}^{i+j\\le n} c_k x^i y^j$$  "
   ]
  },
  {
   "cell_type": "code",
   "execution_count": 20,
   "metadata": {},
   "outputs": [],
   "source": [
    "def p(x,y,c,n):\n",
    "    z = 0\n",
    "    k = 0\n",
    "    for i in range(n+1):\n",
    "        for j in range(n+1):\n",
    "            if i+j<=n:\n",
    "                z += c[k]*x**i*y**j\n",
    "                k += 1\n",
    "    return z"
   ]
  },
  {
   "cell_type": "markdown",
   "metadata": {},
   "source": [
    "Für den Ansatz **erster Ordnung** fordern wir analog zu den Lagrange Polynome im 1d, dass die Basisfunktionen jeweilen an einer Ecke den Funktionswert 1 annehmen und an den andern 0."
   ]
  },
  {
   "cell_type": "code",
   "execution_count": 22,
   "metadata": {},
   "outputs": [],
   "source": [
    "# Koordinaten\n",
    "pi = [[0,0],[0,1],[1,0]]\n",
    "# Funktionswerte an den Koordinaten\n",
    "yi = np.eye(len(pi))\n",
    "# Polynom Koeffizienten\n",
    "c = symbols('c:3')"
   ]
  },
  {
   "cell_type": "markdown",
   "metadata": {},
   "source": [
    "Wir berechnen die zugehörigen Polynom Koeffizienten"
   ]
  },
  {
   "cell_type": "code",
   "execution_count": 23,
   "metadata": {},
   "outputs": [],
   "source": [
    "sol=[solve(np.array([p(*pii,c,1) for pii in pi])-yi[:,i]) for i in range(yi.shape[0])]"
   ]
  },
  {
   "cell_type": "markdown",
   "metadata": {},
   "source": [
    "und erhalten damit einen möglichen Ansatz für eine Basis mit der vorgeschriebenen Ordnung:"
   ]
  },
  {
   "cell_type": "code",
   "execution_count": 25,
   "metadata": {},
   "outputs": [
    {
     "data": {
      "text/latex": [
       "$\\displaystyle - 1.0 x - 1.0 y + 1.0$"
      ],
      "text/plain": [
       "-1.0*x - 1.0*y + 1.0"
      ]
     },
     "metadata": {},
     "output_type": "display_data"
    },
    {
     "data": {
      "text/latex": [
       "$\\displaystyle 1.0 y$"
      ],
      "text/plain": [
       "1.0*y"
      ]
     },
     "metadata": {},
     "output_type": "display_data"
    },
    {
     "data": {
      "text/latex": [
       "$\\displaystyle 1.0 x$"
      ],
      "text/plain": [
       "1.0*x"
      ]
     },
     "metadata": {},
     "output_type": "display_data"
    }
   ],
   "source": [
    "for i in range(yi.shape[0]):\n",
    "    display(p(x,y,[sol[i][ci] for ci in c],1))"
   ]
  },
  {
   "cell_type": "markdown",
   "metadata": {},
   "source": [
    "In dem Fall entspricht der Ansatz auch den in NGSolve implementierten.\n",
    "\n",
    "Analog betrachten wir nun den Ansatz für Polynoe **zweiter Ordnung**. Dazu führen wir zusätzlich Knoten jeweilen in der Mitte jeder Kanten ein. Aus dem Pascalschen Dreieck sehen wir, dass das Polynom für beliebige Ordnung $p$\n",
    "\n",
    "$$\\frac{(p+1)\\,(p+2)}{2}$$\n",
    "\n",
    "Koeffizienten hat. Für die Ordnung $p=2$ erhalten wir 6 Koeffizienten:"
   ]
  },
  {
   "cell_type": "code",
   "execution_count": 28,
   "metadata": {},
   "outputs": [
    {
     "data": {
      "text/plain": [
       "6.0"
      ]
     },
     "execution_count": 28,
     "metadata": {},
     "output_type": "execute_result"
    }
   ],
   "source": [
    "order=2\n",
    "(order+1)*(order+2)/2"
   ]
  },
  {
   "cell_type": "code",
   "execution_count": 30,
   "metadata": {},
   "outputs": [],
   "source": [
    "# Knoten\n",
    "pi = [[0,0],[0,1],[1,0],[0.5,0],[1/2,1/2],[0,.5]]\n",
    "# Funktionswerte\n",
    "yi = np.eye(len(pi))\n",
    "# Koeffizienten\n",
    "c = symbols('c:'+str(int((order+1)*(order+2)/2)))"
   ]
  },
  {
   "cell_type": "markdown",
   "metadata": {},
   "source": [
    "Berechnen wir wiederum die zugehörigen Polynom Koeffizienten, so erhalten wir den folgenden Ansatz:"
   ]
  },
  {
   "cell_type": "code",
   "execution_count": 31,
   "metadata": {},
   "outputs": [
    {
     "data": {
      "text/latex": [
       "$\\displaystyle 2.0 x^{2} + 4.0 x y - 3.0 x + 2.0 y^{2} - 3.0 y + 1.0$"
      ],
      "text/plain": [
       "2.0*x**2 + 4.0*x*y - 3.0*x + 2.0*y**2 - 3.0*y + 1.0"
      ]
     },
     "metadata": {},
     "output_type": "display_data"
    },
    {
     "data": {
      "text/latex": [
       "$\\displaystyle 2.0 y^{2} - 1.0 y$"
      ],
      "text/plain": [
       "2.0*y**2 - 1.0*y"
      ]
     },
     "metadata": {},
     "output_type": "display_data"
    },
    {
     "data": {
      "text/latex": [
       "$\\displaystyle 2.0 x^{2} - 1.0 x$"
      ],
      "text/plain": [
       "2.0*x**2 - 1.0*x"
      ]
     },
     "metadata": {},
     "output_type": "display_data"
    },
    {
     "data": {
      "text/latex": [
       "$\\displaystyle - 4.0 x^{2} - 4.0 x y + 4.0 x$"
      ],
      "text/plain": [
       "-4.0*x**2 - 4.0*x*y + 4.0*x"
      ]
     },
     "metadata": {},
     "output_type": "display_data"
    },
    {
     "data": {
      "text/latex": [
       "$\\displaystyle 4.0 x y$"
      ],
      "text/plain": [
       "4.0*x*y"
      ]
     },
     "metadata": {},
     "output_type": "display_data"
    },
    {
     "data": {
      "text/latex": [
       "$\\displaystyle - 4.0 x y - 4.0 y^{2} + 4.0 y$"
      ],
      "text/plain": [
       "-4.0*x*y - 4.0*y**2 + 4.0*y"
      ]
     },
     "metadata": {},
     "output_type": "display_data"
    }
   ],
   "source": [
    "sol=[solve(np.array([p(*pii,c,2) for pii in pi])-yi[:,i]) for i in range(yi.shape[0])]\n",
    "phis=[p(x,y,[sol[i][ci] for ci in c],2) for i in range(yi.shape[0])]\n",
    "for phii in phis:\n",
    "    display(phii)"
   ]
  },
  {
   "cell_type": "markdown",
   "metadata": {},
   "source": [
    "Wie zu sehen ist, erhalten wir jetzt im Gegensatz zu den in NGSolve implementierten Basisfunktionen sechs Polynome zweiter Ordnung. Es stellt sich natürlich die Frage, ob dieser Ansatz geeignet ist. Per Konstruktion sind die Polynome linearunabhängig. Die in NGSolve gewählten high Order Basisfunktionen führen zu einer exponentiellen Konvergenz Ordnung unter Anwendung von $hp$ finite Elemente Methoden. "
   ]
  },
  {
   "cell_type": "markdown",
   "metadata": {},
   "source": [
    "## Einheitsquadrat"
   ]
  },
  {
   "cell_type": "code",
   "execution_count": 42,
   "metadata": {
    "scrolled": false
   },
   "outputs": [
    {
     "data": {
      "application/vnd.jupyter.widget-view+json": {
       "model_id": "78e89aae9f554ed5b25848c8e8315ef8",
       "version_major": 2,
       "version_minor": 0
      },
      "text/plain": [
       "WebGuiWidget(value={'ngsolve_version': '6.2.2104-121-gee6902d12', 'mesh_dim': 2, 'order2d': 1, 'order3d': 1, '…"
      ]
     },
     "metadata": {},
     "output_type": "display_data"
    }
   ],
   "source": [
    "mesh = Mesh(Quad())\n",
    "Draw(mesh);"
   ]
  },
  {
   "cell_type": "markdown",
   "metadata": {},
   "source": [
    "### Lineare Ordnung"
   ]
  },
  {
   "cell_type": "code",
   "execution_count": 43,
   "metadata": {
    "scrolled": false
   },
   "outputs": [
    {
     "name": "stdout",
     "output_type": "stream",
     "text": [
      "Anzahl Basis Funktionen:  4\n"
     ]
    }
   ],
   "source": [
    "V = H1(mesh,order=1)\n",
    "gfu = GridFunction(V)\n",
    "\n",
    "print('Anzahl Basis Funktionen: ',V.ndof)"
   ]
  },
  {
   "cell_type": "code",
   "execution_count": 44,
   "metadata": {
    "scrolled": false
   },
   "outputs": [
    {
     "data": {
      "application/vnd.jupyter.widget-view+json": {
       "model_id": "51db2cb289784d62a5fa26f861aa27aa",
       "version_major": 2,
       "version_minor": 0
      },
      "text/plain": [
       "WebGuiWidget(value={'ngsolve_version': '6.2.2104-121-gee6902d12', 'mesh_dim': 2, 'order2d': 2, 'order3d': 2, '…"
      ]
     },
     "metadata": {},
     "output_type": "display_data"
    }
   ],
   "source": [
    "gfu.vec.FV()[:] = 0\n",
    "gfu.vec.FV()[0] = 1\n",
    "s2=Draw(gfu,mesh);"
   ]
  },
  {
   "cell_type": "code",
   "execution_count": 46,
   "metadata": {},
   "outputs": [],
   "source": [
    "gfu.vec.FV()[:] = 0\n",
    "gfu.vec.FV()[1] = 1\n",
    "s2.Redraw()"
   ]
  },
  {
   "cell_type": "markdown",
   "metadata": {},
   "source": [
    "### Quadratische Ordnung"
   ]
  },
  {
   "cell_type": "code",
   "execution_count": 47,
   "metadata": {},
   "outputs": [
    {
     "name": "stdout",
     "output_type": "stream",
     "text": [
      "Anzahl Basis Funktionen:  9\n"
     ]
    }
   ],
   "source": [
    "V = H1(mesh,order=2)\n",
    "gfu = GridFunction(V)\n",
    "\n",
    "print('Anzahl Basis Funktionen: ',V.ndof)"
   ]
  },
  {
   "cell_type": "markdown",
   "metadata": {},
   "source": [
    "Hier wird es bezüglich Basisfunktionen schon komplexer. Die ersten drei Basisfunktionen sind die linearen. Danach kommen die drei quadratische Funktionen:"
   ]
  },
  {
   "cell_type": "code",
   "execution_count": 49,
   "metadata": {
    "scrolled": false
   },
   "outputs": [
    {
     "data": {
      "application/vnd.jupyter.widget-view+json": {
       "model_id": "5c060f1cd86e49a9ae01f9b70927647b",
       "version_major": 2,
       "version_minor": 0
      },
      "text/plain": [
       "WebGuiWidget(value={'ngsolve_version': '6.2.2104-121-gee6902d12', 'mesh_dim': 2, 'order2d': 2, 'order3d': 2, '…"
      ]
     },
     "metadata": {},
     "output_type": "display_data"
    }
   ],
   "source": [
    "gfu.vec.FV()[:] = 0\n",
    "gfu.vec.FV()[4] = 1\n",
    "s=Draw(gfu,mesh);"
   ]
  },
  {
   "cell_type": "code",
   "execution_count": 50,
   "metadata": {},
   "outputs": [],
   "source": [
    "gfu.vec.FV()[:] = 0\n",
    "gfu.vec.FV()[8] = 1\n",
    "s.Redraw()"
   ]
  },
  {
   "cell_type": "markdown",
   "metadata": {},
   "source": [
    "Die Basisfunktionen sind orthogonal bezüglich dem Skalarprodukt $(\\nabla u,\\nabla v)$"
   ]
  },
  {
   "cell_type": "code",
   "execution_count": 51,
   "metadata": {},
   "outputs": [],
   "source": [
    "gfu1 = GridFunction(V)\n",
    "gfu2 = GridFunction(V)"
   ]
  },
  {
   "cell_type": "code",
   "execution_count": 53,
   "metadata": {
    "scrolled": false
   },
   "outputs": [
    {
     "data": {
      "text/html": [
       "<style  type=\"text/css\" >\n",
       "#T_2551d_row0_col8,#T_2551d_row1_col8,#T_2551d_row2_col8,#T_2551d_row3_col8,#T_2551d_row4_col5,#T_2551d_row4_col6,#T_2551d_row5_col4,#T_2551d_row5_col7,#T_2551d_row6_col4,#T_2551d_row6_col7,#T_2551d_row7_col5,#T_2551d_row7_col6,#T_2551d_row8_col0,#T_2551d_row8_col1,#T_2551d_row8_col2,#T_2551d_row8_col3{\n",
       "            background-color:  yellow;\n",
       "        }</style><table id=\"T_2551d_\" style=\"font-size: 10px\"><thead>    <tr>        <th class=\"blank level0\" ></th>        <th class=\"col_heading level0 col0\" >0</th>        <th class=\"col_heading level0 col1\" >1</th>        <th class=\"col_heading level0 col2\" >2</th>        <th class=\"col_heading level0 col3\" >3</th>        <th class=\"col_heading level0 col4\" >4</th>        <th class=\"col_heading level0 col5\" >5</th>        <th class=\"col_heading level0 col6\" >6</th>        <th class=\"col_heading level0 col7\" >7</th>        <th class=\"col_heading level0 col8\" >8</th>    </tr></thead><tbody>\n",
       "                <tr>\n",
       "                        <th id=\"T_2551d_level0_row0\" class=\"row_heading level0 row0\" >0</th>\n",
       "                        <td id=\"T_2551d_row0_col0\" class=\"data row0 col0\" >0.666667</td>\n",
       "                        <td id=\"T_2551d_row0_col1\" class=\"data row0 col1\" >-0.166667</td>\n",
       "                        <td id=\"T_2551d_row0_col2\" class=\"data row0 col2\" >-0.333333</td>\n",
       "                        <td id=\"T_2551d_row0_col3\" class=\"data row0 col3\" >-0.166667</td>\n",
       "                        <td id=\"T_2551d_row0_col4\" class=\"data row0 col4\" >-0.041667</td>\n",
       "                        <td id=\"T_2551d_row0_col5\" class=\"data row0 col5\" >-0.041667</td>\n",
       "                        <td id=\"T_2551d_row0_col6\" class=\"data row0 col6\" >0.041667</td>\n",
       "                        <td id=\"T_2551d_row0_col7\" class=\"data row0 col7\" >0.041667</td>\n",
       "                        <td id=\"T_2551d_row0_col8\" class=\"data row0 col8\" >-0.000000</td>\n",
       "            </tr>\n",
       "            <tr>\n",
       "                        <th id=\"T_2551d_level0_row1\" class=\"row_heading level0 row1\" >1</th>\n",
       "                        <td id=\"T_2551d_row1_col0\" class=\"data row1 col0\" >-0.166667</td>\n",
       "                        <td id=\"T_2551d_row1_col1\" class=\"data row1 col1\" >0.666667</td>\n",
       "                        <td id=\"T_2551d_row1_col2\" class=\"data row1 col2\" >-0.166667</td>\n",
       "                        <td id=\"T_2551d_row1_col3\" class=\"data row1 col3\" >-0.333333</td>\n",
       "                        <td id=\"T_2551d_row1_col4\" class=\"data row1 col4\" >-0.041667</td>\n",
       "                        <td id=\"T_2551d_row1_col5\" class=\"data row1 col5\" >0.041667</td>\n",
       "                        <td id=\"T_2551d_row1_col6\" class=\"data row1 col6\" >-0.041667</td>\n",
       "                        <td id=\"T_2551d_row1_col7\" class=\"data row1 col7\" >0.041667</td>\n",
       "                        <td id=\"T_2551d_row1_col8\" class=\"data row1 col8\" >0.000000</td>\n",
       "            </tr>\n",
       "            <tr>\n",
       "                        <th id=\"T_2551d_level0_row2\" class=\"row_heading level0 row2\" >2</th>\n",
       "                        <td id=\"T_2551d_row2_col0\" class=\"data row2 col0\" >-0.333333</td>\n",
       "                        <td id=\"T_2551d_row2_col1\" class=\"data row2 col1\" >-0.166667</td>\n",
       "                        <td id=\"T_2551d_row2_col2\" class=\"data row2 col2\" >0.666667</td>\n",
       "                        <td id=\"T_2551d_row2_col3\" class=\"data row2 col3\" >-0.166667</td>\n",
       "                        <td id=\"T_2551d_row2_col4\" class=\"data row2 col4\" >0.041667</td>\n",
       "                        <td id=\"T_2551d_row2_col5\" class=\"data row2 col5\" >0.041667</td>\n",
       "                        <td id=\"T_2551d_row2_col6\" class=\"data row2 col6\" >-0.041667</td>\n",
       "                        <td id=\"T_2551d_row2_col7\" class=\"data row2 col7\" >-0.041667</td>\n",
       "                        <td id=\"T_2551d_row2_col8\" class=\"data row2 col8\" >0.000000</td>\n",
       "            </tr>\n",
       "            <tr>\n",
       "                        <th id=\"T_2551d_level0_row3\" class=\"row_heading level0 row3\" >3</th>\n",
       "                        <td id=\"T_2551d_row3_col0\" class=\"data row3 col0\" >-0.166667</td>\n",
       "                        <td id=\"T_2551d_row3_col1\" class=\"data row3 col1\" >-0.333333</td>\n",
       "                        <td id=\"T_2551d_row3_col2\" class=\"data row3 col2\" >-0.166667</td>\n",
       "                        <td id=\"T_2551d_row3_col3\" class=\"data row3 col3\" >0.666667</td>\n",
       "                        <td id=\"T_2551d_row3_col4\" class=\"data row3 col4\" >0.041667</td>\n",
       "                        <td id=\"T_2551d_row3_col5\" class=\"data row3 col5\" >-0.041667</td>\n",
       "                        <td id=\"T_2551d_row3_col6\" class=\"data row3 col6\" >0.041667</td>\n",
       "                        <td id=\"T_2551d_row3_col7\" class=\"data row3 col7\" >-0.041667</td>\n",
       "                        <td id=\"T_2551d_row3_col8\" class=\"data row3 col8\" >0.000000</td>\n",
       "            </tr>\n",
       "            <tr>\n",
       "                        <th id=\"T_2551d_level0_row4\" class=\"row_heading level0 row4\" >4</th>\n",
       "                        <td id=\"T_2551d_row4_col0\" class=\"data row4 col0\" >-0.041667</td>\n",
       "                        <td id=\"T_2551d_row4_col1\" class=\"data row4 col1\" >-0.041667</td>\n",
       "                        <td id=\"T_2551d_row4_col2\" class=\"data row4 col2\" >0.041667</td>\n",
       "                        <td id=\"T_2551d_row4_col3\" class=\"data row4 col3\" >0.041667</td>\n",
       "                        <td id=\"T_2551d_row4_col4\" class=\"data row4 col4\" >0.036111</td>\n",
       "                        <td id=\"T_2551d_row4_col5\" class=\"data row4 col5\" >-0.000000</td>\n",
       "                        <td id=\"T_2551d_row4_col6\" class=\"data row4 col6\" >0.000000</td>\n",
       "                        <td id=\"T_2551d_row4_col7\" class=\"data row4 col7\" >0.005556</td>\n",
       "                        <td id=\"T_2551d_row4_col8\" class=\"data row4 col8\" >-0.003472</td>\n",
       "            </tr>\n",
       "            <tr>\n",
       "                        <th id=\"T_2551d_level0_row5\" class=\"row_heading level0 row5\" >5</th>\n",
       "                        <td id=\"T_2551d_row5_col0\" class=\"data row5 col0\" >-0.041667</td>\n",
       "                        <td id=\"T_2551d_row5_col1\" class=\"data row5 col1\" >0.041667</td>\n",
       "                        <td id=\"T_2551d_row5_col2\" class=\"data row5 col2\" >0.041667</td>\n",
       "                        <td id=\"T_2551d_row5_col3\" class=\"data row5 col3\" >-0.041667</td>\n",
       "                        <td id=\"T_2551d_row5_col4\" class=\"data row5 col4\" >-0.000000</td>\n",
       "                        <td id=\"T_2551d_row5_col5\" class=\"data row5 col5\" >0.036111</td>\n",
       "                        <td id=\"T_2551d_row5_col6\" class=\"data row5 col6\" >0.005556</td>\n",
       "                        <td id=\"T_2551d_row5_col7\" class=\"data row5 col7\" >0.000000</td>\n",
       "                        <td id=\"T_2551d_row5_col8\" class=\"data row5 col8\" >-0.003472</td>\n",
       "            </tr>\n",
       "            <tr>\n",
       "                        <th id=\"T_2551d_level0_row6\" class=\"row_heading level0 row6\" >6</th>\n",
       "                        <td id=\"T_2551d_row6_col0\" class=\"data row6 col0\" >0.041667</td>\n",
       "                        <td id=\"T_2551d_row6_col1\" class=\"data row6 col1\" >-0.041667</td>\n",
       "                        <td id=\"T_2551d_row6_col2\" class=\"data row6 col2\" >-0.041667</td>\n",
       "                        <td id=\"T_2551d_row6_col3\" class=\"data row6 col3\" >0.041667</td>\n",
       "                        <td id=\"T_2551d_row6_col4\" class=\"data row6 col4\" >0.000000</td>\n",
       "                        <td id=\"T_2551d_row6_col5\" class=\"data row6 col5\" >0.005556</td>\n",
       "                        <td id=\"T_2551d_row6_col6\" class=\"data row6 col6\" >0.036111</td>\n",
       "                        <td id=\"T_2551d_row6_col7\" class=\"data row6 col7\" >0.000000</td>\n",
       "                        <td id=\"T_2551d_row6_col8\" class=\"data row6 col8\" >-0.003472</td>\n",
       "            </tr>\n",
       "            <tr>\n",
       "                        <th id=\"T_2551d_level0_row7\" class=\"row_heading level0 row7\" >7</th>\n",
       "                        <td id=\"T_2551d_row7_col0\" class=\"data row7 col0\" >0.041667</td>\n",
       "                        <td id=\"T_2551d_row7_col1\" class=\"data row7 col1\" >0.041667</td>\n",
       "                        <td id=\"T_2551d_row7_col2\" class=\"data row7 col2\" >-0.041667</td>\n",
       "                        <td id=\"T_2551d_row7_col3\" class=\"data row7 col3\" >-0.041667</td>\n",
       "                        <td id=\"T_2551d_row7_col4\" class=\"data row7 col4\" >0.005556</td>\n",
       "                        <td id=\"T_2551d_row7_col5\" class=\"data row7 col5\" >0.000000</td>\n",
       "                        <td id=\"T_2551d_row7_col6\" class=\"data row7 col6\" >0.000000</td>\n",
       "                        <td id=\"T_2551d_row7_col7\" class=\"data row7 col7\" >0.036111</td>\n",
       "                        <td id=\"T_2551d_row7_col8\" class=\"data row7 col8\" >-0.003472</td>\n",
       "            </tr>\n",
       "            <tr>\n",
       "                        <th id=\"T_2551d_level0_row8\" class=\"row_heading level0 row8\" >8</th>\n",
       "                        <td id=\"T_2551d_row8_col0\" class=\"data row8 col0\" >-0.000000</td>\n",
       "                        <td id=\"T_2551d_row8_col1\" class=\"data row8 col1\" >0.000000</td>\n",
       "                        <td id=\"T_2551d_row8_col2\" class=\"data row8 col2\" >0.000000</td>\n",
       "                        <td id=\"T_2551d_row8_col3\" class=\"data row8 col3\" >0.000000</td>\n",
       "                        <td id=\"T_2551d_row8_col4\" class=\"data row8 col4\" >-0.003472</td>\n",
       "                        <td id=\"T_2551d_row8_col5\" class=\"data row8 col5\" >-0.003472</td>\n",
       "                        <td id=\"T_2551d_row8_col6\" class=\"data row8 col6\" >-0.003472</td>\n",
       "                        <td id=\"T_2551d_row8_col7\" class=\"data row8 col7\" >-0.003472</td>\n",
       "                        <td id=\"T_2551d_row8_col8\" class=\"data row8 col8\" >0.001389</td>\n",
       "            </tr>\n",
       "    </tbody></table>"
      ],
      "text/plain": [
       "<pandas.io.formats.style.Styler at 0x7ffba7bbbfd0>"
      ]
     },
     "execution_count": 53,
     "metadata": {},
     "output_type": "execute_result"
    }
   ],
   "source": [
    "ortho = []\n",
    "for i in range(0,V.ndof):\n",
    "    gfu1.vec.FV()[:] = 0\n",
    "    gfu1.vec.FV()[i] = 1\n",
    "    oi = []\n",
    "    for j in range(0,V.ndof):\n",
    "        gfu2.vec.FV()[:] = 0\n",
    "        gfu2.vec.FV()[j] = 1\n",
    "\n",
    "        oi.append(Integrate(grad(gfu1)*grad(gfu2),mesh))\n",
    "    ortho.append(oi)\n",
    "ortho = DataFrame(ortho)\n",
    "ortho.style.\\\n",
    "    apply(highlight_ortho).\\\n",
    "    set_table_attributes('style=\"font-size: 10px\"')"
   ]
  }
 ],
 "metadata": {
  "kernelspec": {
   "display_name": "Python 3",
   "language": "python",
   "name": "python3"
  },
  "language_info": {
   "codemirror_mode": {
    "name": "ipython",
    "version": 3
   },
   "file_extension": ".py",
   "mimetype": "text/x-python",
   "name": "python",
   "nbconvert_exporter": "python",
   "pygments_lexer": "ipython3",
   "version": "3.8.1"
  }
 },
 "nbformat": 4,
 "nbformat_minor": 4
}
