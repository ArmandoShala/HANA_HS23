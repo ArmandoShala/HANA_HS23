{
 "cells": [
  {
   "cell_type": "markdown",
   "metadata": {},
   "source": [
    "# Regularität"
   ]
  },
  {
   "cell_type": "code",
   "execution_count": 1,
   "metadata": {},
   "outputs": [],
   "source": [
    "from netgen.geom2d import Rectangle, CSG2d\n",
    "from ngsolve import *\n",
    "from ngsolve.webgui import Draw"
   ]
  },
  {
   "cell_type": "code",
   "execution_count": 2,
   "metadata": {},
   "outputs": [],
   "source": [
    "import numpy as np"
   ]
  },
  {
   "cell_type": "code",
   "execution_count": 3,
   "metadata": {},
   "outputs": [],
   "source": [
    "r1 = Rectangle((-1,-1),(1,1)).BC('bd')\n",
    "r2 = Rectangle((-1.5,-1.5),(0,0)).BC('bd')\n",
    "r3 = r1-r2"
   ]
  },
  {
   "cell_type": "code",
   "execution_count": 4,
   "metadata": {},
   "outputs": [],
   "source": [
    "geo = CSG2d()\n",
    "geo.Add(r3)"
   ]
  },
  {
   "cell_type": "code",
   "execution_count": 21,
   "metadata": {},
   "outputs": [],
   "source": [
    "ngmesh = geo.GenerateMesh(maxh=0.5)\n",
    "mesh = Mesh(ngmesh)"
   ]
  },
  {
   "cell_type": "code",
   "execution_count": 22,
   "metadata": {},
   "outputs": [
    {
     "data": {
      "application/vnd.jupyter.widget-view+json": {
       "model_id": "f74eb6cf359c4aeeb1d4f294a230e2b3",
       "version_major": 2,
       "version_minor": 0
      },
      "text/plain": [
       "WebGuiWidget(value={'ngsolve_version': '6.2.2104-121-gee6902d12', 'mesh_dim': 2, 'order2d': 1, 'order3d': 1, '…"
      ]
     },
     "metadata": {},
     "output_type": "display_data"
    },
    {
     "data": {
      "text/plain": [
       "BaseWebGuiScene"
      ]
     },
     "execution_count": 22,
     "metadata": {},
     "output_type": "execute_result"
    }
   ],
   "source": [
    "Draw(mesh)"
   ]
  },
  {
   "cell_type": "code",
   "execution_count": 23,
   "metadata": {},
   "outputs": [
    {
     "data": {
      "text/plain": [
       "('bd', 'bd', 'bd', 'bd', 'bd', 'bd')"
      ]
     },
     "execution_count": 23,
     "metadata": {},
     "output_type": "execute_result"
    }
   ],
   "source": [
    "mesh.GetBoundaries()"
   ]
  },
  {
   "cell_type": "code",
   "execution_count": 108,
   "metadata": {},
   "outputs": [
    {
     "data": {
      "text/plain": [
       "1361"
      ]
     },
     "execution_count": 108,
     "metadata": {},
     "output_type": "execute_result"
    }
   ],
   "source": [
    "V.ndof"
   ]
  },
  {
   "cell_type": "code",
   "execution_count": 109,
   "metadata": {},
   "outputs": [
    {
     "name": "stdout",
     "output_type": "stream",
     "text": [
      "free dofs =  1361\n"
     ]
    }
   ],
   "source": [
    "V = H1(mesh,order=4,dirichlet='bd')\n",
    "print('free dofs = ', V.ndof)\n",
    "u,v = V.TnT()\n",
    "gfu = GridFunction(V)"
   ]
  },
  {
   "cell_type": "code",
   "execution_count": 110,
   "metadata": {},
   "outputs": [
    {
     "data": {
      "text/plain": [
       "<ngsolve.comp.LinearForm at 0x7f9e16305830>"
      ]
     },
     "execution_count": 110,
     "metadata": {},
     "output_type": "execute_result"
    }
   ],
   "source": [
    "a = BilinearForm(V)\n",
    "a += grad(u)*grad(v)*dx\n",
    "a.Assemble()\n",
    "\n",
    "f = LinearForm(V)\n",
    "f += CoefficientFunction(1)*v*dx\n",
    "f.Assemble()"
   ]
  },
  {
   "cell_type": "code",
   "execution_count": 111,
   "metadata": {},
   "outputs": [],
   "source": [
    "r = sqrt(x**2+y**2)\n",
    "theta = atan2(y,x)\n",
    "ud = r**(2/3)*sin((2*theta+np.pi)/3)"
   ]
  },
  {
   "cell_type": "code",
   "execution_count": 112,
   "metadata": {},
   "outputs": [],
   "source": [
    "gfu.Set(ud,definedon=mesh.Boundaries('bd'))"
   ]
  },
  {
   "cell_type": "code",
   "execution_count": 113,
   "metadata": {},
   "outputs": [],
   "source": [
    "b = f.vec.CreateVector()\n",
    "b.data = f.vec -a.mat*gfu.vec"
   ]
  },
  {
   "cell_type": "code",
   "execution_count": 114,
   "metadata": {},
   "outputs": [],
   "source": [
    "gfu.vec.data += a.mat.Inverse(freedofs=V.FreeDofs())*b"
   ]
  },
  {
   "cell_type": "code",
   "execution_count": 115,
   "metadata": {},
   "outputs": [
    {
     "data": {
      "application/vnd.jupyter.widget-view+json": {
       "model_id": "c38bee2a19244ef6ab3bee0560a0e712",
       "version_major": 2,
       "version_minor": 0
      },
      "text/plain": [
       "WebGuiWidget(value={'ngsolve_version': '6.2.2104-121-gee6902d12', 'mesh_dim': 2, 'order2d': 2, 'order3d': 2, '…"
      ]
     },
     "metadata": {},
     "output_type": "display_data"
    },
    {
     "data": {
      "text/plain": [
       "BaseWebGuiScene"
      ]
     },
     "execution_count": 115,
     "metadata": {},
     "output_type": "execute_result"
    }
   ],
   "source": [
    "Draw(gfu)"
   ]
  },
  {
   "cell_type": "code",
   "execution_count": 116,
   "metadata": {},
   "outputs": [],
   "source": [
    "res = gfu-ud"
   ]
  },
  {
   "cell_type": "code",
   "execution_count": 117,
   "metadata": {},
   "outputs": [
    {
     "data": {
      "application/vnd.jupyter.widget-view+json": {
       "model_id": "77fe651d21c44b30a3d991fec42dadd9",
       "version_major": 2,
       "version_minor": 0
      },
      "text/plain": [
       "WebGuiWidget(value={'ngsolve_version': '6.2.2104-121-gee6902d12', 'mesh_dim': 2, 'order2d': 2, 'order3d': 2, '…"
      ]
     },
     "metadata": {},
     "output_type": "display_data"
    },
    {
     "data": {
      "text/plain": [
       "BaseWebGuiScene"
      ]
     },
     "execution_count": 117,
     "metadata": {},
     "output_type": "execute_result"
    }
   ],
   "source": [
    "Draw(res,mesh,'res')"
   ]
  },
  {
   "cell_type": "code",
   "execution_count": 118,
   "metadata": {},
   "outputs": [],
   "source": [
    "space_flux = HDiv(mesh, order=2)\n",
    "gf_flux = GridFunction(space_flux, \"flux\")\n",
    "\n",
    "flux = grad(gfu)\n",
    "gf_flux.Set(flux)"
   ]
  },
  {
   "cell_type": "code",
   "execution_count": 94,
   "metadata": {},
   "outputs": [
    {
     "data": {
      "application/vnd.jupyter.widget-view+json": {
       "model_id": "e1f90bd6acaf4272a7648cf146662897",
       "version_major": 2,
       "version_minor": 0
      },
      "text/plain": [
       "WebGuiWidget(value={'ngsolve_version': '6.2.2104-121-gee6902d12', 'mesh_dim': 2, 'order2d': 2, 'order3d': 2, '…"
      ]
     },
     "metadata": {},
     "output_type": "display_data"
    },
    {
     "data": {
      "text/plain": [
       "BaseWebGuiScene"
      ]
     },
     "execution_count": 94,
     "metadata": {},
     "output_type": "execute_result"
    }
   ],
   "source": [
    "err = (flux-gf_flux)*(flux-gf_flux)\n",
    "Draw(err, mesh, 'error_representation')"
   ]
  },
  {
   "cell_type": "code",
   "execution_count": 95,
   "metadata": {},
   "outputs": [
    {
     "name": "stdout",
     "output_type": "stream",
     "text": [
      " 9.4778e-06\n",
      " 1.17756e-05\n",
      " 1.42816e-05\n",
      " 4.30034e-06\n",
      " 1.61514e-07\n",
      " 0.000115226\n",
      " 7.86774e-06\n",
      " 1.01349e-07\n",
      " 1.61514e-07\n",
      " 2.59774e-08\n",
      " 1.17756e-05\n",
      " 1.42816e-05\n",
      " 2.59774e-08\n",
      " 9.4778e-06\n",
      " 0.000115226\n",
      " 2.71155e-07\n",
      " 1.01349e-07\n",
      " 0.000619801\n",
      " 4.30034e-06\n",
      " 0.000765462\n",
      " 0.000765462\n",
      " 0.000619801\n",
      " 1.55524e-08\n",
      " 9.44418e-09\n",
      " 4.77892e-07\n",
      " 4.5826e-08\n",
      " 2.70746e-08\n",
      " 5.96086e-09\n",
      " 4.17535e-06\n",
      " 1.09328e-08\n",
      " 4.17535e-06\n",
      " 1.09328e-08\n",
      " 9.44418e-09\n",
      " 1.55524e-08\n",
      " 8.80199e-09\n",
      " 4.671e-09\n",
      " 2.35581e-08\n",
      " 1.3032e-08\n",
      " 2.20394e-07\n",
      " 1.64445e-08\n",
      " 1.06945e-08\n",
      " 2.42478e-09\n",
      " 1.3032e-08\n",
      " 2.35581e-08\n",
      " 4.671e-09\n",
      " 8.80198e-09\n",
      " 3.77905e-06\n",
      " 3.77905e-06\n",
      " 5.96085e-09\n",
      " 2.70746e-08\n",
      " 4.5826e-08\n",
      " 4.77892e-07\n",
      " 2.68737e-06\n",
      " 2.68737e-06\n",
      " 1.00645e-08\n",
      " 3.53452e-09\n",
      " 4.10687e-09\n",
      " 4.04534e-09\n",
      " 4.53352e-09\n",
      " 2.04822e-09\n",
      " 4.04534e-09\n",
      " 4.10687e-09\n",
      " 1.44537e-08\n",
      " 6.90264e-09\n",
      " 3.50488e-09\n",
      " 3.50488e-09\n",
      " 2.04823e-09\n",
      " 4.53352e-09\n",
      " 3.53452e-09\n",
      " 1.00645e-08\n",
      " 4.4575e-07\n",
      " 4.4575e-07\n",
      " 2.71155e-07\n",
      " 6.90265e-09\n",
      " 1.44537e-08\n",
      " 3.79042e-09\n",
      " 3.79042e-09\n",
      " 7.86774e-06\n",
      " 1.61926e-08\n",
      " 1.61926e-08\n",
      " 3.24267e-09\n",
      " 1.74594e-09\n",
      " 9.2568e-09\n",
      " 4.88898e-09\n",
      " 8.85196e-08\n",
      " 6.25848e-09\n",
      " 4.93209e-09\n",
      " 2.40351e-09\n",
      " 4.88898e-09\n",
      " 9.2568e-09\n",
      " 1.74594e-09\n",
      " 3.24267e-09\n",
      " 1.49064e-06\n",
      " 1.49064e-06\n",
      " 2.42478e-09\n",
      " 1.06945e-08\n",
      " 1.64445e-08\n",
      " 2.20394e-07\n",
      " 1.10249e-06\n",
      " 1.10249e-06\n",
      " 1.01381e-08\n",
      " 2.29748e-09\n",
      " 2.69958e-09\n",
      " 1.81979e-09\n",
      " 2.29748e-09\n",
      " 1.01381e-08\n",
      " 1.81979e-09\n",
      " 2.69957e-09\n",
      " 4.73606e-08\n",
      " 4.13646e-08\n",
      " 3.53003e-08\n",
      " 2.26491e-08\n",
      " 4.01647e-06\n",
      " 8.52708e-06\n",
      " 8.52708e-06\n",
      " 4.01647e-06\n",
      " 2.26491e-08\n",
      " 3.53003e-08\n",
      " 4.13646e-08\n",
      " 4.73606e-08\n",
      " 5.66435e-07\n",
      " 5.66435e-07\n",
      " 2.40351e-09\n",
      " 4.93208e-09\n",
      " 6.25848e-09\n",
      " 8.85196e-08\n",
      " 5.8554e-06\n",
      " 5.8554e-06\n",
      " 3.81211e-09\n",
      " 8.81357e-10\n",
      " 1.78836e-09\n",
      " 7.33187e-10\n",
      " 8.81357e-10\n",
      " 3.81211e-09\n",
      " 7.33187e-10\n",
      " 1.78836e-09\n",
      "\n"
     ]
    }
   ],
   "source": [
    "eta2 = Integrate(err, mesh, VOL, element_wise=True)\n",
    "print(eta2)"
   ]
  },
  {
   "cell_type": "code",
   "execution_count": 96,
   "metadata": {},
   "outputs": [
    {
     "name": "stdout",
     "output_type": "stream",
     "text": [
      "maxerr =  0.0007654622249502114\n"
     ]
    }
   ],
   "source": [
    "maxerr = max(eta2)\n",
    "print (\"maxerr = \", maxerr)\n",
    "\n",
    "for el in mesh.Elements():\n",
    "    mesh.SetRefinementFlag(el, eta2[el.nr] > 0.25*maxerr)"
   ]
  },
  {
   "cell_type": "code",
   "execution_count": 97,
   "metadata": {},
   "outputs": [],
   "source": [
    "mesh.Refine()"
   ]
  },
  {
   "cell_type": "code",
   "execution_count": 98,
   "metadata": {},
   "outputs": [
    {
     "data": {
      "application/vnd.jupyter.widget-view+json": {
       "model_id": "2caa0d53f9c54725ace1025a72d77283",
       "version_major": 2,
       "version_minor": 0
      },
      "text/plain": [
       "WebGuiWidget(value={'ngsolve_version': '6.2.2104-121-gee6902d12', 'mesh_dim': 2, 'order2d': 1, 'order3d': 1, '…"
      ]
     },
     "metadata": {},
     "output_type": "display_data"
    },
    {
     "data": {
      "text/plain": [
       "BaseWebGuiScene"
      ]
     },
     "execution_count": 98,
     "metadata": {},
     "output_type": "execute_result"
    }
   ],
   "source": [
    "Draw(mesh)"
   ]
  },
  {
   "cell_type": "code",
   "execution_count": null,
   "metadata": {},
   "outputs": [],
   "source": []
  },
  {
   "cell_type": "code",
   "execution_count": null,
   "metadata": {},
   "outputs": [],
   "source": []
  }
 ],
 "metadata": {
  "kernelspec": {
   "display_name": "Python 3",
   "language": "python",
   "name": "python3"
  },
  "language_info": {
   "codemirror_mode": {
    "name": "ipython",
    "version": 3
   },
   "file_extension": ".py",
   "mimetype": "text/x-python",
   "name": "python",
   "nbconvert_exporter": "python",
   "pygments_lexer": "ipython3",
   "version": "3.8.1"
  }
 },
 "nbformat": 4,
 "nbformat_minor": 4
}
