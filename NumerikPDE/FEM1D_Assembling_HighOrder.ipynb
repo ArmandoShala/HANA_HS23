{
 "cells": [
  {
   "cell_type": "markdown",
   "metadata": {},
   "source": [
    "# FEM Assembling"
   ]
  },
  {
   "cell_type": "markdown",
   "metadata": {},
   "source": [
    "$$-u''(x) = 1$$\n",
    "\n",
    "mit homogenen RW"
   ]
  },
  {
   "cell_type": "code",
   "execution_count": 1,
   "metadata": {},
   "outputs": [],
   "source": [
    "def uanalytic(x):\n",
    "    return -0.5*x*(x-1)"
   ]
  },
  {
   "cell_type": "markdown",
   "metadata": {
    "heading_collapsed": true
   },
   "source": [
    "## 1. Ordnung"
   ]
  },
  {
   "cell_type": "code",
   "execution_count": 2,
   "metadata": {
    "hidden": true
   },
   "outputs": [
    {
     "data": {
      "text/plain": [
       "array([[ 5., -5.,  0.,  0.,  0.,  0.],\n",
       "       [-5., 10., -5.,  0.,  0.,  0.],\n",
       "       [ 0., -5., 10., -5.,  0.,  0.],\n",
       "       [ 0.,  0., -5., 10., -5.,  0.],\n",
       "       [ 0.,  0.,  0., -5., 10., -5.],\n",
       "       [ 0.,  0.,  0.,  0., -5.,  5.]])"
      ]
     },
     "execution_count": 2,
     "metadata": {},
     "output_type": "execute_result"
    }
   ],
   "source": [
    "import numpy as np\n",
    "import matplotlib.pyplot as plt\n",
    "# Elementsteiffigkeitsmatrix\n",
    "order = 1\n",
    "Ae = np.array([[1,-1],[-1,1]])\n",
    "\n",
    "# Zerlegung des Gebiets\n",
    "n=5;a=0;b=1\n",
    "xi = np.linspace(a,b,n+1)\n",
    "h = xi[1:]-xi[:-1]\n",
    "\n",
    "# lokal - global mapping\n",
    "N = n+1\n",
    "T = np.array([[i,i+1] for i in range(N)])\n",
    "\n",
    "# Globale Steiffigkeitsmatrix\n",
    "A = np.zeros((N,N))\n",
    "\n",
    "# Loop über Elemente (Assembling)\n",
    "for i in range(n):\n",
    "    for j in range(order+1):\n",
    "        for k in range(order+1):\n",
    "            A[T[i,j],T[i,k]] += Ae[j,k]/h[i]\n",
    "A"
   ]
  },
  {
   "cell_type": "code",
   "execution_count": 3,
   "metadata": {
    "hidden": true
   },
   "outputs": [
    {
     "data": {
      "text/plain": [
       "array([0.1, 0.2, 0.2, 0.2, 0.2, 0.1])"
      ]
     },
     "execution_count": 3,
     "metadata": {},
     "output_type": "execute_result"
    }
   ],
   "source": [
    "from scipy.integrate import quad\n",
    "# Referenz Elementfunktionen\n",
    "def phi(t,i):\n",
    "    if i == 0:\n",
    "        return 1-t\n",
    "    else:\n",
    "        return t\n",
    "\n",
    "# Rechteseite der DGL\n",
    "def func(x):\n",
    "    return np.ones_like(x)\n",
    "\n",
    "# Koordinaten Transformation\n",
    "def sigma(t,i):\n",
    "    return xi[i]+t*h[i]\n",
    "\n",
    "# Globale Vektor der Linearform\n",
    "f = np.zeros(N)\n",
    "\n",
    "# Loop über Elemente (Assembling)\n",
    "for i in range(n):\n",
    "    # berechne lokaler Vektor\n",
    "    fe = [quad(lambda t: func(sigma(t,i))*phi(t,j), 0,1)[0] for j in range(order+1)]\n",
    "    for j in range(order+1):\n",
    "        f[T[i,j]] += h[i]*fe[j]\n",
    "f"
   ]
  },
  {
   "cell_type": "code",
   "execution_count": 4,
   "metadata": {
    "hidden": true,
    "scrolled": true
   },
   "outputs": [
    {
     "data": {
      "text/plain": [
       "<matplotlib.legend.Legend at 0x7fcded2cee50>"
      ]
     },
     "execution_count": 4,
     "metadata": {},
     "output_type": "execute_result"
    },
    {
     "data": {
      "image/png": "[encoded data removed]",
      "text/plain": [
       "<Figure size 432x144 with 1 Axes>"
      ]
     },
     "metadata": {
      "needs_background": "light"
     },
     "output_type": "display_data"
    }
   ],
   "source": [
    "ui = np.zeros_like(xi)\n",
    "ui[1:-1] = np.linalg.solve(A[1:-1,1:-1],f[1:-1])\n",
    "\n",
    "xp = np.linspace(0,1,400)\n",
    "fig, ax = plt.subplots(figsize=(6, 2))\n",
    "ax.plot(xi,ui,'.-',label='FEM Lösung')\n",
    "ax.plot(xp,uanalytic(xp),label='exakte Lösung')\n",
    "ax.legend()"
   ]
  },
  {
   "cell_type": "markdown",
   "metadata": {
    "heading_collapsed": true
   },
   "source": [
    "## 2. Ordnung Lagrange Basis Funktionen"
   ]
  },
  {
   "cell_type": "code",
   "execution_count": 5,
   "metadata": {
    "hidden": true
   },
   "outputs": [],
   "source": [
    "from sympy.abc import x as symbx\n",
    "from sympy import lambdify"
   ]
  },
  {
   "cell_type": "code",
   "execution_count": 6,
   "metadata": {
    "hidden": true
   },
   "outputs": [],
   "source": [
    "order = 2"
   ]
  },
  {
   "cell_type": "code",
   "execution_count": 7,
   "metadata": {
    "hidden": true
   },
   "outputs": [],
   "source": [
    "def lagrangePoly(x,j,order):\n",
    "    xi = np.linspace(0,1,order+1)\n",
    "    J = np.delete(np.arange(order+1),j)\n",
    "    return np.product([(x-xi[i])/(xi[j]-xi[i]) for i in J],axis=0)"
   ]
  },
  {
   "cell_type": "code",
   "execution_count": 8,
   "metadata": {
    "hidden": true,
    "scrolled": true
   },
   "outputs": [],
   "source": [
    "Ae = np.array([[quad(lambdify(symbx,lagrangePoly(symbx,i,order).diff()*lagrangePoly(symbx,j,order).diff()),0,1)[0]\n",
    "                 for i in range(order+1)] for j in range(order+1)],dtype=np.float)"
   ]
  },
  {
   "cell_type": "code",
   "execution_count": 9,
   "metadata": {
    "hidden": true
   },
   "outputs": [
    {
     "data": {
      "text/plain": [
       "array([[ 2.33333333, -2.66666667,  0.33333333],\n",
       "       [-2.66666667,  5.33333333, -2.66666667],\n",
       "       [ 0.33333333, -2.66666667,  2.33333333]])"
      ]
     },
     "execution_count": 9,
     "metadata": {},
     "output_type": "execute_result"
    }
   ],
   "source": [
    "Ae"
   ]
  },
  {
   "cell_type": "code",
   "execution_count": 10,
   "metadata": {
    "hidden": true
   },
   "outputs": [
    {
     "data": {
      "text/plain": [
       "array([[ 0,  1,  2],\n",
       "       [ 2,  3,  4],\n",
       "       [ 4,  5,  6],\n",
       "       [ 6,  7,  8],\n",
       "       [ 8,  9, 10]])"
      ]
     },
     "execution_count": 10,
     "metadata": {},
     "output_type": "execute_result"
    }
   ],
   "source": [
    "# Zerlegung des Gebiets\n",
    "n=5;a=0;b=1\n",
    "xi = np.linspace(a,b,n+1)\n",
    "h = xi[1:]-xi[:-1]\n",
    "\n",
    "# lokal - global mapping\n",
    "N = n+1\n",
    "T = np.array([[i,i+1,i+2] for i in range(0,2*n,2)])\n",
    "T"
   ]
  },
  {
   "cell_type": "code",
   "execution_count": 11,
   "metadata": {
    "hidden": true
   },
   "outputs": [],
   "source": [
    "# Globale Steiffigkeitsmatrix\n",
    "A = np.zeros((2*n+1,2*n+1))\n",
    "\n",
    "# Loop über Elemente (Assembling)\n",
    "for i in range(n):\n",
    "    for j in range(order+1):\n",
    "        for k in range(order+1):\n",
    "            A[T[i,j],T[i,k]] += Ae[j,k]/h[i]"
   ]
  },
  {
   "cell_type": "code",
   "execution_count": 12,
   "metadata": {
    "hidden": true
   },
   "outputs": [
    {
     "data": {
      "text/plain": [
       "array([0.03333333, 0.13333333, 0.06666667, 0.13333333, 0.06666667,\n",
       "       0.13333333, 0.06666667, 0.13333333, 0.06666667, 0.13333333,\n",
       "       0.03333333])"
      ]
     },
     "execution_count": 12,
     "metadata": {},
     "output_type": "execute_result"
    }
   ],
   "source": [
    "from scipy.integrate import quad\n",
    "\n",
    "# Rechteseite der DGL\n",
    "def func(x):\n",
    "    return np.ones_like(x)\n",
    "\n",
    "# Koordinaten Transformation\n",
    "def sigma(t,i):\n",
    "    return xi[i]+t*h[i]\n",
    "\n",
    "def invsigma(x,i):\n",
    "    return (x-xi[i])/h[i]\n",
    "\n",
    "# Globale Vektor der Linearform\n",
    "f = np.zeros(2*n+1)\n",
    "\n",
    "# Loop über Elemente (Assembling)\n",
    "for i in range(n):\n",
    "    # berechne lokaler Vektor\n",
    "    fe = [quad(lambda t: func(sigma(t,i))*lagrangePoly(t,j,order), 0,1)[0] for j in range(order+1)]\n",
    "    for j in range(order+1):\n",
    "        f[T[i,j]] += h[i]*fe[j]\n",
    "f"
   ]
  },
  {
   "cell_type": "code",
   "execution_count": 13,
   "metadata": {
    "hidden": true
   },
   "outputs": [
    {
     "data": {
      "text/plain": [
       "array([0.   , 0.045, 0.08 , 0.105, 0.12 , 0.125, 0.12 , 0.105, 0.08 ,\n",
       "       0.045, 0.   ])"
      ]
     },
     "execution_count": 13,
     "metadata": {},
     "output_type": "execute_result"
    }
   ],
   "source": [
    "ui = np.zeros(2*n+1)\n",
    "ui[1:-1] = np.linalg.solve(A[1:-1,1:-1],f[1:-1])\n",
    "ui"
   ]
  },
  {
   "cell_type": "code",
   "execution_count": 14,
   "metadata": {
    "hidden": true
   },
   "outputs": [],
   "source": [
    "def visu(x,ui):\n",
    "    res = np.zeros_like(x)\n",
    "    for i in range(n):\n",
    "        if i < n-1:\n",
    "            ind = (xi[i]<=x)*(x<xi[i+1])\n",
    "        else:\n",
    "            ind = (xi[i]<=x)*(x<=xi[i+1])\n",
    "        for j in range(order+1):\n",
    "            res[ind] += ui[T[i,j]]*lagrangePoly(invsigma(x[ind],i),j,order)\n",
    "    return res"
   ]
  },
  {
   "cell_type": "code",
   "execution_count": 15,
   "metadata": {
    "hidden": true
   },
   "outputs": [
    {
     "data": {
      "text/plain": [
       "<matplotlib.legend.Legend at 0x7fcdee92f970>"
      ]
     },
     "execution_count": 15,
     "metadata": {},
     "output_type": "execute_result"
    },
    {
     "data": {
      "image/png": "[encoded data removed]",
      "text/plain": [
       "<Figure size 432x144 with 1 Axes>"
      ]
     },
     "metadata": {
      "needs_background": "light"
     },
     "output_type": "display_data"
    }
   ],
   "source": [
    "xp = np.linspace(0,1,400)\n",
    "fig, ax = plt.subplots(figsize=(6, 2))\n",
    "ax.plot(xp,visu(xp,ui),'-',label='FEM Lösung')\n",
    "ax.plot(xp,uanalytic(xp),'--',label='exakte Lösung')\n",
    "ax.legend()"
   ]
  },
  {
   "cell_type": "code",
   "execution_count": 16,
   "metadata": {
    "hidden": true
   },
   "outputs": [
    {
     "data": {
      "text/plain": [
       "[<matplotlib.lines.Line2D at 0x7fcdee9c5070>]"
      ]
     },
     "execution_count": 16,
     "metadata": {},
     "output_type": "execute_result"
    },
    {
     "data": {
      "image/png": "[encoded data removed]",
      "text/plain": [
       "<Figure size 432x144 with 1 Axes>"
      ]
     },
     "metadata": {
      "needs_background": "light"
     },
     "output_type": "display_data"
    }
   ],
   "source": [
    "xp = np.linspace(0,1,400)\n",
    "fig, ax = plt.subplots(figsize=(6, 2))\n",
    "ax.plot(xp,visu(xp,ui)-uanalytic(xp),'-')"
   ]
  },
  {
   "cell_type": "markdown",
   "metadata": {
    "heading_collapsed": true
   },
   "source": [
    "## 2. Ordnung hierarchische Basis Funktionen"
   ]
  },
  {
   "cell_type": "code",
   "execution_count": 17,
   "metadata": {
    "hidden": true
   },
   "outputs": [],
   "source": [
    "from sympy.abc import x as symbx\n",
    "from sympy import lambdify"
   ]
  },
  {
   "cell_type": "code",
   "execution_count": 18,
   "metadata": {
    "hidden": true
   },
   "outputs": [],
   "source": [
    "order = 2"
   ]
  },
  {
   "cell_type": "code",
   "execution_count": 19,
   "metadata": {
    "hidden": true
   },
   "outputs": [],
   "source": [
    "def lagrangePoly(x,j,order):\n",
    "    xi = np.linspace(0,1,order+1)\n",
    "    J = np.delete(np.arange(order+1),j)\n",
    "    return np.product([(x-xi[i])/(xi[j]-xi[i]) for i in J],axis=0)"
   ]
  },
  {
   "cell_type": "code",
   "execution_count": 20,
   "metadata": {
    "hidden": true
   },
   "outputs": [],
   "source": [
    "def myshape2(x,j):\n",
    "    if j == 0:\n",
    "        return 1-x\n",
    "    elif j == 1:\n",
    "        return x\n",
    "    else: \n",
    "        return x*(1-x)\n"
   ]
  },
  {
   "cell_type": "code",
   "execution_count": 21,
   "metadata": {
    "hidden": true,
    "scrolled": true
   },
   "outputs": [],
   "source": [
    "Ae = np.array([[quad(lambdify(symbx,myshape2(symbx,i).diff()*myshape2(symbx,j).diff()),0,1)[0]\n",
    "                 for i in range(order+1)] for j in range(order+1)],dtype=np.float)"
   ]
  },
  {
   "cell_type": "code",
   "execution_count": 22,
   "metadata": {
    "hidden": true
   },
   "outputs": [
    {
     "data": {
      "text/plain": [
       "array([[ 1.    , -1.    ,  0.    ],\n",
       "       [-1.    ,  1.    , -0.    ],\n",
       "       [ 0.    , -0.    ,  0.3333]])"
      ]
     },
     "execution_count": 22,
     "metadata": {},
     "output_type": "execute_result"
    }
   ],
   "source": [
    "np.round(Ae,4)"
   ]
  },
  {
   "cell_type": "code",
   "execution_count": 23,
   "metadata": {
    "hidden": true
   },
   "outputs": [
    {
     "data": {
      "text/plain": [
       "array([[ 0,  2,  1],\n",
       "       [ 2,  4,  3],\n",
       "       [ 4,  6,  5],\n",
       "       [ 6,  8,  7],\n",
       "       [ 8, 10,  9]])"
      ]
     },
     "execution_count": 23,
     "metadata": {},
     "output_type": "execute_result"
    }
   ],
   "source": [
    "# Zerlegung des Gebiets\n",
    "n=5;a=0;b=1\n",
    "xi = np.linspace(a,b,n+1)\n",
    "h = xi[1:]-xi[:-1]\n",
    "\n",
    "# lokal - global mapping\n",
    "N = n+1\n",
    "T = np.array([[i,i+2,i+1] for i in range(0,2*n,2)])\n",
    "T"
   ]
  },
  {
   "cell_type": "code",
   "execution_count": 24,
   "metadata": {
    "hidden": true
   },
   "outputs": [],
   "source": [
    "# Globale Steiffigkeitsmatrix\n",
    "A = np.zeros((2*n+1,2*n+1))\n",
    "\n",
    "# Loop über Elemente (Assembling)\n",
    "for i in range(n):\n",
    "    for j in range(order+1):\n",
    "        for k in range(order+1):\n",
    "            A[T[i,j],T[i,k]] += Ae[j,k]/h[i]"
   ]
  },
  {
   "cell_type": "code",
   "execution_count": 25,
   "metadata": {
    "hidden": true
   },
   "outputs": [
    {
     "data": {
      "text/plain": [
       "array([0.1       , 0.03333333, 0.2       , 0.03333333, 0.2       ,\n",
       "       0.03333333, 0.2       , 0.03333333, 0.2       , 0.03333333,\n",
       "       0.1       ])"
      ]
     },
     "execution_count": 25,
     "metadata": {},
     "output_type": "execute_result"
    }
   ],
   "source": [
    "from scipy.integrate import quad\n",
    "\n",
    "# Rechteseite der DGL\n",
    "def func(x):\n",
    "    return np.ones_like(x)\n",
    "\n",
    "# Koordinaten Transformation\n",
    "def sigma(t,i):\n",
    "    return xi[i]+t*h[i]\n",
    "\n",
    "def invsigma(x,i):\n",
    "    return (x-xi[i])/h[i]\n",
    "\n",
    "# Globale Vektor der Linearform\n",
    "f = np.zeros(2*n+1)\n",
    "\n",
    "# Loop über Elemente (Assembling)\n",
    "for i in range(n):\n",
    "    # berechne lokaler Vektor\n",
    "    fe = [quad(lambda t: func(sigma(t,i))*myshape2(t,j), 0,1)[0] for j in range(order+1)]\n",
    "    for j in range(order+1):\n",
    "        f[T[i,j]] += h[i]*fe[j]\n",
    "f"
   ]
  },
  {
   "cell_type": "code",
   "execution_count": 26,
   "metadata": {
    "hidden": true
   },
   "outputs": [
    {
     "data": {
      "text/plain": [
       "array([0.  , 0.02, 0.08, 0.02, 0.12, 0.02, 0.12, 0.02, 0.08, 0.02, 0.  ])"
      ]
     },
     "execution_count": 26,
     "metadata": {},
     "output_type": "execute_result"
    }
   ],
   "source": [
    "ui = np.zeros(2*n+1)\n",
    "ui[1:-1] = np.linalg.solve(A[1:-1,1:-1],f[1:-1])\n",
    "ui"
   ]
  },
  {
   "cell_type": "code",
   "execution_count": 27,
   "metadata": {
    "hidden": true
   },
   "outputs": [],
   "source": [
    "def visu(x,ui):\n",
    "    res = np.zeros_like(x)\n",
    "    for i in range(n):\n",
    "        if i < n-1:\n",
    "            ind = (xi[i]<=x)*(x<xi[i+1])\n",
    "        else:\n",
    "            ind = (xi[i]<=x)*(x<=xi[i+1])\n",
    "        for j in range(order+1):\n",
    "            res[ind] += ui[T[i,j]]*myshape2(invsigma(x[ind],i),j)\n",
    "    return res"
   ]
  },
  {
   "cell_type": "code",
   "execution_count": 28,
   "metadata": {
    "hidden": true
   },
   "outputs": [
    {
     "data": {
      "text/plain": [
       "<matplotlib.legend.Legend at 0x7fcdee9e6490>"
      ]
     },
     "execution_count": 28,
     "metadata": {},
     "output_type": "execute_result"
    },
    {
     "data": {
      "image/png": "[encoded data removed]",
      "text/plain": [
       "<Figure size 432x144 with 1 Axes>"
      ]
     },
     "metadata": {
      "needs_background": "light"
     },
     "output_type": "display_data"
    }
   ],
   "source": [
    "xp = np.linspace(0,1,400)\n",
    "fig, ax = plt.subplots(figsize=(6, 2))\n",
    "ax.plot(xp,visu(xp,ui),'-',label='FEM Lösung')\n",
    "ax.plot(xp,uanalytic(xp),'--',label='exakte Lösung')\n",
    "ax.legend()"
   ]
  },
  {
   "cell_type": "code",
   "execution_count": 29,
   "metadata": {
    "hidden": true
   },
   "outputs": [
    {
     "data": {
      "text/plain": [
       "[<matplotlib.lines.Line2D at 0x7fcdeead0370>]"
      ]
     },
     "execution_count": 29,
     "metadata": {},
     "output_type": "execute_result"
    },
    {
     "data": {
      "image/png": "[encoded data removed]",
      "text/plain": [
       "<Figure size 432x144 with 1 Axes>"
      ]
     },
     "metadata": {
      "needs_background": "light"
     },
     "output_type": "display_data"
    }
   ],
   "source": [
    "xp = np.linspace(0,1,400)\n",
    "fig, ax = plt.subplots(figsize=(6, 2))\n",
    "ax.plot(xp,visu(xp,ui)-uanalytic(xp),'-')"
   ]
  },
  {
   "cell_type": "code",
   "execution_count": null,
   "metadata": {
    "hidden": true
   },
   "outputs": [],
   "source": []
  }
 ],
 "metadata": {
  "kernelspec": {
   "display_name": "Python 3",
   "language": "python",
   "name": "python3"
  },
  "language_info": {
   "codemirror_mode": {
    "name": "ipython",
    "version": 3
   },
   "file_extension": ".py",
   "mimetype": "text/x-python",
   "name": "python",
   "nbconvert_exporter": "python",
   "pygments_lexer": "ipython3",
   "version": "3.8.1"
  }
 },
 "nbformat": 4,
 "nbformat_minor": 4
}
