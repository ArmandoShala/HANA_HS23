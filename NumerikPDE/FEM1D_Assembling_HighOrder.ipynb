{
 "cells": [
  {
   "cell_type": "markdown",
   "metadata": {},
   "source": [
    "# 1d - Beispiel zum Assembling"
   ]
  },
  {
   "cell_type": "markdown",
   "metadata": {},
   "source": [
    "Wir betrachten das Assembling für den eindimensionalen Fall anhand des Randwertproblems\n",
    "\n",
    "$$\\begin{split}-u''(x) & = 1\\quad \\text{für}\\ x\\in (0,1)\\\\\n",
    "u(0) = u(1) & = 0.\\end{split}$$\n",
    "\n",
    "Die analytische Lösung kann einfach durch zweimaliges Integrieren berechnet werden."
   ]
  },
  {
   "cell_type": "code",
   "execution_count": 1,
   "metadata": {},
   "outputs": [],
   "source": [
    "def uanalytic(x):\n",
    "    return -0.5*x*(x-1)"
   ]
  },
  {
   "cell_type": "markdown",
   "metadata": {},
   "source": [
    "Die zu betrachtende schwache Gleichung ist gegeben durch\n",
    "\n",
    "$$\\int_0^1u'(x) v'(x)\\, dx = \\int_0^1 1 v(x)\\,dx \\quad \\text{für alle}\\ v\\in V_h\\subset H_0^1(0,1).$$"
   ]
  },
  {
   "cell_type": "markdown",
   "metadata": {},
   "source": [
    "## 1. Ordnung"
   ]
  },
  {
   "cell_type": "markdown",
   "metadata": {},
   "source": [
    "Da die Bilinearform \n",
    "\n",
    "Im Fall von finiten Elemente erster Ordnung folgt für die Diskretisierung der Bilinearform\n",
    "\n",
    "$$\\begin{split} A: V_h \\times V_h & \\to \\mathbb{R}\\\\\n",
    "(u,v) & \\mapsto A(u,v) := \\int_0^1u'(x) v'(x)\\, dx\\end{split}$$"
   ]
  },
  {
   "cell_type": "code",
   "execution_count": 2,
   "metadata": {
    "scrolled": true
   },
   "outputs": [
    {
     "data": {
      "text/plain": [
       "array([[ 5., -5.,  0.,  0.,  0.,  0.],\n",
       "       [-5., 10., -5.,  0.,  0.,  0.],\n",
       "       [ 0., -5., 10., -5.,  0.,  0.],\n",
       "       [ 0.,  0., -5., 10., -5.,  0.],\n",
       "       [ 0.,  0.,  0., -5., 10., -5.],\n",
       "       [ 0.,  0.,  0.,  0., -5.,  5.]])"
      ]
     },
     "execution_count": 2,
     "metadata": {},
     "output_type": "execute_result"
    }
   ],
   "source": [
    "import numpy as np\n",
    "import matplotlib.pyplot as plt\n",
    "# Elementsteiffigkeitsmatrix\n",
    "order = 1\n",
    "Ae = np.array([[1,-1],[-1,1]])\n",
    "\n",
    "# Zerlegung des Gebiets\n",
    "n=5;a=0;b=1\n",
    "xi = np.linspace(a,b,n+1)\n",
    "h = xi[1:]-xi[:-1]\n",
    "\n",
    "# lokal - global mapping\n",
    "N = n+1\n",
    "T = np.array([[i,i+1] for i in range(N)])\n",
    "\n",
    "# Globale Steiffigkeitsmatrix\n",
    "A = np.zeros((N,N))\n",
    "\n",
    "# Loop über Elemente (Assembling)\n",
    "for i in range(n):\n",
    "    # Compute Ae falls der Integrand ortsabhängig ist.\n",
    "    for j in range(order+1):\n",
    "        for k in range(order+1):\n",
    "            A[T[i,j],T[i,k]] += Ae[j,k]/h[i]\n",
    "A"
   ]
  },
  {
   "cell_type": "code",
   "execution_count": 3,
   "metadata": {},
   "outputs": [
    {
     "data": {
      "image/png": "[encoded data removed]",
      "text/plain": [
       "<Figure size 432x288 with 1 Axes>"
      ]
     },
     "metadata": {
      "needs_background": "light"
     },
     "output_type": "display_data"
    }
   ],
   "source": [
    "plt.spy(A,markersize=7,)\n",
    "plt.grid()\n",
    "plt.show()"
   ]
  },
  {
   "cell_type": "markdown",
   "metadata": {},
   "source": [
    "Im allgemeinen Fall, dass die Bilinearform einen ortsabhängigen Koeffizienten hat\n",
    "\n",
    "$$A(u,v) = \\int_0^1a(x)\\, u'(x) v'(x)\\, dx,$$\n",
    "\n",
    "muss in jedem Element die Elementmatrix integriert werden. Am Beispiel der Linearform\n",
    "\n",
    "$$\\begin{split} f: V_h & \\to \\mathbb{R}\\\\\n",
    "v & \\mapsto f(v) := \\int_0^1 1 v(x)\\, dx\\end{split}$$\n",
    "\n",
    "sei das Vorgehen illustriert."
   ]
  },
  {
   "cell_type": "code",
   "execution_count": 4,
   "metadata": {},
   "outputs": [
    {
     "data": {
      "text/plain": [
       "array([0.1, 0.2, 0.2, 0.2, 0.2, 0.1])"
      ]
     },
     "execution_count": 4,
     "metadata": {},
     "output_type": "execute_result"
    }
   ],
   "source": [
    "from scipy.integrate import quad\n",
    "# Referenz Elementfunktionen\n",
    "def phi(t,i):\n",
    "    if i == 0:\n",
    "        return 1-t\n",
    "    else:\n",
    "        return t\n",
    "\n",
    "# Rechteseite der DGL\n",
    "def func(x):\n",
    "    return np.ones_like(x)\n",
    "\n",
    "# Koordinaten Transformation\n",
    "def sigma(t,i):\n",
    "    return xi[i]+t*h[i]\n",
    "\n",
    "# Globale Vektor der Linearform\n",
    "f = np.zeros(N)\n",
    "\n",
    "# Loop über Elemente (Assembling)\n",
    "for i in range(n):\n",
    "    # berechne lokaler Elementvektor\n",
    "    fe = [quad(lambda t: func(sigma(t,i))*phi(t,j), 0,1)[0] for j in range(order+1)]\n",
    "    for j in range(order+1):\n",
    "        f[T[i,j]] += h[i]*fe[j]\n",
    "f"
   ]
  },
  {
   "cell_type": "code",
   "execution_count": 5,
   "metadata": {
    "scrolled": true
   },
   "outputs": [
    {
     "data": {
      "text/plain": [
       "<matplotlib.legend.Legend at 0x7fae4255f5b0>"
      ]
     },
     "execution_count": 5,
     "metadata": {},
     "output_type": "execute_result"
    },
    {
     "data": {
      "image/png": "[encoded data removed]",
      "text/plain": [
       "<Figure size 432x144 with 1 Axes>"
      ]
     },
     "metadata": {
      "needs_background": "light"
     },
     "output_type": "display_data"
    }
   ],
   "source": [
    "ui = np.zeros_like(xi)\n",
    "ui[1:-1] = np.linalg.solve(A[1:-1,1:-1],f[1:-1])\n",
    "\n",
    "xp = np.linspace(0,1,400)\n",
    "fig, ax = plt.subplots(figsize=(6, 2))\n",
    "ax.plot(xi,ui,'.-',label='FEM Lösung')\n",
    "ax.plot(xp,uanalytic(xp),label='exakte Lösung')\n",
    "ax.legend()\n",
    "plt.show()"
   ]
  },
  {
   "cell_type": "markdown",
   "metadata": {},
   "source": [
    "## 2. Ordnung Lagrange Basis Funktionen"
   ]
  },
  {
   "cell_type": "code",
   "execution_count": 6,
   "metadata": {},
   "outputs": [],
   "source": [
    "from sympy.abc import x as symbx\n",
    "from sympy import lambdify"
   ]
  },
  {
   "cell_type": "markdown",
   "metadata": {},
   "source": [
    "Betrachten wir das Vorgehen unter Verwendung von Lagrange Polynome zweiter Ordnung als Basisfunktionen."
   ]
  },
  {
   "cell_type": "code",
   "execution_count": 7,
   "metadata": {},
   "outputs": [],
   "source": [
    "order = 2"
   ]
  },
  {
   "cell_type": "markdown",
   "metadata": {},
   "source": [
    "$$L(x) = \\prod_{\\overset{k=0}{k\\not= j}}^m \\frac{x-x_k}{x_j-x_k}$$\n",
    "\n"
   ]
  },
  {
   "cell_type": "code",
   "execution_count": 8,
   "metadata": {},
   "outputs": [],
   "source": [
    "def lagrangePoly(x,j,order):\n",
    "    xi = np.linspace(0,1,order+1)\n",
    "    J = np.delete(np.arange(order+1),j)\n",
    "    return np.product([(x-xi[i])/(xi[j]-xi[i]) for i in J],axis=0)"
   ]
  },
  {
   "cell_type": "markdown",
   "metadata": {},
   "source": [
    "Für die Beispielgleichung können wir die Elementmatrix wiederum vorab berechnen:"
   ]
  },
  {
   "cell_type": "code",
   "execution_count": 9,
   "metadata": {
    "scrolled": true
   },
   "outputs": [
    {
     "data": {
      "text/plain": [
       "array([[ 2.33333333, -2.66666667,  0.33333333],\n",
       "       [-2.66666667,  5.33333333, -2.66666667],\n",
       "       [ 0.33333333, -2.66666667,  2.33333333]])"
      ]
     },
     "execution_count": 9,
     "metadata": {},
     "output_type": "execute_result"
    }
   ],
   "source": [
    "Ae = np.array([[quad(lambdify(symbx,lagrangePoly(symbx,i,order).diff()*lagrangePoly(symbx,j,order).diff()),0,1)[0]\n",
    "                 for i in range(order+1)] for j in range(order+1)],dtype=np.float)\n",
    "Ae"
   ]
  },
  {
   "cell_type": "markdown",
   "metadata": {},
   "source": [
    "Die Zerlegung des Gebiets ist gegeben durch"
   ]
  },
  {
   "cell_type": "code",
   "execution_count": 10,
   "metadata": {},
   "outputs": [
    {
     "data": {
      "text/plain": [
       "array([[ 0,  1,  2],\n",
       "       [ 2,  3,  4],\n",
       "       [ 4,  5,  6],\n",
       "       [ 6,  7,  8],\n",
       "       [ 8,  9, 10]])"
      ]
     },
     "execution_count": 10,
     "metadata": {},
     "output_type": "execute_result"
    }
   ],
   "source": [
    "# Zerlegung des Gebiets\n",
    "n=5;a=0;b=1\n",
    "xi = np.linspace(a,b,n+1)\n",
    "h = xi[1:]-xi[:-1]\n",
    "\n",
    "# lokal - global mapping\n",
    "N = n+1\n",
    "T = np.array([[i,i+1,i+2] for i in range(0,2*n,2)])\n",
    "T"
   ]
  },
  {
   "cell_type": "code",
   "execution_count": 11,
   "metadata": {
    "scrolled": false
   },
   "outputs": [
    {
     "data": {
      "image/png": "[encoded data removed]",
      "text/plain": [
       "<Figure size 432x288 with 1 Axes>"
      ]
     },
     "metadata": {
      "needs_background": "light"
     },
     "output_type": "display_data"
    }
   ],
   "source": [
    "col = ['tab:blue','tab:orange','tab:green','tab:red','tab:purple']\n",
    "for k in range(n):\n",
    "    plt.plot(xi[k]+ h[k]*xp, lagrangePoly(xp, 0, 2),'-',c=col[k%5]) # lokale Basisfunktion 0 an globalen Kooridnaten\n",
    "    plt.plot(xi[k]+ h[k]*xp, lagrangePoly(xp, 1, 2),'--',c=col[k%5])# lokale Basisfunktion 1\n",
    "    plt.plot(xi[k]+ h[k]*xp, lagrangePoly(xp, 2, 2),'-.',c=col[k%5])# lokale Basisfunktion 2\n",
    "plt.plot(xi,np.zeros_like(xi),'*')\n",
    "plt.xlabel('$x_{global}$')\n",
    "plt.grid()\n",
    "plt.show()"
   ]
  },
  {
   "cell_type": "code",
   "execution_count": 12,
   "metadata": {},
   "outputs": [],
   "source": [
    "# Globale Steiffigkeitsmatrix\n",
    "A = np.zeros((2*n+1,2*n+1))\n",
    "\n",
    "# Loop über Elemente (Assembling)\n",
    "for i in range(n):\n",
    "    for j in range(order+1):\n",
    "        for k in range(order+1):\n",
    "            A[T[i,j],T[i,k]] += Ae[j,k]/h[i]"
   ]
  },
  {
   "cell_type": "markdown",
   "metadata": {},
   "source": [
    "Matrix mit allen Freiheitsgrade:"
   ]
  },
  {
   "cell_type": "code",
   "execution_count": 13,
   "metadata": {
    "scrolled": true
   },
   "outputs": [
    {
     "data": {
      "image/png": "[encoded data removed]",
      "text/plain": [
       "<Figure size 432x288 with 1 Axes>"
      ]
     },
     "metadata": {
      "needs_background": "light"
     },
     "output_type": "display_data"
    }
   ],
   "source": [
    "plt.spy(A,markersize=7,)\n",
    "plt.grid()\n",
    "plt.show()"
   ]
  },
  {
   "cell_type": "markdown",
   "metadata": {},
   "source": [
    "Matrix mit den freien Freiheitsgrade:"
   ]
  },
  {
   "cell_type": "code",
   "execution_count": 14,
   "metadata": {},
   "outputs": [
    {
     "data": {
      "image/png": "[encoded data removed]",
      "text/plain": [
       "<Figure size 432x288 with 1 Axes>"
      ]
     },
     "metadata": {
      "needs_background": "light"
     },
     "output_type": "display_data"
    }
   ],
   "source": [
    "plt.spy(A[1:-1,1:-1],markersize=7,)\n",
    "plt.grid()\n",
    "plt.show()"
   ]
  },
  {
   "cell_type": "markdown",
   "metadata": {},
   "source": [
    "Für die Linearform folgt analog:"
   ]
  },
  {
   "cell_type": "code",
   "execution_count": 15,
   "metadata": {},
   "outputs": [
    {
     "data": {
      "text/plain": [
       "array([0.03333333, 0.13333333, 0.06666667, 0.13333333, 0.06666667,\n",
       "       0.13333333, 0.06666667, 0.13333333, 0.06666667, 0.13333333,\n",
       "       0.03333333])"
      ]
     },
     "execution_count": 15,
     "metadata": {},
     "output_type": "execute_result"
    }
   ],
   "source": [
    "from scipy.integrate import quad\n",
    "\n",
    "# Rechteseite der DGL\n",
    "def func(x):\n",
    "    return np.ones_like(x)\n",
    "\n",
    "# Koordinaten Transformation\n",
    "def sigma(t,i):\n",
    "    return xi[i]+t*h[i]\n",
    "\n",
    "def invsigma(x,i):\n",
    "    return (x-xi[i])/h[i]\n",
    "\n",
    "# Globale Vektor der Linearform\n",
    "f = np.zeros(2*n+1)\n",
    "\n",
    "# Loop über Elemente (Assembling)\n",
    "for i in range(n):\n",
    "    # berechne lokaler Vektor\n",
    "    fe = [quad(lambda t: func(sigma(t,i))*lagrangePoly(t,j,order), 0,1)[0] for j in range(order+1)]\n",
    "    for j in range(order+1):\n",
    "        f[T[i,j]] += h[i]*fe[j]\n",
    "f"
   ]
  },
  {
   "cell_type": "markdown",
   "metadata": {},
   "source": [
    "und damit die Lösung"
   ]
  },
  {
   "cell_type": "code",
   "execution_count": 16,
   "metadata": {},
   "outputs": [
    {
     "data": {
      "text/plain": [
       "array([0.   , 0.045, 0.08 , 0.105, 0.12 , 0.125, 0.12 , 0.105, 0.08 ,\n",
       "       0.045, 0.   ])"
      ]
     },
     "execution_count": 16,
     "metadata": {},
     "output_type": "execute_result"
    }
   ],
   "source": [
    "ui = np.zeros(2*n+1)\n",
    "ui[1:-1] = np.linalg.solve(A[1:-1,1:-1],f[1:-1])\n",
    "ui"
   ]
  },
  {
   "cell_type": "markdown",
   "metadata": {},
   "source": [
    "Um die Lösung präzise darstellen zu können, muss die Visualisierung angepasst werden. Wir benutzen nicht mehr die stückweise lineare Interpolation der `plt.plot` Funktion. Die Lösung ist gegeben als Linearkombination der **globalen** Basisfunktionen. Diese können wir mit Hilfe der drei **lokalen** Basisfunktionen darstellen:"
   ]
  },
  {
   "cell_type": "code",
   "execution_count": 17,
   "metadata": {},
   "outputs": [],
   "source": [
    "def visu(x,ui):\n",
    "    res = np.zeros_like(x)\n",
    "    for i in range(n):\n",
    "        if i < n-1:\n",
    "            ind = (xi[i]<=x)*(x<xi[i+1])\n",
    "        else:\n",
    "            ind = (xi[i]<=x)*(x<=xi[i+1])\n",
    "        for j in range(order+1):\n",
    "            res[ind] += ui[T[i,j]]*lagrangePoly(invsigma(x[ind],i),j,order)\n",
    "    return res"
   ]
  },
  {
   "cell_type": "code",
   "execution_count": 18,
   "metadata": {},
   "outputs": [
    {
     "data": {
      "text/plain": [
       "<matplotlib.legend.Legend at 0x7fae41f19250>"
      ]
     },
     "execution_count": 18,
     "metadata": {},
     "output_type": "execute_result"
    },
    {
     "data": {
      "image/png": "[encoded data removed]",
      "text/plain": [
       "<Figure size 432x144 with 1 Axes>"
      ]
     },
     "metadata": {
      "needs_background": "light"
     },
     "output_type": "display_data"
    }
   ],
   "source": [
    "xp = np.linspace(0,1,400)\n",
    "fig, ax = plt.subplots(figsize=(6, 2))\n",
    "ax.plot(xp,visu(xp,ui),'-',label='FEM Lösung')\n",
    "ax.plot(xp,uanalytic(xp),'--',label='exakte Lösung')\n",
    "ax.legend()\n",
    "plt.show()"
   ]
  },
  {
   "cell_type": "code",
   "execution_count": 19,
   "metadata": {},
   "outputs": [
    {
     "data": {
      "text/plain": [
       "[<matplotlib.lines.Line2D at 0x7fae43df6c40>]"
      ]
     },
     "execution_count": 19,
     "metadata": {},
     "output_type": "execute_result"
    },
    {
     "data": {
      "image/png": "[encoded data removed]",
      "text/plain": [
       "<Figure size 432x144 with 1 Axes>"
      ]
     },
     "metadata": {
      "needs_background": "light"
     },
     "output_type": "display_data"
    }
   ],
   "source": [
    "xp = np.linspace(0,1,400)\n",
    "fig, ax = plt.subplots(figsize=(6, 2))\n",
    "ax.plot(xp,visu(xp,ui)-uanalytic(xp),'-')\n",
    "plt.show()"
   ]
  },
  {
   "cell_type": "markdown",
   "metadata": {},
   "source": [
    "Die analytische Lösung ist ein quadratisches Polynom, weshalb die numerische Lösung auch exakt ist."
   ]
  },
  {
   "cell_type": "markdown",
   "metadata": {},
   "source": [
    "## 2. Ordnung hierarchische Basis Funktionen"
   ]
  },
  {
   "cell_type": "markdown",
   "metadata": {},
   "source": [
    "Anstelle von drei Lagrange Polyome können wir auch den Ansatz, wie in `ngsolve` verwendet, anwenden. Die Basisfunktionen bauen rekursive auf den Basisfunktionen niedriger Ordnung auf. Daher haben wir für `order=2` die drei lokalen Basisfunktionen\n",
    "\n",
    "$$\\begin{split}\n",
    "\\varphi_0(x) & = 1-x\\\\\n",
    "\\varphi_1(x) & = x\\\\\n",
    "\\varphi_2(x) & = x\\,(1-x).\\end{split}$$"
   ]
  },
  {
   "cell_type": "code",
   "execution_count": 20,
   "metadata": {},
   "outputs": [],
   "source": [
    "from sympy.abc import x as symbx\n",
    "from sympy import lambdify"
   ]
  },
  {
   "cell_type": "code",
   "execution_count": 21,
   "metadata": {},
   "outputs": [],
   "source": [
    "order = 2"
   ]
  },
  {
   "cell_type": "code",
   "execution_count": 22,
   "metadata": {},
   "outputs": [],
   "source": [
    "def myshape(x,j):\n",
    "    if j == 0:\n",
    "        return 1-x\n",
    "    elif j == 1:\n",
    "        return x\n",
    "    else: \n",
    "        return x*(1-x)"
   ]
  },
  {
   "cell_type": "markdown",
   "metadata": {},
   "source": [
    "Als Zerlegung für das Gebiet nutzen wir nicht äquidistante Intervalle."
   ]
  },
  {
   "cell_type": "code",
   "execution_count": 23,
   "metadata": {},
   "outputs": [],
   "source": [
    "# Zerlegung des Gebiets\n",
    "n=5;a=0;b=1\n",
    "xi = a+(b-a)*(np.arctan(np.linspace(-1,1,n+1))-np.arctan(-1))/(2*np.arctan(1))\n",
    "h = xi[1:]-xi[:-1]"
   ]
  },
  {
   "cell_type": "markdown",
   "metadata": {},
   "source": [
    "Das lokal - global Mapping ist nun leicht unterschiedlich. Globale Basisfunktionen setzen sich aus den beiden ersten Basisfunktionen zusammen. Entsprechend gilt:"
   ]
  },
  {
   "cell_type": "code",
   "execution_count": 24,
   "metadata": {
    "scrolled": false
   },
   "outputs": [
    {
     "data": {
      "text/plain": [
       "array([[ 0,  1,  6],\n",
       "       [ 1,  2,  7],\n",
       "       [ 2,  3,  8],\n",
       "       [ 3,  4,  9],\n",
       "       [ 4,  5, 10]])"
      ]
     },
     "execution_count": 24,
     "metadata": {},
     "output_type": "execute_result"
    }
   ],
   "source": [
    "# lokal - global mapping\n",
    "N = n+1\n",
    "T = np.array([[i,i+1,n+1+i] for i in range(0,n)])\n",
    "T"
   ]
  },
  {
   "cell_type": "markdown",
   "metadata": {},
   "source": [
    "Die freien Freiheitsgrade sind in dem Fall gegeben durch"
   ]
  },
  {
   "cell_type": "code",
   "execution_count": 25,
   "metadata": {},
   "outputs": [
    {
     "data": {
      "text/plain": [
       "array([False,  True,  True,  True,  True, False,  True,  True,  True,\n",
       "        True,  True])"
      ]
     },
     "execution_count": 25,
     "metadata": {},
     "output_type": "execute_result"
    }
   ],
   "source": [
    "freedofs = np.ones(np.max(T)+1,dtype=bool)\n",
    "freedofs[0] = False # ohne Punkt 0 (linke Gebietsgrenze)\n",
    "freedofs[5] = False # ohne Punkt 6 (rechte Gebietsgrenze)\n",
    "freedofs"
   ]
  },
  {
   "cell_type": "markdown",
   "metadata": {},
   "source": [
    "Für die Intervall Längen gilt:"
   ]
  },
  {
   "cell_type": "code",
   "execution_count": 26,
   "metadata": {},
   "outputs": [
    {
     "data": {
      "text/plain": [
       "array([0.15595826, 0.21837582, 0.25133183, 0.21837582, 0.15595826])"
      ]
     },
     "execution_count": 26,
     "metadata": {},
     "output_type": "execute_result"
    }
   ],
   "source": [
    "h"
   ]
  },
  {
   "cell_type": "code",
   "execution_count": 27,
   "metadata": {
    "scrolled": false
   },
   "outputs": [
    {
     "data": {
      "image/png": "[encoded data removed]",
      "text/plain": [
       "<Figure size 432x288 with 1 Axes>"
      ]
     },
     "metadata": {
      "needs_background": "light"
     },
     "output_type": "display_data"
    }
   ],
   "source": [
    "col = ['tab:blue','tab:orange','tab:green','tab:red','tab:purple']\n",
    "for k in range(n):\n",
    "    plt.plot(xi[k]+ h[k]*xp, myshape(xp, 0),'-',c=col[k%5]) # lokale Basisfunktion 0 an globalen Kooridnaten\n",
    "    plt.plot(xi[k]+ h[k]*xp, myshape(xp, 1),'--',c=col[k%5])# lokale Basisfunktion 1\n",
    "    plt.plot(xi[k]+ h[k]*xp, myshape(xp, 2),'-.',c=col[k%5])# lokale Basisfunktion 2\n",
    "plt.legend([r'$\\varphi_0$',r'$\\varphi_1$',r'$\\varphi_2$'],loc=1)\n",
    "plt.plot(xi,np.zeros_like(xi),'*')\n",
    "plt.xlabel('$x_{global}$')\n",
    "plt.grid()\n",
    "plt.show()"
   ]
  },
  {
   "cell_type": "code",
   "execution_count": 28,
   "metadata": {
    "scrolled": true
   },
   "outputs": [],
   "source": [
    "Ae = np.array([[quad(lambdify(symbx,myshape(symbx,i).diff()*myshape(symbx,j).diff()),0,1)[0]\n",
    "                 for i in range(order+1)] for j in range(order+1)],dtype=float)"
   ]
  },
  {
   "cell_type": "markdown",
   "metadata": {},
   "source": [
    "Für die Elementsteifigkeitsmatrix folgt"
   ]
  },
  {
   "cell_type": "code",
   "execution_count": 29,
   "metadata": {
    "scrolled": true
   },
   "outputs": [
    {
     "data": {
      "text/plain": [
       "array([[ 1.    , -1.    ,  0.    ],\n",
       "       [-1.    ,  1.    , -0.    ],\n",
       "       [ 0.    , -0.    ,  0.3333]])"
      ]
     },
     "execution_count": 29,
     "metadata": {},
     "output_type": "execute_result"
    }
   ],
   "source": [
    "np.round(Ae,4)"
   ]
  },
  {
   "cell_type": "markdown",
   "metadata": {},
   "source": [
    "mit obiger Zerlegung:"
   ]
  },
  {
   "cell_type": "code",
   "execution_count": 30,
   "metadata": {},
   "outputs": [],
   "source": [
    "# Globale Steiffigkeitsmatrix\n",
    "A = np.zeros((2*n+1,2*n+1))\n",
    "\n",
    "# Loop über Elemente (Assembling)\n",
    "for i in range(n):\n",
    "    for j in range(order+1):\n",
    "        for k in range(order+1):\n",
    "            A[T[i,j],T[i,k]] += Ae[j,k]/h[i]"
   ]
  },
  {
   "cell_type": "markdown",
   "metadata": {},
   "source": [
    "Matrix mit allen Freiheitsgrade:"
   ]
  },
  {
   "cell_type": "code",
   "execution_count": 31,
   "metadata": {},
   "outputs": [
    {
     "data": {
      "image/png": "[encoded data removed]",
      "text/plain": [
       "<Figure size 432x288 with 1 Axes>"
      ]
     },
     "metadata": {
      "needs_background": "light"
     },
     "output_type": "display_data"
    }
   ],
   "source": [
    "plt.spy(A,markersize=7,)\n",
    "plt.grid()\n",
    "plt.show()"
   ]
  },
  {
   "cell_type": "markdown",
   "metadata": {},
   "source": [
    "Matrix mit den freien Freiheitsgrade:"
   ]
  },
  {
   "cell_type": "code",
   "execution_count": 32,
   "metadata": {},
   "outputs": [
    {
     "data": {
      "image/png": "[encoded data removed]",
      "text/plain": [
       "<Figure size 432x288 with 1 Axes>"
      ]
     },
     "metadata": {
      "needs_background": "light"
     },
     "output_type": "display_data"
    }
   ],
   "source": [
    "plt.spy(A[np.ix_(freedofs,freedofs)],markersize=7,)\n",
    "plt.grid()\n",
    "plt.show()"
   ]
  },
  {
   "cell_type": "code",
   "execution_count": 33,
   "metadata": {},
   "outputs": [
    {
     "data": {
      "text/plain": [
       "array([0.07797913, 0.18716704, 0.23485383, 0.23485383, 0.18716704,\n",
       "       0.07797913, 0.02599304, 0.03639597, 0.04188864, 0.03639597,\n",
       "       0.02599304])"
      ]
     },
     "execution_count": 33,
     "metadata": {},
     "output_type": "execute_result"
    }
   ],
   "source": [
    "from scipy.integrate import quad\n",
    "\n",
    "# Rechteseite der DGL\n",
    "def func(x):\n",
    "    return np.ones_like(x)\n",
    "\n",
    "# Koordinaten Transformation\n",
    "def sigma(t,i):\n",
    "    return xi[i]+t*h[i]\n",
    "\n",
    "def invsigma(x,i):\n",
    "    return (x-xi[i])/h[i]\n",
    "\n",
    "# Globale Vektor der Linearform\n",
    "f = np.zeros(2*n+1)\n",
    "\n",
    "# Loop über Elemente (Assembling)\n",
    "for i in range(n):\n",
    "    # berechne lokaler Vektor\n",
    "    fe = np.array([quad(lambda t: func(sigma(t,i))*myshape(t,j), 0,1)[0] for j in range(order+1)])\n",
    "    #for j in range(order+1):\n",
    "    f[T[i]] += h[i]*fe\n",
    "f"
   ]
  },
  {
   "cell_type": "markdown",
   "metadata": {},
   "source": [
    "Lösung des linearen Gleichungssystems für die freien Freiheitsgrade"
   ]
  },
  {
   "cell_type": "code",
   "execution_count": 34,
   "metadata": {},
   "outputs": [
    {
     "data": {
      "text/plain": [
       "array([0.        , 0.06581764, 0.11710404, 0.11710404, 0.06581764,\n",
       "       0.        , 0.01216149, 0.023844  , 0.03158385, 0.023844  ,\n",
       "       0.01216149])"
      ]
     },
     "execution_count": 34,
     "metadata": {},
     "output_type": "execute_result"
    }
   ],
   "source": [
    "ui = np.zeros(2*n+1)\n",
    "ui[freedofs] = np.linalg.solve(A[np.ix_(freedofs,freedofs)],f[freedofs])\n",
    "ui"
   ]
  },
  {
   "cell_type": "code",
   "execution_count": 35,
   "metadata": {},
   "outputs": [],
   "source": [
    "def visu(x,ui):\n",
    "    res = np.zeros_like(x)\n",
    "    for i in range(n):\n",
    "        if i < n-1:\n",
    "            ind = (xi[i]<=x)*(x<xi[i+1])\n",
    "        else:\n",
    "            ind = (xi[i]<=x)*(x<=xi[i+1])\n",
    "        for j in range(order+1):\n",
    "            # neue lokale Basis\n",
    "            res[ind] += ui[T[i,j]]*myshape(invsigma(x[ind],i),j)\n",
    "    return res"
   ]
  },
  {
   "cell_type": "code",
   "execution_count": 36,
   "metadata": {
    "scrolled": true
   },
   "outputs": [
    {
     "data": {
      "text/plain": [
       "<matplotlib.legend.Legend at 0x7fae41f00220>"
      ]
     },
     "execution_count": 36,
     "metadata": {},
     "output_type": "execute_result"
    },
    {
     "data": {
      "image/png": "[encoded data removed]",
      "text/plain": [
       "<Figure size 432x144 with 1 Axes>"
      ]
     },
     "metadata": {
      "needs_background": "light"
     },
     "output_type": "display_data"
    }
   ],
   "source": [
    "xp = np.linspace(0,1,400)\n",
    "fig, ax = plt.subplots(figsize=(6, 2))\n",
    "ax.plot(xp,visu(xp,ui),'-',label='FEM Lösung')\n",
    "ax.plot(xi,visu(xi,ui),'o')\n",
    "ax.plot(xp,uanalytic(xp),'--',label='exakte Lösung')\n",
    "ax.legend()\n",
    "plt.show()"
   ]
  },
  {
   "cell_type": "code",
   "execution_count": 37,
   "metadata": {},
   "outputs": [
    {
     "data": {
      "text/plain": [
       "[<matplotlib.lines.Line2D at 0x7fae440327f0>]"
      ]
     },
     "execution_count": 37,
     "metadata": {},
     "output_type": "execute_result"
    },
    {
     "data": {
      "image/png": "[encoded data removed]",
      "text/plain": [
       "<Figure size 432x144 with 1 Axes>"
      ]
     },
     "metadata": {
      "needs_background": "light"
     },
     "output_type": "display_data"
    }
   ],
   "source": [
    "xp = np.linspace(0,1,400)\n",
    "fig, ax = plt.subplots(figsize=(6, 2))\n",
    "ax.plot(xp,visu(xp,ui)-uanalytic(xp),'-')\n",
    "plt.show()"
   ]
  }
 ],
 "metadata": {
  "kernelspec": {
   "display_name": "Python 3",
   "language": "python",
   "name": "python3"
  },
  "language_info": {
   "codemirror_mode": {
    "name": "ipython",
    "version": 3
   },
   "file_extension": ".py",
   "mimetype": "text/x-python",
   "name": "python",
   "nbconvert_exporter": "python",
   "pygments_lexer": "ipython3",
   "version": "3.8.1"
  }
 },
 "nbformat": 4,
 "nbformat_minor": 4
}
