{
 "cells": [
  {
   "cell_type": "markdown",
   "metadata": {},
   "source": [
    "# Gradienten Verfahren"
   ]
  },
  {
   "cell_type": "markdown",
   "metadata": {},
   "source": [
    "Die Theorie folgt direkt dem [iFEM](https://github.com/JSchoeberl/iFEM/blob/master/iterative/gradientmethod.ipynb) Jupyter-Notebook, wobei wir für das Beispiel Dirichlet Randbedingungen implementieren."
   ]
  },
  {
   "cell_type": "markdown",
   "metadata": {},
   "source": [
    "In this section we assume that $A$ is SPD.\n",
    "\n",
    "\n",
    "We define the function $f : {\\mathbb R}^n \\rightarrow {\\mathbb R}$ as\n",
    "\n",
    "$$\n",
    "f(x) = \\tfrac{1}{2} x^T A x - b^T x.\n",
    "$$\n",
    "\n",
    "The gradient and Hessian matrix of $f$ are\n",
    "\n",
    "\\begin{eqnarray*}\n",
    "\\nabla f(x) & = & A x - b, \\\\\n",
    "\\nabla^2 f & = & A.\n",
    "\\end{eqnarray*}\n",
    "\n",
    "Since $A$ is positive definite, $f$ is convex and there exists a unique minimizer of\n",
    "\n",
    "$$\n",
    "\\min_{x \\in {\\mathbb R}} f(x)\n",
    "$$\n",
    "\n",
    "characterized by $\\nabla f = 0$, i.e. the solution of the linear system $A x = b$. Thus, the linear system is equivalent to the minimization problem.\n",
    "\n",
    "\n",
    "There holds\n",
    "\n",
    "$$\n",
    "f(x) = f(x^\\ast) + \\tfrac{1}{2} \\| x - x^\\ast \\|_A^2,\n",
    "$$\n",
    "\n",
    "which is simply verified by calculation:\n",
    "\n",
    "\\begin{eqnarray}\n",
    "f(x^\\ast) + \\tfrac{1}{2} \\| x - x^\\ast \\|_A^2  \n",
    "& = & \\tfrac{1}{2} {x^\\ast}^T A x^\\ast - b^T x^\\ast + \\tfrac{1}{2}(x - x^\\ast)^T A (x - x^\\ast) \\\\\n",
    "& = & x^\\ast A x^\\ast - b^T x^\\ast + \\tfrac{1}{2} x^T A x - x^T A x^\\ast \\\\\n",
    "& = & \\tfrac{1}{2} x^T A x - b^T x = f(x)\n",
    "\\end{eqnarray}\n",
    "\n",
    "The error in energy norm is directly related to the distance to the minimum."
   ]
  },
  {
   "cell_type": "markdown",
   "metadata": {},
   "source": [
    "We apply the gradient method. The next iterate $x^{k+1}$ is obtained by moving from $x^k$ into the direction of the negative gradient:\n",
    "\n",
    "\\begin{eqnarray*}\n",
    "x^{k+1} & = & x^k - \\alpha \\nabla f(x^k) \\\\\n",
    "& = & x^k + \\alpha r \\qquad \\text{with} \\qquad r = b - A x^k\n",
    "\\end{eqnarray*}\n",
    "\n",
    "The optimal parameter $\\alpha$ can be obtained by line-search:\n",
    "\n",
    "$$\n",
    "\\min_{\\alpha \\in {\\mathbb R}} f(x^k + \\alpha r)\n",
    "$$\n",
    "\n",
    "i.e.\n",
    "\n",
    "$$\n",
    "\\min_\\alpha \\tfrac{1}{2} (x^k + \\alpha r)^T A (x^k + \\alpha r) - b^T (x^k + \\alpha r)\n",
    "$$\n",
    "\n",
    "what is a minimization problem of a convex, quadratic function\n",
    "\n",
    "$$\n",
    "\\min_{\\alpha \\in {\\mathbb R}} \\tfrac{1}{2} r^T A r \\, \\alpha^2 - (b-A x^k)^T r \\, \\alpha + \\tfrac{1}{2} {x^k}^T A x^k - b^T x^k\n",
    "$$ \n",
    "\n",
    "The optimal value $\\alpha_\\text{opt}$ is given by\n",
    "$$\n",
    "\\alpha_\\text{opt} = \\frac{r^T r}{r^T A r}\n",
    "$$"
   ]
  },
  {
   "cell_type": "markdown",
   "metadata": {},
   "source": [
    "The gradient method looks like:\n",
    "\n",
    "Given $x^0$ <br>\n",
    "for $k = 0, 1, 2, \\ldots$ <br>\n",
    "$\\qquad r = b - A x^k$ <br>\n",
    "$\\qquad \\alpha = \\frac{r^T r}{r^T A r}$ <br>\n",
    "$\\qquad x^{k+1} = x^k + \\alpha r$ <br>\n",
    "\n",
    "In this version, one needs two matrix-vector products with $A$. By updating the residual one can avoid the second product:\n",
    "\n",
    "Given $x^0$ <br>\n",
    "$r^0 = b - A x^0$ <br>\n",
    "for $k = 0, 1, 2, \\ldots$ <br>\n",
    "$\\qquad p = A r^k$ <br>\n",
    "$\\qquad \\alpha = \\frac{{r^k}^T r^k}{{r^k}^T p}$ <br>\n",
    "$\\qquad x^{k+1} = x^k + \\alpha r^k$ <br>\n",
    "$\\qquad r^{k+1} = r^k - \\alpha p$ <br>"
   ]
  },
  {
   "cell_type": "markdown",
   "metadata": {},
   "source": [
    "## Anwendung auf Modellproblem"
   ]
  },
  {
   "cell_type": "markdown",
   "metadata": {},
   "source": [
    "Wir wenden das Verfahren auf das Modellproblem\n",
    "\n",
    "$$\\begin{split}\n",
    "-\\Delta u + 10\\, u & = 1\\quad x\\in\\Omega = [0,1]^2\\\\\n",
    "u & = 0\\quad x \\in \\partial\\Omega\\end{split}$$\n",
    "\n",
    "an."
   ]
  },
  {
   "cell_type": "code",
   "execution_count": 43,
   "metadata": {},
   "outputs": [],
   "source": [
    "from ngsolve import *\n",
    "from netgen.geom2d import unit_square\n",
    "from ngsolve.webgui import Draw\n",
    "import matplotlib.pyplot as plt\n",
    "from myst_nb import glue"
   ]
  },
  {
   "cell_type": "markdown",
   "metadata": {},
   "source": [
    "Diskretierung der schwachen Gleichung mit FEM 1. Ordnung:"
   ]
  },
  {
   "cell_type": "code",
   "execution_count": 44,
   "metadata": {},
   "outputs": [],
   "source": [
    "mesh = Mesh(unit_square.GenerateMesh(maxh=0.1))\n",
    "fes = H1(mesh, order=1, dirichlet='bottom|right|top|left')\n",
    "u,v = fes.TnT()\n",
    "a = BilinearForm(grad(u)*grad(v)*dx+10*u*v*dx).Assemble()\n",
    "f = LinearForm(1*v*dx).Assemble()\n",
    "gfu = GridFunction(fes)"
   ]
  },
  {
   "cell_type": "markdown",
   "metadata": {},
   "source": [
    "Wir nutzen das CSR Modul von `scipy` um das reduzierte Problem für die freien Freiheitsgrade zu lösen."
   ]
  },
  {
   "cell_type": "code",
   "execution_count": 45,
   "metadata": {},
   "outputs": [],
   "source": [
    "import scipy.sparse as sp\n",
    "import numpy as np\n",
    "from numpy.linalg import norm"
   ]
  },
  {
   "cell_type": "markdown",
   "metadata": {},
   "source": [
    "Für die reduzierte Systemmatrix folgt"
   ]
  },
  {
   "cell_type": "code",
   "execution_count": 46,
   "metadata": {},
   "outputs": [],
   "source": [
    "rows,cols,vals = a.mat.COO()\n",
    "ind = np.arange(fes.ndof)[np.array(fes.FreeDofs())]\n",
    "\n",
    "# Reduktion auf die freien Freiheitsgrade der Systemmatrix\n",
    "A = sp.csr_matrix((vals,(rows,cols)))\n",
    "A = A[np.ix_(ind,ind)]\n",
    "# Reduktion auf die freien Freiheitsgrade der rechten Seite\n",
    "fd = np.array(f.vec)[ind]"
   ]
  },
  {
   "cell_type": "code",
   "execution_count": 49,
   "metadata": {},
   "outputs": [
    {
     "name": "stdout",
     "output_type": "stream",
     "text": [
      "needed 199 iterations\n"
     ]
    }
   ],
   "source": [
    "sol = np.zeros(fes.ndof)\n",
    "r = np.array(fd)\n",
    "err0 = norm(r)\n",
    "errs = []\n",
    "its = 0\n",
    "while True:\n",
    "    p = A @ r\n",
    "    err2 = np.dot(r,r)\n",
    "    err = sqrt(err2)\n",
    "    errs.append(err)\n",
    "    alpha = err2 / np.dot(r,p)\n",
    "    \n",
    "    #print (\"iteration\", its, \"res=\", err)\n",
    "    sol[ind] += alpha * r\n",
    "    r -= alpha * p\n",
    "    if sqrt(err2) < 1e-8 * err0 or its > 10000: break\n",
    "    its += 1\n",
    "print (\"needed\", its, \"iterations\")"
   ]
  },
  {
   "cell_type": "code",
   "execution_count": 50,
   "metadata": {},
   "outputs": [
    {
     "data": {
      "application/papermill.record/image/png": "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\n",
      "application/papermill.record/text/plain": "<Figure size 432x288 with 1 Axes>"
     },
     "metadata": {
      "scrapbook": {
       "mime_prefix": "application/papermill.record/",
       "name": "FEM_GradientenVerfahren_fig"
      }
     },
     "output_type": "display_data"
    },
    {
     "data": {
      "image/png": "[encoded data removed]",
      "text/plain": [
       "<Figure size 432x288 with 1 Axes>"
      ]
     },
     "metadata": {
      "needs_background": "light"
     },
     "output_type": "display_data"
    }
   ],
   "source": [
    "fig, ax = plt.subplots()\n",
    "ax.loglog(errs)\n",
    "ax.grid()\n",
    "ax.set_title('Gradienten Verfahren: '+str(its)+' iterationen')\n",
    "ax.set_xlabel('Iteration')\n",
    "ax.set_ylabel('Residuum')\n",
    "glue(\"FEM_GradientenVerfahren_fig\", fig, display=False)"
   ]
  },
  {
   "cell_type": "markdown",
   "metadata": {},
   "source": [
    "We observe that the gradient method converges similar fast as the Richardson iteration, but without the need of a good chosen relaxation parameter $\\alpha$.\n",
    "\n",
    "The comparison to Richardson iteration allows also to estimate the error reduction of the gradient method. Let \n",
    "$$\n",
    "\\tilde x^{k+1} = x^k - \\alpha_\\text{Rich} (b - A x^k)\n",
    "$$\n",
    "be one step of Richardson. Then\n",
    "\n",
    "$$\n",
    "\\| x^{k+1} - x^\\ast \\|_A^2 = 2 \\, (f(x^{k+1}) - f(x^\\ast)) \n",
    "\\leq 2 \\, ( f (\\tilde x^{k+1}) - f(x^\\ast) ) = \\| \\tilde x^{k+1} - x^\\ast \\|_A^2\n",
    "$$\n",
    "\n",
    "One step of the gradient method reduces the error (measured in energy norm) at least as much as one step of the Richardson method."
   ]
  },
  {
   "cell_type": "code",
   "execution_count": 51,
   "metadata": {},
   "outputs": [
    {
     "data": {
      "application/vnd.jupyter.widget-view+json": {
       "model_id": "3e6b96dbaa264287b7bdba3514f2e6ea",
       "version_major": 2,
       "version_minor": 0
      },
      "text/plain": [
       "WebGuiWidget(value={'ngsolve_version': '6.2.2104-121-gee6902d12', 'mesh_dim': 2, 'order2d': 2, 'order3d': 2, '…"
      ]
     },
     "metadata": {},
     "output_type": "display_data"
    },
    {
     "data": {
      "text/plain": [
       "BaseWebGuiScene"
      ]
     },
     "execution_count": 51,
     "metadata": {},
     "output_type": "execute_result"
    }
   ],
   "source": [
    "gfu.vec[:] = sol\n",
    "Draw(gfu,mesh,'u')"
   ]
  }
 ],
 "metadata": {
  "kernelspec": {
   "display_name": "Python 3",
   "language": "python",
   "name": "python3"
  },
  "language_info": {
   "codemirror_mode": {
    "name": "ipython",
    "version": 3
   },
   "file_extension": ".py",
   "mimetype": "text/x-python",
   "name": "python",
   "nbconvert_exporter": "python",
   "pygments_lexer": "ipython3",
   "version": "3.8.1"
  }
 },
 "nbformat": 4,
 "nbformat_minor": 4
}
