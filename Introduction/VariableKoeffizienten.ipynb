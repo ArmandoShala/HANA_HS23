{
 "cells": [
  {
   "cell_type": "markdown",
   "metadata": {},
   "source": [
    "# Variable Koeffizienten"
   ]
  },
  {
   "cell_type": "markdown",
   "metadata": {},
   "source": [
    "Das folgende Beispiel folgt dem analogen aus dem interaktiven Kurs von Joachim Schöberl {cite}`schoeberliFEM`.$\\DeclareMathOperator{\\opdiv}{div}$ $\\DeclareMathOperator{\\setR}{R}$"
   ]
  },
  {
   "cell_type": "code",
   "execution_count": 1,
   "metadata": {},
   "outputs": [],
   "source": [
    "from ngsolve import *\n",
    "from ngsolve.webgui import Draw"
   ]
  },
  {
   "cell_type": "markdown",
   "metadata": {},
   "source": [
    "## Problem\n",
    "\n",
    "Ein Setup mit unterschiedlicher Wärmeleitungskoeffizienten wir mit Hilfe der Gleichung\n",
    "\n",
    "$$\n",
    "-\\opdiv \\lambda(x) \\nabla u(x) = f(x)\n",
    "$$\n",
    "\n",
    "modelliert, wobei $\\lambda=\\lambda(x)$ der ortsabhängige Wärmeleitungskoeffizient ist. Der zugehörige Wärmefluss  \n",
    "\n",
    "$$\n",
    "q = -\\lambda \\nabla u\n",
    "$$\n",
    "\n",
    "ist gegeben durch den Gradient der Temperatur $\\nabla u$. Im Fall, dass $\\lambda$ diskontinuierlich ist, wird die Gleichung im Sinne von Distributionen verstanden. Dies beinhaltet Interface Bedingungen: Die Temperatur auf der linken und rechten Seite sind gleich und der Wärmefluss der linken in die rechte Seite müssen gleich gross sein:  \n",
    "\n",
    "$$\\begin{split}\n",
    "u_l & = & u_r \\\\\n",
    "\\lambda_l \\frac{\\partial u_r}{\\partial n} & = & \\lambda_r \\frac{\\partial u_r}{\\partial n}\n",
    "\\end{split}$$\n",
    "\n",
    "Die variationelle Form des Problems ist gegeben durch: finde $u \\in H^1(\\Omega)$ mit\n",
    "\n",
    "$$\n",
    "\\int_\\Omega \\lambda(x) \\nabla u \\nabla v dx = \\int_\\Omega f v dx\n",
    "$$\n",
    "\n",
    "Diskontinuierliche Koeffizienten bilden kein Problem. Beide Interface Bedingungen werden erfüllt:\n",
    "* Stetigkeit der Temperatur $u$ durch die Stetigkeit der Ansatzfunktionenraumes\n",
    "* Stetigkeit des Wärmeflusses in einem schwachen Sinne, durch Neumann Randbedingungen."
   ]
  },
  {
   "cell_type": "markdown",
   "metadata": {},
   "source": [
    "## Geometrie und Mesh"
   ]
  },
  {
   "cell_type": "code",
   "execution_count": 2,
   "metadata": {
    "scrolled": true
   },
   "outputs": [
    {
     "data": {
      "application/vnd.jupyter.widget-view+json": {
       "model_id": "4d07c8264e8542268aeb30bb264dfebb",
       "version_major": 2,
       "version_minor": 0
      },
      "text/plain": [
       "WebGuiWidget(value={'ngsolve_version': '6.2.2104-81-gc767972b4', 'mesh_dim': 2, 'order2d': 2, 'order3d': 2, 'd…"
      ]
     },
     "metadata": {},
     "output_type": "display_data"
    },
    {
     "data": {
      "text/plain": [
       "BaseWebGuiScene"
      ]
     },
     "execution_count": 2,
     "metadata": {},
     "output_type": "execute_result"
    }
   ],
   "source": [
    "from netgen.geom2d import *\n",
    "geo = SplineGeometry()\n",
    "geo.AddRectangle( (0,0), (1,1), leftdomain=1, rightdomain=0, \n",
    "                 bcs=['b','r','t','l'])\n",
    "geo.AddCircle( (0.3,0.7), 0.1, leftdomain=2, rightdomain=1)\n",
    "geo.AddRectangle ( (0.2,0.2), (0.9,0.3), leftdomain=3, rightdomain=1)\n",
    "geo.SetMaterial(1, \"air\")\n",
    "geo.SetMaterial(2, \"source\")\n",
    "geo.SetMaterial(3, \"bar\")\n",
    "\n",
    "mesh = Mesh(geo.GenerateMesh(maxh=0.03))\n",
    "mesh.Curve(3)\n",
    "Draw (mesh,)"
   ]
  },
  {
   "cell_type": "markdown",
   "metadata": {},
   "source": [
    "Die Subdomains (Materials) sind gegeben durch:"
   ]
  },
  {
   "cell_type": "code",
   "execution_count": 3,
   "metadata": {
    "scrolled": true
   },
   "outputs": [
    {
     "name": "stdout",
     "output_type": "stream",
     "text": [
      "('air', 'source', 'bar')\n"
     ]
    }
   ],
   "source": [
    "print (mesh.GetMaterials())"
   ]
  },
  {
   "cell_type": "markdown",
   "metadata": {},
   "source": [
    "Die Geometrie hat folgende Ränder (innere und äussere):"
   ]
  },
  {
   "cell_type": "code",
   "execution_count": 4,
   "metadata": {},
   "outputs": [
    {
     "name": "stdout",
     "output_type": "stream",
     "text": [
      "('b', 'r', 't', 'l', 'default', 'default', 'default', 'default', 'default', 'default', 'default', 'default')\n"
     ]
    }
   ],
   "source": [
    "print (mesh.GetBoundaries())"
   ]
  },
  {
   "cell_type": "code",
   "execution_count": 5,
   "metadata": {},
   "outputs": [],
   "source": [
    "V = H1(mesh, order=3, dirichlet=\"b|r\")\n",
    "u = V.TrialFunction()\n",
    "v = V.TestFunction()"
   ]
  },
  {
   "cell_type": "markdown",
   "metadata": {},
   "source": [
    "Wir definieren nun das Material in dem wir den Wärmekoeffizient stückweise konstant ansetzen:"
   ]
  },
  {
   "cell_type": "code",
   "execution_count": 6,
   "metadata": {},
   "outputs": [
    {
     "data": {
      "application/vnd.jupyter.widget-view+json": {
       "model_id": "57c32bfc014c4b76807f711ec10a6dbd",
       "version_major": 2,
       "version_minor": 0
      },
      "text/plain": [
       "WebGuiWidget(value={'ngsolve_version': '6.2.2104-81-gc767972b4', 'mesh_dim': 2, 'order2d': 2, 'order3d': 2, 'd…"
      ]
     },
     "metadata": {},
     "output_type": "display_data"
    },
    {
     "data": {
      "text/plain": [
       "BaseWebGuiScene"
      ]
     },
     "execution_count": 6,
     "metadata": {},
     "output_type": "execute_result"
    }
   ],
   "source": [
    "lamvalues = { \"air\" : 1, \"bar\" : 1e2, \"source\" : 2 }\n",
    "lam = CoefficientFunction( \n",
    "    [lamvalues[mat] for mat in mesh.GetMaterials()])\n",
    "Draw (log(lam), mesh, \"log lambda\")"
   ]
  },
  {
   "cell_type": "markdown",
   "metadata": {},
   "source": [
    "Wir nützen die Wärmeleitfähigkeit für die Definition der Bilinearform:"
   ]
  },
  {
   "cell_type": "code",
   "execution_count": 7,
   "metadata": {},
   "outputs": [
    {
     "data": {
      "text/plain": [
       "<ngsolve.comp.LinearForm at 0x7fc021d32d30>"
      ]
     },
     "execution_count": 7,
     "metadata": {},
     "output_type": "execute_result"
    }
   ],
   "source": [
    "a = BilinearForm(V)\n",
    "a += lam*grad(u)*grad(v)*dx\n",
    "\n",
    "f = LinearForm(V)\n",
    "f += 1*v*dx(\"source\")\n",
    "a.Assemble()\n",
    "f.Assemble()"
   ]
  },
  {
   "cell_type": "markdown",
   "metadata": {},
   "source": [
    "und lösen das System:"
   ]
  },
  {
   "cell_type": "code",
   "execution_count": 8,
   "metadata": {},
   "outputs": [],
   "source": [
    "gfu = GridFunction(V)\n",
    "gfu.vec.data = a.mat.Inverse(V.FreeDofs()) * f.vec"
   ]
  },
  {
   "cell_type": "markdown",
   "metadata": {},
   "source": [
    "Für die Wärmeverteilung erhalten wir:"
   ]
  },
  {
   "cell_type": "code",
   "execution_count": 9,
   "metadata": {},
   "outputs": [
    {
     "data": {
      "application/vnd.jupyter.widget-view+json": {
       "model_id": "5d2ded48d5834b25b2b9241a2c21765c",
       "version_major": 2,
       "version_minor": 0
      },
      "text/plain": [
       "WebGuiWidget(value={'ngsolve_version': '6.2.2104-81-gc767972b4', 'mesh_dim': 2, 'order2d': 2, 'order3d': 2, 'd…"
      ]
     },
     "metadata": {},
     "output_type": "display_data"
    },
    {
     "data": {
      "text/plain": [
       "BaseWebGuiScene"
      ]
     },
     "execution_count": 9,
     "metadata": {},
     "output_type": "execute_result"
    }
   ],
   "source": [
    "Draw (gfu, mesh, \"temperature\")"
   ]
  },
  {
   "cell_type": "markdown",
   "metadata": {},
   "source": [
    "Für den Gradient der Wärmeverteilung $\\nabla u$"
   ]
  },
  {
   "cell_type": "code",
   "execution_count": 10,
   "metadata": {
    "scrolled": false
   },
   "outputs": [
    {
     "data": {
      "application/vnd.jupyter.widget-view+json": {
       "model_id": "4d6868ad9eeb4439bc73383eed4991a3",
       "version_major": 2,
       "version_minor": 0
      },
      "text/plain": [
       "WebGuiWidget(value={'ngsolve_version': '6.2.2104-81-gc767972b4', 'mesh_dim': 2, 'order2d': 2, 'order3d': 2, 'd…"
      ]
     },
     "metadata": {},
     "output_type": "display_data"
    },
    {
     "data": {
      "text/plain": [
       "BaseWebGuiScene"
      ]
     },
     "execution_count": 10,
     "metadata": {},
     "output_type": "execute_result"
    }
   ],
   "source": [
    "Draw (grad(gfu), mesh, \"gradient\",vectors=grad(gfu))"
   ]
  },
  {
   "cell_type": "markdown",
   "metadata": {},
   "source": [
    "und für den Wärmefluss $-\\lambda \\nabla u$:"
   ]
  },
  {
   "cell_type": "code",
   "execution_count": 11,
   "metadata": {},
   "outputs": [
    {
     "data": {
      "application/vnd.jupyter.widget-view+json": {
       "model_id": "526f59b957264cc18e1b9d5f9b153a81",
       "version_major": 2,
       "version_minor": 0
      },
      "text/plain": [
       "WebGuiWidget(value={'ngsolve_version': '6.2.2104-81-gc767972b4', 'mesh_dim': 2, 'order2d': 2, 'order3d': 2, 'd…"
      ]
     },
     "metadata": {},
     "output_type": "display_data"
    },
    {
     "data": {
      "text/plain": [
       "BaseWebGuiScene"
      ]
     },
     "execution_count": 11,
     "metadata": {},
     "output_type": "execute_result"
    }
   ],
   "source": [
    "Draw (-lam*grad(gfu), mesh, \"heatflux\")"
   ]
  },
  {
   "cell_type": "code",
   "execution_count": null,
   "metadata": {},
   "outputs": [],
   "source": []
  }
 ],
 "metadata": {
  "jupytext": {
   "formats": "ipynb,md:myst"
  },
  "kernelspec": {
   "display_name": "Python 3",
   "language": "python",
   "name": "python3"
  },
  "language_info": {
   "codemirror_mode": {
    "name": "ipython",
    "version": 3
   },
   "file_extension": ".py",
   "mimetype": "text/x-python",
   "name": "python",
   "nbconvert_exporter": "python",
   "pygments_lexer": "ipython3",
   "version": "3.8.1"
  }
 },
 "nbformat": 4,
 "nbformat_minor": 4
}
